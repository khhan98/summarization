{
 "cells": [
  {
   "cell_type": "markdown",
   "id": "98527646-06a3-4bc0-94f5-bf41a407025a",
   "metadata": {},
   "source": [
    "# Text Summarization: 03a. modeling with pretrained model"
   ]
  },
  {
   "cell_type": "markdown",
   "id": "029866f2-c4b1-4281-8d4f-ef04c620b2d1",
   "metadata": {},
   "source": [
    "## Import libraries"
   ]
  },
  {
   "cell_type": "code",
   "execution_count": 1,
   "id": "24955666-c2e7-468c-b958-0d252710a771",
   "metadata": {},
   "outputs": [],
   "source": [
    "import os\n",
    "from datasets import DatasetDict, load_from_disk\n",
    "from matplotlib import pyplot as plt\n",
    "import pandas as pd\n",
    "from transformers import AutoTokenizer, AutoModelForSeq2SeqLM, GenerationConfig\n",
    "import torch"
   ]
  },
  {
   "cell_type": "code",
   "execution_count": 2,
   "id": "fef7a0ab-42fc-40a8-a7ee-3cc1a974155e",
   "metadata": {},
   "outputs": [],
   "source": [
    "# set variables\n",
    "SEED = 1234\n",
    "curr_path = os.getcwd()\n",
    "path_raw = os.path.join(curr_path, '../data/raw', 'bill_summary_us')\n",
    "# dataset_name = 'vgoldberg/longform_article_summarization'\n",
    "dataset_name = 'dreamproit/bill_summary_us'\n",
    "path_preprocessed = os.path.join(curr_path, '../data/preprocessed', 'bill_summary_us_single_section')\n",
    "\n",
    "path_predictions = os.path.join(\n",
    "    curr_path, '../models/', \n",
    "    'flan_t5_base_pretrained', \n",
    "    'predictions', 'bill_summary_us_single_section'\n",
    ")\n",
    "\n",
    "max_input_length = 1024\n",
    "max_target_length = 512\n",
    "\n",
    "num_beams = 5\n",
    "max_summary_ratio = 1.0"
   ]
  },
  {
   "cell_type": "markdown",
   "id": "fba19bec-64c2-49ad-9426-69216319983e",
   "metadata": {},
   "source": [
    "## Helper Functions"
   ]
  },
  {
   "cell_type": "code",
   "execution_count": 13,
   "id": "63f4b2b4-b043-4bb4-8f50-e9a8a60a1c21",
   "metadata": {},
   "outputs": [],
   "source": [
    "def print_example(example: dict) -> None:\n",
    "    \"\"\"Print example.\n",
    "    :param example: dict, example.\n",
    "    \"\"\"\n",
    "    print(' '.join(['=' * 10, 'text', '=' * 10]))\n",
    "    print(example['text'])\n",
    "    print(' '.join(['=' * 10, 'summary', '=' * 10]))\n",
    "    print(example['summary'])    \n",
    "\n",
    "\n",
    "def remove_missing_data(example: dict, col_list: list[str]) -> bool:\n",
    "    \"\"\"Remove missing data.\n",
    "    :param example: dict, example.\n",
    "    :param col_list, list[str], list of columns.\n",
    "    :return: bool, whether valid (True) or missing data (False). \n",
    "    \"\"\"\n",
    "    flag_value = True\n",
    "    for col in col_list:\n",
    "        flag_value = flag_value and example[col] is not None\n",
    "    return flag_value\n",
    "\n",
    "\n",
    "def count_words(example: dict, col_list: list[str]) -> dict:    \n",
    "    \"\"\"Count words.\n",
    "    :param example: dict, example.\n",
    "    :param col_list, list[str], list of columns.\n",
    "    :return: dict, count dictionary with prefix `count_`.\n",
    "    \"\"\"\n",
    "    count_dict = {}\n",
    "    for col_name in col_list:\n",
    "        col_count = '_'.join(['count', col_name])\n",
    "        word_count = len(example[col_name].split())\n",
    "        count_dict[col_count] = word_count\n",
    "    return count_dict\n",
    "\n",
    "\n",
    "def process_tab(example: dict, col: str) -> dict:    \n",
    "    \"\"\"Process tab. Remove triple tabs then replace a tab with space.\n",
    "    :param example: dict, example.\n",
    "    :param col: str, column name to process.\n",
    "    :return, dict, processed example.\n",
    "    \"\"\"\n",
    "    example[col] = example[col].replace('\\t\\t\\t', '').replace('\\t', ' ')\n",
    "    return example\n",
    "\n",
    "\n",
    "def plot_text_length(df: pd.DataFrame, col_list: list[str]) -> tuple:\n",
    "    \"\"\"Plot historgram of text length.\n",
    "    :param df, pd.DataFrame, input dataframe.\n",
    "    :param col_list: list[str], a list of column names.\n",
    "    :return: tuple, (fig, axis_tuple).\n",
    "        - fig: matplotlib.figure, figure handle.\n",
    "        - axis_tuple: tuple[matplotlib.axes.Axes], a tuple of axes.\n",
    "    \"\"\"\n",
    "    num_col = len(col_list)\n",
    "    fig, axis_tuple = plt.subplots(nrows=1, ncols=num_col, figsize=[6.4 * num_col, 4.8])\n",
    "    for idx, col in enumerate(col_list):\n",
    "        ax = axis_tuple[idx]\n",
    "        _ = df.plot(y=col, kind='hist', bins=100, ax=ax)  \n",
    "\n",
    "    return fig, axis_tuple\n",
    "\n",
    "\n",
    "def find_outliers_cutoff(df: pd.DataFrame, scale: float = 1.5) -> dict[tuple]:\n",
    "    \"\"\"Find outliers cutoff.\n",
    "    :param df, pd.DataFrame, input dataframe.\n",
    "    :param scale: float, scale factor for IQR to define whiskter. Default: 1.5.\n",
    "    :return: dict[tuple], a dictionary of lower and upper cutoff for each column.\n",
    "    \"\"\"\n",
    "    # upper, lower whisker: pd.Series\n",
    "    q3 = df.quantile(q=0.75)\n",
    "    q1 = df.quantile(q=0.25)\n",
    "    iqr = q3 - q1\n",
    "    upper = q3 + scale * iqr\n",
    "    lower = q1 - scale * iqr\n",
    "    \n",
    "    upper_dict = upper.to_dict()\n",
    "    lower_dict = lower.to_dict()\n",
    "    cutoff_dict = {}\n",
    "    for key in upper_dict:\n",
    "        cutoff_dict[key] = (lower_dict[key], upper_dict[key])\n",
    "    return cutoff_dict    \n",
    "\n",
    "\n",
    "def remove_outliers(example: dict, col_list: list, cutoff_dict: dict[tuple]) -> bool:\n",
    "    \"\"\"Remove outliers.\n",
    "    :param example: dict, example.\n",
    "    :param col_list, list[str], list of columns.\n",
    "    :param cutoff_dict: dict[tuple], a dictionary of lower and upper cutoff for each column.\n",
    "    :return: bool, whether valid (True) or outliers (False).\n",
    "    \"\"\"\n",
    "    flag_val = True\n",
    "    for col in col_list:\n",
    "        cutoff_low, cutoff_high = cutoff_dict[col]\n",
    "        flag_val = flag_val and cutoff_low <= example[col] <= cutoff_high\n",
    "    return flag_val\n",
    "\n",
    "\n",
    "def create_prompt(example: dict, col_text: str, prompt_prefix: str) -> dict:\n",
    "    \"\"\"Creat prompt with prompt prefix.\n",
    "    :param example: dict, example.\n",
    "    :param col_text: str, column for text.\n",
    "    :param prompt_prefix: str, prompt prefix for instruction.\n",
    "    :return: dict, example with prompt column.\n",
    "    \"\"\"\n",
    "    example['prompt'] = f'{prompt_prefix}: {example[col_text]}'\n",
    "    return example\n",
    "\n",
    "\n",
    "#  build system to tokenize\n",
    "def tokenize_example(\n",
    "    example: dict, tokenizer: AutoTokenizer, col_prompt: str, col_summary: str, \n",
    "    max_input_length: int, max_target_length: int\n",
    ") -> dict: \n",
    "    \"\"\"Tokenize example.\n",
    "    :param example: dict, example.\n",
    "    :param tokenizer: transformers.AutoTokenizer, tokenizer.\n",
    "    :param col_prompt: str, column name for prompt.\n",
    "    :param col_summary: str, column name for summary (target)\n",
    "    :param max_input_length: int, maximum input token length. \n",
    "    :param max_target_length: int, maximum target token length. \n",
    "    :return: dict, tokens for input ('input_ids') and target ('label').\n",
    "    \"\"\"\n",
    "    model_input = tokenizer(\n",
    "        example[col_prompt], \n",
    "        max_length=max_input_length, \n",
    "        truncation=True,\n",
    "        # return_tensors='pt',\n",
    "    )\n",
    "    label = tokenizer(\n",
    "        # example[col_summary], \n",
    "        text_target=example[col_summary],  \n",
    "        max_length=max_target_length, \n",
    "        truncation=True,\n",
    "        # return_tensors='pt',\n",
    "    )\n",
    "    model_input['label'] = label['input_ids']\n",
    "    return model_input\n",
    "\n",
    "\n",
    "def count_tokens(example: dict, col_list: list[str]) -> dict:    \n",
    "    \"\"\"Count tokens.\n",
    "    :param example: dict, example.\n",
    "    :param col_list: list[str], a list of column names.\n",
    "    :return: dict, token counts with prefix 'count_tokens_'\n",
    "    \"\"\"\n",
    "    count_dict = {}\n",
    "    for col_name in col_list:\n",
    "        col_count = '_'.join(['count_tokens', col_name])\n",
    "        word_count = len(example[col_name])\n",
    "        # print(type(example['text']))  # str\n",
    "        # example[col_count] = len(example['text'].split())\n",
    "        count_dict[col_count] = word_count\n",
    "    return count_dict\n",
    "\n",
    "\n",
    "def preprocessing(ds, col_names, cutoff_dict, col_for_count, tokenizer, max_input_length, max_target_length):   \n",
    "    ds_preprocessed = ( \n",
    "        # 1. remove missing\n",
    "        ds.filter(remove_missing_data, fn_kwargs={'col_list': col_names})\n",
    "        \n",
    "        # 2. filtering\n",
    "        # select only 1 section\n",
    "        .filter(lambda example: example['sections_length'] == 1, num_proc=12)\n",
    "        # remove any zero text length, summary_length\n",
    "        .filter(lambda example: example['text_length'] > 0, num_proc=12)\n",
    "        .filter(lambda example: example['summary_length'] > 0, num_proc=12)\n",
    "        # text_length_outliers, summary_length_outliers\n",
    "        .filter(remove_outliers, fn_kwargs={'col_list': list(cutoff_dict.keys()), 'cutoff_dict': cutoff_dict}, num_proc=12)\n",
    "\n",
    "        # count words\n",
    "        .map(count_words, fn_kwargs={'col_list': col_for_count}, num_proc=12)\n",
    "        \n",
    "        # remove \\t\\t\\t, and replace \\t with ' '\n",
    "        .map(process_tab, fn_kwargs={'col': 'text'}, num_proc=12)\n",
    "        \n",
    "        # create prompt\n",
    "        .map(create_prompt, fn_kwargs={'col_text': 'text', 'prompt_prefix': 'summarize'}, num_proc=12)\n",
    "        \n",
    "        # tokenize: need to specify max_input_length, when number of tokens is greater than default limit (512)\n",
    "        .map(\n",
    "            tokenize_example, \n",
    "            fn_kwargs={\n",
    "                'tokenizer': tokenizer, 'col_prompt': 'prompt', 'col_summary': 'summary', \n",
    "                'max_input_length': max_input_length, 'max_target_length': max_target_length, \n",
    "            },\n",
    "            batched=True, \n",
    "            batch_size=500,\n",
    "            num_proc=12,\n",
    "        )\n",
    "\n",
    "        # count tokens\n",
    "        .map(count_tokens, fn_kwargs={'col_list': ['input_ids', 'label']}, num_proc=12)\n",
    "    )\n",
    "    return ds_preprocessed\n",
    "\n",
    "\n",
    "def inference(\n",
    "    example: dict, tokenizer: AutoTokenizer, model: AutoModelForSeq2SeqLM, \n",
    "    num_beams: int = 5, max_summary_ratio: float = 1.0, device: str = 'cpu'\n",
    ") -> dict:\n",
    "    \"\"\"Make inference.\n",
    "    :param example: dict, example.\n",
    "    :param tokenizer: transformers.AutoTokenizer, tokenizer.\n",
    "    :param model: transformers.AutoModelForSeq2SeqLM, model.\n",
    "    :param num_beams: int, the number of beams for beam search. Default: 5.\n",
    "    :param max_summary_ratio: float, the maximum summary to text ratio. Default: 1.\n",
    "    :param device: str, device to make an inference.\n",
    "    :return: dict, prediction with 'predicted_tokens' and 'prediction' columns.\n",
    "    \"\"\"\n",
    "    # convert dataset into tensor, need to put another dimension\n",
    "    # type torch.LongTensor or torch.int64\n",
    "    # torch batch does not work because length of the sequence varies with examples\n",
    "    input_ids = ( \n",
    "        torch.tensor(example['input_ids'])\n",
    "        .reshape((1, -1))\n",
    "        .to(device)\n",
    "    )\n",
    "\n",
    "    # generate config\n",
    "    generation_config = GenerationConfig(\n",
    "        max_new_tokens=min(\n",
    "            int(max_summary_ratio * example['count_tokens_input_ids']),\n",
    "            max_target_length\n",
    "        ),\n",
    "        num_beams=num_beams, \n",
    "        skip_special_tokens=True, early_stopping=False\n",
    "    )\n",
    "    \n",
    "    # output type: torch.Tensor\n",
    "    with torch.no_grad():\n",
    "        outputs = model.generate(input_ids, generation_config=generation_config)\n",
    "    # bacl to cpu\n",
    "    if device != 'cpu':\n",
    "        outputs = outputs.to(device)\n",
    "    # decode and remove the initial <pad> and the ending </s>\n",
    "    decoded_outputs = tokenizer.decode(outputs[0], skip_special_tokens=True)\n",
    "    \n",
    "    # assign\n",
    "    example['predicted_tokens'] = outputs[0].tolist()\n",
    "    example['prediction'] = decoded_outputs\n",
    "    # clear cache\n",
    "    torch.cuda.empty_cache()\n",
    "    \n",
    "    return example"
   ]
  },
  {
   "cell_type": "markdown",
   "id": "f2777e48-ccfe-4739-8094-3fe8458054f3",
   "metadata": {},
   "source": [
    "## Load dataset"
   ]
  },
  {
   "cell_type": "code",
   "execution_count": 4,
   "id": "9f8c21da-e794-4a47-ab78-29ddd51e1d9f",
   "metadata": {},
   "outputs": [
    {
     "name": "stdout",
     "output_type": "stream",
     "text": [
      "DatasetDict({\n",
      "    train: Dataset({\n",
      "        features: ['id', 'congress', 'bill_type', 'bill_number', 'bill_version', 'sections', 'sections_length', 'text', 'text_length', 'summary', 'summary_length', 'title', 'count_text', 'count_summary', 'prompt', 'input_ids', 'attention_mask', 'label', 'count_tokens_input_ids', 'count_tokens_label'],\n",
      "        num_rows: 24861\n",
      "    })\n",
      "    dev: Dataset({\n",
      "        features: ['id', 'congress', 'bill_type', 'bill_number', 'bill_version', 'sections', 'sections_length', 'text', 'text_length', 'summary', 'summary_length', 'title', 'count_text', 'count_summary', 'prompt', 'input_ids', 'attention_mask', 'label', 'count_tokens_input_ids', 'count_tokens_label'],\n",
      "        num_rows: 3116\n",
      "    })\n",
      "    test: Dataset({\n",
      "        features: ['id', 'congress', 'bill_type', 'bill_number', 'bill_version', 'sections', 'sections_length', 'text', 'text_length', 'summary', 'summary_length', 'title', 'count_text', 'count_summary', 'prompt', 'input_ids', 'attention_mask', 'label', 'count_tokens_input_ids', 'count_tokens_label'],\n",
      "        num_rows: 3051\n",
      "    })\n",
      "})\n"
     ]
    },
    {
     "data": {
      "text/plain": [
       "{'train': 0, 'dev': 0, 'test': 0}"
      ]
     },
     "execution_count": 4,
     "metadata": {},
     "output_type": "execute_result"
    }
   ],
   "source": [
    "# load dataset\n",
    "ds = load_from_disk(dataset_path=path_preprocessed)\n",
    "print(ds)\n",
    "ds.cleanup_cache_files()"
   ]
  },
  {
   "cell_type": "code",
   "execution_count": 5,
   "id": "061bb800-eb98-44e2-9d18-6669928d7fd1",
   "metadata": {
    "scrolled": true
   },
   "outputs": [
    {
     "name": "stdout",
     "output_type": "stream",
     "text": [
      "{'id': '110s1149is', 'congress': 110, 'bill_type': 's', 'bill_number': 1149, 'bill_version': 'is', 'sections': [{'text': '1. Interstate distribution of State inspected\\t\\t\\t meat and poultry products \\n(a) Meat products \\nSection 301(a)(1) of the Federal Meat\\t\\t\\t Inspection Act (21 U.S.C. 661(a)(1)) is amended— (1) by striking (1) The\\t\\t\\t Secretary and inserting (1)(A) The Secretary ; (2) in subparagraph (A) (as designated by\\t\\t\\t paragraph (1)), by striking solely for distribution within such\\t\\t\\t State ; and (3) by adding at the end the following: (B) The Secretary shall reimburse a State\\t\\t\\t\\tagency administering inspections pursuant to subparagraph (A) for not less than\\t\\t\\t\\t50 percent and not more than 60 percent of the costs of administering the\\t\\t\\t\\tinspections.. (b) Poultry products \\nSection 5(a)(1) of the Poultry Products\\t\\t\\t Inspection Act (21 U.S.C. 454(a)(1)) is amended— (1) by striking (1) The\\t\\t\\t Secretary and inserting (1)(A) The Secretary ; (2) in subparagraph (A) (as designated by\\t\\t\\t paragraph (1)), by striking solely for distribution within such\\t\\t\\t State ; and (3) by adding at the end the following: (B) The Secretary shall reimburse a State\\t\\t\\t\\tagency administering inspections pursuant to subparagraph (A) for not less than\\t\\t\\t\\t50 percent and not more than 60 percent of the costs of administering the\\t\\t\\t\\tinspections..', 'id': 'H42E32E96DB1F49CC91C386DFDB995970', 'header': 'Interstate distribution of State inspected\\n\\t\\t\\t meat and poultry products'}], 'sections_length': 1, 'text': '1. Interstate distribution of State inspected meat and poultry products \\n(a) Meat products \\nSection 301(a)(1) of the Federal Meat Inspection Act (21 U.S.C. 661(a)(1)) is amended— (1) by striking (1) The Secretary and inserting (1)(A) The Secretary ; (2) in subparagraph (A) (as designated by paragraph (1)), by striking solely for distribution within such State ; and (3) by adding at the end the following: (B) The Secretary shall reimburse a State agency administering inspections pursuant to subparagraph (A) for not less than 50 percent and not more than 60 percent of the costs of administering the inspections.. (b) Poultry products \\nSection 5(a)(1) of the Poultry Products Inspection Act (21 U.S.C. 454(a)(1)) is amended— (1) by striking (1) The Secretary and inserting (1)(A) The Secretary ; (2) in subparagraph (A) (as designated by paragraph (1)), by striking solely for distribution within such State ; and (3) by adding at the end the following: (B) The Secretary shall reimburse a State agency administering inspections pursuant to subparagraph (A) for not less than 50 percent and not more than 60 percent of the costs of administering the inspections..', 'text_length': 1212, 'summary': 'Amends the Federal Meat Inspection Act and the Poultry Products Inspection Act to authorize the interstate distribution of state inspected meat and poultry if the Secretary of Agriculture determines that state inspection requirements are at least equal to federal inspection requirements.\\n\\n Provides partial state reimbursement for inspection costs.', 'summary_length': 349, 'title': 'A bill to amend the Federal Meat Inspection Act and the Poultry Products Inspection Act to authorize the interstate distribution of State-inspected meat and poultry if the Secretary of Agriculture determines that the State inspection requirements are at least equal to Federal inspection requirements and to require the Secretary to reimburse State agencies for part of the costs of the inspections.', 'count_text': 186, 'count_summary': 48, 'prompt': 'summarize: 1. Interstate distribution of State inspected meat and poultry products \\n(a) Meat products \\nSection 301(a)(1) of the Federal Meat Inspection Act (21 U.S.C. 661(a)(1)) is amended— (1) by striking (1) The Secretary and inserting (1)(A) The Secretary ; (2) in subparagraph (A) (as designated by paragraph (1)), by striking solely for distribution within such State ; and (3) by adding at the end the following: (B) The Secretary shall reimburse a State agency administering inspections pursuant to subparagraph (A) for not less than 50 percent and not more than 60 percent of the costs of administering the inspections.. (b) Poultry products \\nSection 5(a)(1) of the Poultry Products Inspection Act (21 U.S.C. 454(a)(1)) is amended— (1) by striking (1) The Secretary and inserting (1)(A) The Secretary ; (2) in subparagraph (A) (as designated by paragraph (1)), by striking solely for distribution within such State ; and (3) by adding at the end the following: (B) The Secretary shall reimburse a State agency administering inspections pursuant to subparagraph (A) for not less than 50 percent and not more than 60 percent of the costs of administering the inspections..', 'input_ids': [21603, 10, 1300, 28281, 3438, 13, 1015, 3, 26300, 3604, 11, 27254, 494, 41, 9, 61, 1212, 144, 494, 5568, 3, 25626, 599, 9, 61, 14296, 13, 8, 5034, 1212, 144, 24996, 1983, 41, 2658, 412, 5, 134, 5, 254, 5, 431, 4241, 599, 9, 61, 14296, 61, 19, 21012, 318, 5637, 57, 11214, 5637, 37, 7471, 11, 8722, 53, 5637, 599, 188, 61, 37, 7471, 3, 117, 6499, 16, 769, 6583, 9413, 41, 188, 61, 41, 9, 7, 9943, 57, 8986, 5637, 201, 57, 11214, 4199, 120, 21, 3438, 441, 224, 1015, 3, 117, 11, 10153, 57, 2651, 44, 8, 414, 8, 826, 10, 41, 279, 61, 37, 7471, 1522, 29560, 3, 9, 1015, 3193, 24235, 53, 6082, 7, 19890, 288, 12, 769, 6583, 9413, 41, 188, 61, 21, 59, 705, 145, 943, 1093, 11, 59, 72, 145, 1640, 1093, 13, 8, 1358, 13, 24235, 53, 8, 6082, 7, 5, 5, 41, 115, 61, 1908, 83, 8224, 494, 5568, 305, 599, 9, 61, 14296, 13, 8, 1908, 83, 8224, 7554, 24996, 1983, 41, 2658, 412, 5, 134, 5, 254, 5, 314, 5062, 599, 9, 61, 14296, 61, 19, 21012, 318, 5637, 57, 11214, 5637, 37, 7471, 11, 8722, 53, 5637, 599, 188, 61, 37, 7471, 3, 117, 6499, 16, 769, 6583, 9413, 41, 188, 61, 41, 9, 7, 9943, 57, 8986, 5637, 201, 57, 11214, 4199, 120, 21, 3438, 441, 224, 1015, 3, 117, 11, 10153, 57, 2651, 44, 8, 414, 8, 826, 10, 41, 279, 61, 37, 7471, 1522, 29560, 3, 9, 1015, 3193, 24235, 53, 6082, 7, 19890, 288, 12, 769, 6583, 9413, 41, 188, 61, 21, 59, 705, 145, 943, 1093, 11, 59, 72, 145, 1640, 1093, 13, 8, 1358, 13, 24235, 53, 8, 6082, 7, 5, 5, 1], 'attention_mask': [1, 1, 1, 1, 1, 1, 1, 1, 1, 1, 1, 1, 1, 1, 1, 1, 1, 1, 1, 1, 1, 1, 1, 1, 1, 1, 1, 1, 1, 1, 1, 1, 1, 1, 1, 1, 1, 1, 1, 1, 1, 1, 1, 1, 1, 1, 1, 1, 1, 1, 1, 1, 1, 1, 1, 1, 1, 1, 1, 1, 1, 1, 1, 1, 1, 1, 1, 1, 1, 1, 1, 1, 1, 1, 1, 1, 1, 1, 1, 1, 1, 1, 1, 1, 1, 1, 1, 1, 1, 1, 1, 1, 1, 1, 1, 1, 1, 1, 1, 1, 1, 1, 1, 1, 1, 1, 1, 1, 1, 1, 1, 1, 1, 1, 1, 1, 1, 1, 1, 1, 1, 1, 1, 1, 1, 1, 1, 1, 1, 1, 1, 1, 1, 1, 1, 1, 1, 1, 1, 1, 1, 1, 1, 1, 1, 1, 1, 1, 1, 1, 1, 1, 1, 1, 1, 1, 1, 1, 1, 1, 1, 1, 1, 1, 1, 1, 1, 1, 1, 1, 1, 1, 1, 1, 1, 1, 1, 1, 1, 1, 1, 1, 1, 1, 1, 1, 1, 1, 1, 1, 1, 1, 1, 1, 1, 1, 1, 1, 1, 1, 1, 1, 1, 1, 1, 1, 1, 1, 1, 1, 1, 1, 1, 1, 1, 1, 1, 1, 1, 1, 1, 1, 1, 1, 1, 1, 1, 1, 1, 1, 1, 1, 1, 1, 1, 1, 1, 1, 1, 1, 1, 1, 1, 1, 1, 1, 1, 1, 1, 1, 1, 1, 1, 1, 1, 1, 1, 1, 1, 1, 1, 1, 1, 1, 1, 1, 1, 1, 1, 1, 1, 1, 1, 1, 1, 1, 1, 1, 1, 1, 1, 1, 1, 1, 1, 1, 1, 1, 1, 1, 1, 1, 1], 'label': [736, 989, 7, 8, 5034, 1212, 144, 24996, 1983, 11, 8, 1908, 83, 8224, 7554, 24996, 1983, 12, 27765, 8, 1413, 5540, 3438, 13, 538, 3, 26300, 3604, 11, 27254, 3, 99, 8, 7471, 13, 16943, 2082, 7, 24, 538, 6082, 1502, 33, 44, 709, 4081, 12, 2822, 6082, 1502, 5, 7740, 7, 11807, 538, 23960, 21, 6082, 1358, 5, 1], 'count_tokens_input_ids': 293, 'count_tokens_label': 61}\n",
      "========== text ==========\n",
      "1. Interstate distribution of State inspected meat and poultry products \n",
      "(a) Meat products \n",
      "Section 301(a)(1) of the Federal Meat Inspection Act (21 U.S.C. 661(a)(1)) is amended— (1) by striking (1) The Secretary and inserting (1)(A) The Secretary ; (2) in subparagraph (A) (as designated by paragraph (1)), by striking solely for distribution within such State ; and (3) by adding at the end the following: (B) The Secretary shall reimburse a State agency administering inspections pursuant to subparagraph (A) for not less than 50 percent and not more than 60 percent of the costs of administering the inspections.. (b) Poultry products \n",
      "Section 5(a)(1) of the Poultry Products Inspection Act (21 U.S.C. 454(a)(1)) is amended— (1) by striking (1) The Secretary and inserting (1)(A) The Secretary ; (2) in subparagraph (A) (as designated by paragraph (1)), by striking solely for distribution within such State ; and (3) by adding at the end the following: (B) The Secretary shall reimburse a State agency administering inspections pursuant to subparagraph (A) for not less than 50 percent and not more than 60 percent of the costs of administering the inspections..\n",
      "========== summary ==========\n",
      "Amends the Federal Meat Inspection Act and the Poultry Products Inspection Act to authorize the interstate distribution of state inspected meat and poultry if the Secretary of Agriculture determines that state inspection requirements are at least equal to federal inspection requirements.\n",
      "\n",
      " Provides partial state reimbursement for inspection costs.\n"
     ]
    }
   ],
   "source": [
    "# access record\n",
    "print(ds['train'][0])\n",
    "print_example(example=ds['train'][0])"
   ]
  },
  {
   "cell_type": "code",
   "execution_count": 6,
   "id": "c4aaf1c5-374b-49fa-9b8c-59e97b087492",
   "metadata": {},
   "outputs": [
    {
     "name": "stdout",
     "output_type": "stream",
     "text": [
      "{'id': Value(dtype='string', id=None), 'congress': Value(dtype='int64', id=None), 'bill_type': Value(dtype='string', id=None), 'bill_number': Value(dtype='int64', id=None), 'bill_version': Value(dtype='string', id=None), 'sections': [{'text': Value(dtype='string', id=None), 'id': Value(dtype='string', id=None), 'header': Value(dtype='string', id=None)}], 'sections_length': Value(dtype='int64', id=None), 'text': Value(dtype='string', id=None), 'text_length': Value(dtype='int64', id=None), 'summary': Value(dtype='string', id=None), 'summary_length': Value(dtype='int64', id=None), 'title': Value(dtype='string', id=None), 'count_text': Value(dtype='int64', id=None), 'count_summary': Value(dtype='int64', id=None), 'prompt': Value(dtype='string', id=None), 'input_ids': Sequence(feature=Value(dtype='int32', id=None), length=-1, id=None), 'attention_mask': Sequence(feature=Value(dtype='int8', id=None), length=-1, id=None), 'label': Sequence(feature=Value(dtype='int64', id=None), length=-1, id=None), 'count_tokens_input_ids': Value(dtype='int64', id=None), 'count_tokens_label': Value(dtype='int64', id=None)}\n",
      "<class 'datasets.arrow_dataset.Dataset'>\n"
     ]
    }
   ],
   "source": [
    "print(ds['train'].features)\n",
    "print(type(ds['train']))"
   ]
  },
  {
   "cell_type": "markdown",
   "id": "24839aaa-f3ca-444f-b52a-0b0da00ef1b2",
   "metadata": {},
   "source": [
    "## Load tokenizer and model"
   ]
  },
  {
   "cell_type": "code",
   "execution_count": 7,
   "id": "9cd7d619-3afe-4e5e-bfc1-546353529b59",
   "metadata": {},
   "outputs": [
    {
     "data": {
      "text/plain": [
       "True"
      ]
     },
     "execution_count": 7,
     "metadata": {},
     "output_type": "execute_result"
    }
   ],
   "source": [
    "torch.cuda.is_available()"
   ]
  },
  {
   "cell_type": "code",
   "execution_count": 8,
   "id": "5b8428c6-de95-47ff-b2c2-b44c55037b5a",
   "metadata": {},
   "outputs": [
    {
     "data": {
      "text/plain": [
       "T5ForConditionalGeneration(\n",
       "  (shared): Embedding(32128, 768)\n",
       "  (encoder): T5Stack(\n",
       "    (embed_tokens): Embedding(32128, 768)\n",
       "    (block): ModuleList(\n",
       "      (0): T5Block(\n",
       "        (layer): ModuleList(\n",
       "          (0): T5LayerSelfAttention(\n",
       "            (SelfAttention): T5Attention(\n",
       "              (q): Linear(in_features=768, out_features=768, bias=False)\n",
       "              (k): Linear(in_features=768, out_features=768, bias=False)\n",
       "              (v): Linear(in_features=768, out_features=768, bias=False)\n",
       "              (o): Linear(in_features=768, out_features=768, bias=False)\n",
       "              (relative_attention_bias): Embedding(32, 12)\n",
       "            )\n",
       "            (layer_norm): T5LayerNorm()\n",
       "            (dropout): Dropout(p=0.1, inplace=False)\n",
       "          )\n",
       "          (1): T5LayerFF(\n",
       "            (DenseReluDense): T5DenseGatedActDense(\n",
       "              (wi_0): Linear(in_features=768, out_features=2048, bias=False)\n",
       "              (wi_1): Linear(in_features=768, out_features=2048, bias=False)\n",
       "              (wo): Linear(in_features=2048, out_features=768, bias=False)\n",
       "              (dropout): Dropout(p=0.1, inplace=False)\n",
       "              (act): NewGELUActivation()\n",
       "            )\n",
       "            (layer_norm): T5LayerNorm()\n",
       "            (dropout): Dropout(p=0.1, inplace=False)\n",
       "          )\n",
       "        )\n",
       "      )\n",
       "      (1-11): 11 x T5Block(\n",
       "        (layer): ModuleList(\n",
       "          (0): T5LayerSelfAttention(\n",
       "            (SelfAttention): T5Attention(\n",
       "              (q): Linear(in_features=768, out_features=768, bias=False)\n",
       "              (k): Linear(in_features=768, out_features=768, bias=False)\n",
       "              (v): Linear(in_features=768, out_features=768, bias=False)\n",
       "              (o): Linear(in_features=768, out_features=768, bias=False)\n",
       "            )\n",
       "            (layer_norm): T5LayerNorm()\n",
       "            (dropout): Dropout(p=0.1, inplace=False)\n",
       "          )\n",
       "          (1): T5LayerFF(\n",
       "            (DenseReluDense): T5DenseGatedActDense(\n",
       "              (wi_0): Linear(in_features=768, out_features=2048, bias=False)\n",
       "              (wi_1): Linear(in_features=768, out_features=2048, bias=False)\n",
       "              (wo): Linear(in_features=2048, out_features=768, bias=False)\n",
       "              (dropout): Dropout(p=0.1, inplace=False)\n",
       "              (act): NewGELUActivation()\n",
       "            )\n",
       "            (layer_norm): T5LayerNorm()\n",
       "            (dropout): Dropout(p=0.1, inplace=False)\n",
       "          )\n",
       "        )\n",
       "      )\n",
       "    )\n",
       "    (final_layer_norm): T5LayerNorm()\n",
       "    (dropout): Dropout(p=0.1, inplace=False)\n",
       "  )\n",
       "  (decoder): T5Stack(\n",
       "    (embed_tokens): Embedding(32128, 768)\n",
       "    (block): ModuleList(\n",
       "      (0): T5Block(\n",
       "        (layer): ModuleList(\n",
       "          (0): T5LayerSelfAttention(\n",
       "            (SelfAttention): T5Attention(\n",
       "              (q): Linear(in_features=768, out_features=768, bias=False)\n",
       "              (k): Linear(in_features=768, out_features=768, bias=False)\n",
       "              (v): Linear(in_features=768, out_features=768, bias=False)\n",
       "              (o): Linear(in_features=768, out_features=768, bias=False)\n",
       "              (relative_attention_bias): Embedding(32, 12)\n",
       "            )\n",
       "            (layer_norm): T5LayerNorm()\n",
       "            (dropout): Dropout(p=0.1, inplace=False)\n",
       "          )\n",
       "          (1): T5LayerCrossAttention(\n",
       "            (EncDecAttention): T5Attention(\n",
       "              (q): Linear(in_features=768, out_features=768, bias=False)\n",
       "              (k): Linear(in_features=768, out_features=768, bias=False)\n",
       "              (v): Linear(in_features=768, out_features=768, bias=False)\n",
       "              (o): Linear(in_features=768, out_features=768, bias=False)\n",
       "            )\n",
       "            (layer_norm): T5LayerNorm()\n",
       "            (dropout): Dropout(p=0.1, inplace=False)\n",
       "          )\n",
       "          (2): T5LayerFF(\n",
       "            (DenseReluDense): T5DenseGatedActDense(\n",
       "              (wi_0): Linear(in_features=768, out_features=2048, bias=False)\n",
       "              (wi_1): Linear(in_features=768, out_features=2048, bias=False)\n",
       "              (wo): Linear(in_features=2048, out_features=768, bias=False)\n",
       "              (dropout): Dropout(p=0.1, inplace=False)\n",
       "              (act): NewGELUActivation()\n",
       "            )\n",
       "            (layer_norm): T5LayerNorm()\n",
       "            (dropout): Dropout(p=0.1, inplace=False)\n",
       "          )\n",
       "        )\n",
       "      )\n",
       "      (1-11): 11 x T5Block(\n",
       "        (layer): ModuleList(\n",
       "          (0): T5LayerSelfAttention(\n",
       "            (SelfAttention): T5Attention(\n",
       "              (q): Linear(in_features=768, out_features=768, bias=False)\n",
       "              (k): Linear(in_features=768, out_features=768, bias=False)\n",
       "              (v): Linear(in_features=768, out_features=768, bias=False)\n",
       "              (o): Linear(in_features=768, out_features=768, bias=False)\n",
       "            )\n",
       "            (layer_norm): T5LayerNorm()\n",
       "            (dropout): Dropout(p=0.1, inplace=False)\n",
       "          )\n",
       "          (1): T5LayerCrossAttention(\n",
       "            (EncDecAttention): T5Attention(\n",
       "              (q): Linear(in_features=768, out_features=768, bias=False)\n",
       "              (k): Linear(in_features=768, out_features=768, bias=False)\n",
       "              (v): Linear(in_features=768, out_features=768, bias=False)\n",
       "              (o): Linear(in_features=768, out_features=768, bias=False)\n",
       "            )\n",
       "            (layer_norm): T5LayerNorm()\n",
       "            (dropout): Dropout(p=0.1, inplace=False)\n",
       "          )\n",
       "          (2): T5LayerFF(\n",
       "            (DenseReluDense): T5DenseGatedActDense(\n",
       "              (wi_0): Linear(in_features=768, out_features=2048, bias=False)\n",
       "              (wi_1): Linear(in_features=768, out_features=2048, bias=False)\n",
       "              (wo): Linear(in_features=2048, out_features=768, bias=False)\n",
       "              (dropout): Dropout(p=0.1, inplace=False)\n",
       "              (act): NewGELUActivation()\n",
       "            )\n",
       "            (layer_norm): T5LayerNorm()\n",
       "            (dropout): Dropout(p=0.1, inplace=False)\n",
       "          )\n",
       "        )\n",
       "      )\n",
       "    )\n",
       "    (final_layer_norm): T5LayerNorm()\n",
       "    (dropout): Dropout(p=0.1, inplace=False)\n",
       "  )\n",
       "  (lm_head): Linear(in_features=768, out_features=32128, bias=False)\n",
       ")"
      ]
     },
     "execution_count": 8,
     "metadata": {},
     "output_type": "execute_result"
    }
   ],
   "source": [
    "# model_checkpoint = \"google/mt5-small\"\n",
    "model_checkpoint = 'google/flan-t5-base'\n",
    "tokenizer = AutoTokenizer.from_pretrained(model_checkpoint)\n",
    "model = AutoModelForSeq2SeqLM.from_pretrained(model_checkpoint)\n",
    "\n",
    "device = 'cuda:0' if torch.cuda.is_available() else 'cpu'\n",
    "model.to(device)\n",
    "# set model to eval mode\n",
    "model.eval()\n",
    "# to train the model: model.train()"
   ]
  },
  {
   "cell_type": "markdown",
   "id": "2ba87c81-a01a-4763-b275-3d57502fb7f3",
   "metadata": {},
   "source": [
    "### Sample test"
   ]
  },
  {
   "cell_type": "code",
   "execution_count": 9,
   "id": "e8b77b75-7bff-464a-8e49-911887f675f5",
   "metadata": {},
   "outputs": [
    {
     "name": "stdout",
     "output_type": "stream",
     "text": [
      "<class 'torch.Tensor'>\n",
      "tensor([[21603,    10,  1300, 28281,  3438,    13,  1015,     3, 26300,  3604,\n",
      "            11, 27254,   494,    41,     9,    61,  1212,   144,   494,  5568,\n",
      "             3, 25626,   599,     9,    61, 14296,    13,     8,  5034,  1212,\n",
      "           144, 24996,  1983,    41,  2658,   412,     5,   134,     5,   254,\n",
      "             5,   431,  4241,   599,     9,    61, 14296,    61,    19, 21012,\n",
      "           318,  5637,    57, 11214,  5637,    37,  7471,    11,  8722,    53,\n",
      "          5637,   599,   188,    61,    37,  7471,     3,   117,  6499,    16,\n",
      "           769,  6583,  9413,    41,   188,    61,    41,     9,     7,  9943,\n",
      "            57,  8986,  5637,   201,    57, 11214,  4199,   120,    21,  3438,\n",
      "           441,   224,  1015,     3,   117,    11, 10153,    57,  2651,    44,\n",
      "             8,   414,     8,   826,    10,    41,   279,    61,    37,  7471,\n",
      "          1522, 29560,     3,     9,  1015,  3193, 24235,    53,  6082,     7,\n",
      "         19890,   288,    12,   769,  6583,  9413,    41,   188,    61,    21,\n",
      "            59,   705,   145,   943,  1093,    11,    59,    72,   145,  1640,\n",
      "          1093,    13,     8,  1358,    13, 24235,    53,     8,  6082,     7,\n",
      "             5,     5,    41,   115,    61,  1908,    83,  8224,   494,  5568,\n",
      "           305,   599,     9,    61, 14296,    13,     8,  1908,    83,  8224,\n",
      "          7554, 24996,  1983,    41,  2658,   412,     5,   134,     5,   254,\n",
      "             5,   314,  5062,   599,     9,    61, 14296,    61,    19, 21012,\n",
      "           318,  5637,    57, 11214,  5637,    37,  7471,    11,  8722,    53,\n",
      "          5637,   599,   188,    61,    37,  7471,     3,   117,  6499,    16,\n",
      "           769,  6583,  9413,    41,   188,    61,    41,     9,     7,  9943,\n",
      "            57,  8986,  5637,   201,    57, 11214,  4199,   120,    21,  3438,\n",
      "           441,   224,  1015,     3,   117,    11, 10153,    57,  2651,    44,\n",
      "             8,   414,     8,   826,    10,    41,   279,    61,    37,  7471,\n",
      "          1522, 29560,     3,     9,  1015,  3193, 24235,    53,  6082,     7,\n",
      "         19890,   288,    12,   769,  6583,  9413,    41,   188,    61,    21,\n",
      "            59,   705,   145,   943,  1093,    11,    59,    72,   145,  1640,\n",
      "          1093,    13,     8,  1358,    13, 24235,    53,     8,  6082,     7,\n",
      "             5,     5,     1]], device='cuda:0')\n",
      "summarize: 1. Interstate distribution of State inspected meat and poultry products \n",
      "(a) Meat products \n",
      "Section 301(a)(1) of the Federal Meat Inspection Act (21 U.S.C. 661(a)(1)) is amended— (1) by striking (1) The Secretary and inserting (1)(A) The Secretary ; (2) in subparagraph (A) (as designated by paragraph (1)), by striking solely for distribution within such State ; and (3) by adding at the end the following: (B) The Secretary shall reimburse a State agency administering inspections pursuant to subparagraph (A) for not less than 50 percent and not more than 60 percent of the costs of administering the inspections.. (b) Poultry products \n",
      "Section 5(a)(1) of the Poultry Products Inspection Act (21 U.S.C. 454(a)(1)) is amended— (1) by striking (1) The Secretary and inserting (1)(A) The Secretary ; (2) in subparagraph (A) (as designated by paragraph (1)), by striking solely for distribution within such State ; and (3) by adding at the end the following: (B) The Secretary shall reimburse a State agency administering inspections pursuant to subparagraph (A) for not less than 50 percent and not more than 60 percent of the costs of administering the inspections..\n"
     ]
    }
   ],
   "source": [
    "# convert dataset into tensor, need to put another dimension\n",
    "# input_ids = ds['train'].select_columns('input_ids').with_format('torch')['input_ids'][0].to('cpu')\n",
    "# device = 'cuda:0' if torch.cuda.is_available() else 'cpu'\n",
    "idx = 0\n",
    "input_ids = ds['train'].select_columns('input_ids').with_format('torch')['input_ids'][idx] \n",
    "input_ids = torch.reshape(input_ids, (1, -1)).to(device)\n",
    "print(type(input_ids))\n",
    "print(input_ids)\n",
    "print(ds['train']['prompt'][idx])\n"
   ]
  },
  {
   "cell_type": "code",
   "execution_count": 10,
   "id": "7c396c89-fff7-4a89-8ded-173449f3ff9f",
   "metadata": {},
   "outputs": [
    {
     "name": "stdout",
     "output_type": "stream",
     "text": [
      "293\n",
      "1. Interstate distribution of State inspected meat and poultry products (a) Meat products Section 301(a)(1) of the Federal Meat Inspection Act (21 U.S.C. 661(a)(1)) is amended— (1) by striking (1) The Secretary and inserting (1)(A) The Secretary ; (2) in subparagraph (A) (a) (a) (a) (a) (a) (a) (a) (a) (a) (a) (b) Poultry products Section 5(a)(1) of the Poultry Products Inspection Act (21 U.S.C. 454(a)(1)) is amended— (1) by striking (1) The Secretary and inserting (1)(A) The Secretary ; (2) in subparagraph (A) (a) (a) (a) (a) (b) (a) (a) (a) (b) (a) (a) (a) (b) (a) (a) (a) (b) (a) (a) (a) (b) (a) (a) (a) (b) (a) (a) (b) (a) (a) (b) (a) (a) (b) (a) (a) (b) (a) (a) (b) (a) (a\n",
      "['▁summarize', ':', '▁1.', '▁Interstate', '▁distribution', '▁of', '▁State', '▁', 'inspected', '▁meat', '▁and', '▁poultry', '▁products', '▁(', 'a', ')', '▁Me', 'at', '▁products', '▁Section', '▁', '301', '(', 'a', ')', '(1)', '▁of', '▁the', '▁Federal', '▁Me', 'at', '▁Inspection', '▁Act', '▁(', '21', '▁U', '.', 'S', '.', 'C', '.', '▁6', '61', '(', 'a', ')', '(1)', ')', '▁is', '▁amended', '—', '▁(1)', '▁by', '▁striking', '▁(1)', '▁The', '▁Secretary', '▁and', '▁insert', 'ing', '▁(1)', '(', 'A', ')', '▁The', '▁Secretary', '▁', ';', '▁(2)', '▁in', '▁sub', 'para', 'graph', '▁(', 'A', ')', '▁(', 'a', 's', '▁designated', '▁by', '▁paragraph', '▁(1)', '),', '▁by', '▁striking', '▁sole', 'ly', '▁for', '▁distribution', '▁within', '▁such', '▁State', '▁', ';', '▁and', '▁(3)', '▁by', '▁adding', '▁at', '▁the', '▁end', '▁the', '▁following', ':', '▁(', 'B', ')', '▁The', '▁Secretary', '▁shall', '▁reimburse', '▁', 'a', '▁State', '▁agency', '▁administer', 'ing', '▁inspection', 's', '▁pursu', 'ant', '▁to', '▁sub', 'para', 'graph', '▁(', 'A', ')', '▁for', '▁not', '▁less', '▁than', '▁50', '▁percent', '▁and', '▁not', '▁more', '▁than', '▁60', '▁percent', '▁of', '▁the', '▁costs', '▁of', '▁administer', 'ing', '▁the', '▁inspection', 's', '.', '.', '▁(', 'b', ')', '▁Po', 'ul', 'try', '▁products', '▁Section', '▁5', '(', 'a', ')', '(1)', '▁of', '▁the', '▁Po', 'ul', 'try', '▁Products', '▁Inspection', '▁Act', '▁(', '21', '▁U', '.', 'S', '.', 'C', '.', '▁4', '54', '(', 'a', ')', '(1)', ')', '▁is', '▁amended', '—', '▁(1)', '▁by', '▁striking', '▁(1)', '▁The', '▁Secretary', '▁and', '▁insert', 'ing', '▁(1)', '(', 'A', ')', '▁The', '▁Secretary', '▁', ';', '▁(2)', '▁in', '▁sub', 'para', 'graph', '▁(', 'A', ')', '▁(', 'a', 's', '▁designated', '▁by', '▁paragraph', '▁(1)', '),', '▁by', '▁striking', '▁sole', 'ly', '▁for', '▁distribution', '▁within', '▁such', '▁State', '▁', ';', '▁and', '▁(3)', '▁by', '▁adding', '▁at', '▁the', '▁end', '▁the', '▁following', ':', '▁(', 'B', ')', '▁The', '▁Secretary', '▁shall', '▁reimburse', '▁', 'a', '▁State', '▁agency', '▁administer', 'ing', '▁inspection', 's', '▁pursu', 'ant', '▁to', '▁sub', 'para', 'graph', '▁(', 'A', ')', '▁for', '▁not', '▁less', '▁than', '▁50', '▁percent', '▁and', '▁not', '▁more', '▁than', '▁60', '▁percent', '▁of', '▁the', '▁costs', '▁of', '▁administer', 'ing', '▁the', '▁inspection', 's', '.', '.', '</s>']\n",
      "summarize: 1. Interstate distribution of State inspected meat and poultry products (a) Meat products Section 301(a)(1) of the Federal Meat Inspection Act (21 U.S.C. 661(a)(1)) is amended— (1) by striking (1) The Secretary and inserting (1)(A) The Secretary ; (2) in subparagraph (A) (as designated by paragraph (1)), by striking solely for distribution within such State ; and (3) by adding at the end the following: (B) The Secretary shall reimburse a State agency administering inspections pursuant to subparagraph (A) for not less than 50 percent and not more than 60 percent of the costs of administering the inspections.. (b) Poultry products Section 5(a)(1) of the Poultry Products Inspection Act (21 U.S.C. 454(a)(1)) is amended— (1) by striking (1) The Secretary and inserting (1)(A) The Secretary ; (2) in subparagraph (A) (as designated by paragraph (1)), by striking solely for distribution within such State ; and (3) by adding at the end the following: (B) The Secretary shall reimburse a State agency administering inspections pursuant to subparagraph (A) for not less than 50 percent and not more than 60 percent of the costs of administering the inspections..</s>\n"
     ]
    }
   ],
   "source": [
    "generation_config = GenerationConfig(\n",
    "    max_new_tokens=int(1.0 * ds['train']['count_tokens_input_ids'][idx]), num_beams=5, skip_special_tokens=True, \n",
    "    early_stopping=False\n",
    ")\n",
    "# generation_config = GenerationConfig(max_new_tokens=100, num_beams=5, skip_special_tokens=True)\n",
    "print(generation_config.max_new_tokens)\n",
    "\n",
    "# model to device\n",
    "model.to(device)\n",
    "# output type: torch.Tensor\n",
    "outputs = model.generate(input_ids, generation_config=generation_config)\n",
    "# bacl to cpu\n",
    "if device != 'cpu':\n",
    "    outputs = outputs.to(device)\n",
    "    # decoded_outputs = decoded_outputs.to(device)\n",
    "# remove the initial <pad> and the ending </s>\n",
    "print(tokenizer.decode(outputs[0], skip_special_tokens=True))\n",
    "torch.cuda.empty_cache()\n",
    "\n",
    "# convert token ids to tokens\n",
    "token = tokenizer.convert_ids_to_tokens(input_ids[0])\n",
    "print(token)\n",
    "# convert tokens to text\n",
    "print(tokenizer.convert_tokens_to_string(token))"
   ]
  },
  {
   "cell_type": "markdown",
   "id": "b7e515f2-80d8-4be1-b692-df0d84853de0",
   "metadata": {},
   "source": [
    "## Inference on entire data\n",
    "* This will take a while (hours)"
   ]
  },
  {
   "cell_type": "code",
   "execution_count": 11,
   "id": "32ce584e-7cef-422d-8556-5d9e3070dc46",
   "metadata": {},
   "outputs": [
    {
     "data": {
      "text/plain": [
       "Dataset({\n",
       "    features: ['id', 'congress', 'bill_type', 'bill_number', 'bill_version', 'sections', 'sections_length', 'text', 'text_length', 'summary', 'summary_length', 'title', 'count_text', 'count_summary', 'prompt', 'input_ids', 'attention_mask', 'label', 'count_tokens_input_ids', 'count_tokens_label'],\n",
       "    num_rows: 3116\n",
       "})"
      ]
     },
     "execution_count": 11,
     "metadata": {},
     "output_type": "execute_result"
    }
   ],
   "source": [
    "ds['dev']"
   ]
  },
  {
   "cell_type": "code",
   "execution_count": 14,
   "id": "ab91f78a-4479-421c-9da1-c5491b507659",
   "metadata": {},
   "outputs": [
    {
     "data": {
      "application/vnd.jupyter.widget-view+json": {
       "model_id": "0c6f2d3a2c334b60aa93eb306e765b4a",
       "version_major": 2,
       "version_minor": 0
      },
      "text/plain": [
       "Map:   0%|          | 0/3116 [00:00<?, ? examples/s]"
      ]
     },
     "metadata": {},
     "output_type": "display_data"
    }
   ],
   "source": [
    "# ds_output = ds['train'].select(range(3)).map(\n",
    "ds_predict = ( \n",
    "    # ds['train']\n",
    "    # ds\n",
    "    ds['dev']\n",
    "    .map(\n",
    "        inference, \n",
    "        fn_kwargs={\n",
    "            'tokenizer': tokenizer, 'model': model, 'num_beams': num_beams, \n",
    "            'max_summary_ratio': max_summary_ratio, 'device': device,\n",
    "        }, \n",
    "        # multiprocessing not working for gpu\n",
    "        num_proc=1,\n",
    "    )\n",
    ")"
   ]
  },
  {
   "cell_type": "code",
   "execution_count": 15,
   "id": "01e6b89c-f1f7-46bf-b2d7-d1ea4fcba74f",
   "metadata": {},
   "outputs": [
    {
     "name": "stdout",
     "output_type": "stream",
     "text": [
      "DatasetDict({\n",
      "    dev: Dataset({\n",
      "        features: ['id', 'congress', 'bill_type', 'bill_number', 'bill_version', 'sections', 'sections_length', 'text', 'text_length', 'summary', 'summary_length', 'title', 'count_text', 'count_summary', 'prompt', 'input_ids', 'attention_mask', 'label', 'count_tokens_input_ids', 'count_tokens_label', 'predicted_tokens', 'prediction'],\n",
      "        num_rows: 3116\n",
      "    })\n",
      "})\n"
     ]
    }
   ],
   "source": [
    "# combined with tokenized_train\n",
    "ds_predict_all = DatasetDict(\n",
    "    {\n",
    "        # 'train': ds_predict_train, \n",
    "        'dev': ds_predict, \n",
    "        # 'test': ds_predict_test\n",
    "    }\n",
    ")\n",
    "print(ds_predict_all)"
   ]
  },
  {
   "cell_type": "markdown",
   "id": "833fce29-ba73-4f28-a270-1bb7840632ea",
   "metadata": {},
   "source": [
    "## Save predictions"
   ]
  },
  {
   "cell_type": "code",
   "execution_count": 16,
   "id": "b2083eb8-1b5a-42a6-9374-cb774390f510",
   "metadata": {},
   "outputs": [
    {
     "data": {
      "application/vnd.jupyter.widget-view+json": {
       "model_id": "5be4ad7848c743d997950a8db3809667",
       "version_major": 2,
       "version_minor": 0
      },
      "text/plain": [
       "Saving the dataset (0/1 shards):   0%|          | 0/3116 [00:00<?, ? examples/s]"
      ]
     },
     "metadata": {},
     "output_type": "display_data"
    },
    {
     "name": "stdout",
     "output_type": "stream",
     "text": [
      "dataset_dict.json  dev\n"
     ]
    }
   ],
   "source": [
    "ds_predict_all.save_to_disk(path_predictions)\n",
    "!ls {path_predictions}"
   ]
  },
  {
   "cell_type": "code",
   "execution_count": 29,
   "id": "894ff5ae-0e0b-4079-9f0f-3b2765d54d80",
   "metadata": {},
   "outputs": [
    {
     "name": "stdout",
     "output_type": "stream",
     "text": [
      "cpu\n"
     ]
    }
   ],
   "source": [
    "# model back to device\n",
    "if device != 'cpu':\n",
    "    model.to('cpu')\n",
    "print(model.device)"
   ]
  },
  {
   "cell_type": "code",
   "execution_count": null,
   "id": "10d4d04b-1a85-416d-bd43-2be11a2eb00e",
   "metadata": {},
   "outputs": [],
   "source": []
  },
  {
   "cell_type": "markdown",
   "id": "b47d7d97-d0c8-48df-84d4-acae270a5147",
   "metadata": {},
   "source": [
    "## Verify predictions"
   ]
  },
  {
   "cell_type": "code",
   "execution_count": 30,
   "id": "82aad69a-8bb9-48eb-ad87-5bb392fc39c0",
   "metadata": {},
   "outputs": [
    {
     "name": "stdout",
     "output_type": "stream",
     "text": [
      "idx: 0\n",
      "prompt\n",
      "summarize: That the House of Representatives supports the goals and ideals of National Community Gardening Awareness Month, including— (1) raising awareness about the importance of community gardens and urban agriculture; (2) improving access to public land for the creation of sustainable food projects; (3) encouraging further growth of community gardens and other opportunities that increase food self-reliance, improve fitness, contribute to a cleaner environment, and enhance community development; and (4) supporting cooperative efforts among Federal, State, and local governments and nonprofit organizations to promote the development and expansion of community gardens and to increase their accessibility to disadvantaged population groups.\n",
      "\n",
      "prediction\n",
      "To support the goals and ideals of National Community Gardening Awareness Month, including— (1) raising awareness about the importance of community gardens and urban agriculture; (2) improving access to public land for the creation of sustainable food projects; (3) encouraging further growth of community gardens and other opportunities that increase food self-reliance, improve fitness, contribute to a cleaner environment, and enhance community development; and (4) supporting cooperative efforts among Federal, State, and local governments and nonprofit organizations to promote the development and expansion of community gardens and to increase their accessibility to disadvantaged population groups.\n",
      "\n",
      "summary\n",
      "Supports the goals and ideals of National Community Gardening Awareness Month.\n",
      "\n",
      "idx: 1\n",
      "prompt\n",
      "summarize: That the House of Representatives— (1) recognizes the importance of establishing a national memorial at the World Trade Center site, as the highest honor the Nation can confer to commemorate and mourn the events of February 26, 1993, and September 11, 2001; and (2) supports the efforts of the World Trade Center Memorial Foundation to build a permanent memorial at the World Trade Center site.\n",
      "\n",
      "prediction\n",
      "A bill to establish a national memorial at the World Trade Center site, as the highest honor the Nation can confer to commemorate and mourn the events of February 26, 1993, and September 11, 2001, and to support the efforts of the World Trade Center Memorial Foundation to build a permanent memorial at the World Trade Center site.\n",
      "\n",
      "summary\n",
      "(This measure has not been amended since it was introduced. The summary of that version is repeated here.)\n",
      "\n",
      "Declares that the House of Representatives: (1) recognizes the importance of establishing a national memorial at the World Trade Center site, as the highest honor the Nation can confer to commemorate and mourn the events of February 26,1993, and September 11, 2001; and (2) supports the efforts of the World Trade Center Memorial Foundation to build a permanent memorial at the site.\n",
      "\n",
      "idx: 2\n",
      "prompt\n",
      "summarize: That it is the sense of the Senate that the Government of Uzbekistan should— (1) immediately enforce its existing domestic legislation and fulfill its international commitments aimed at ending state-sponsored forced and child labor; (2) allow a comprehensive independent investigation into forced and child labor in the cotton sector during the fall 2009 harvest season by the International Labour Organization; (3) in consultation and cooperation with the International Labour Organization, develop a credible and comprehensive action plan based on the findings of the International Labour Organization and commit the resources necessary to end forced and child labor in the cotton sector; and (4) take concrete steps towards systemic reform that will— (A) ensure greater freedom and better returns from their labor for cotton-producing farmers; and (B) enable such farmers to employ adults in the cotton sector.\n",
      "\n",
      "prediction\n",
      "That the Government of Uzbekistan should immediately enforce its existing domestic legislation and fulfill its international commitments aimed at ending state-sponsored forced and child labor; that the Government of Uzbekistan should allow a comprehensive independent investigation into forced and child labor in the cotton sector during the fall 2009 harvest season by the International Labour Organization; that the Government of Uzbekistan should develop a credible and comprehensive action plan based on the findings of the International Labour Organization and commit the resources necessary to end forced and child labor in the cotton sector; and that the Government of Uzbekistan should take concrete steps towards systemic reform that will ensure greater freedom and better returns from their labor for cotton-producing farmers.\n",
      "\n",
      "summary\n",
      "Expresses the sense of the Senate that the government of Uzbekistan should: (1) enforce its existing domestic legislation and fulfill its international commitments aimed at ending state-sponsored forced and child labor; (2) allow an International Labour Organization investigation into forced and child labor in the cotton sector; and (3) take steps towards ensuring cotton farmers better returns and enabling them to hire adults.\n",
      "\n"
     ]
    }
   ],
   "source": [
    "# idx = 0\n",
    "for idx in range(3):\n",
    "    print(f'idx: {idx}')\n",
    "    print(f\"prompt\\n{ds_predict['prompt'][idx]}\\n\")\n",
    "    print(f\"prediction\\n{ds_predict['prediction'][idx]}\\n\")\n",
    "    print(f\"summary\\n{ds_predict['summary'][idx]}\\n\")"
   ]
  },
  {
   "cell_type": "code",
   "execution_count": null,
   "id": "cacf634a-c5c3-4143-ab77-37faac7f0d6f",
   "metadata": {},
   "outputs": [],
   "source": []
  },
  {
   "cell_type": "code",
   "execution_count": null,
   "id": "6c7d74c5-2375-4656-8594-78d45aa2b480",
   "metadata": {},
   "outputs": [],
   "source": []
  },
  {
   "cell_type": "code",
   "execution_count": null,
   "id": "0b29410e-972c-4f12-bbd1-0daddbda879b",
   "metadata": {},
   "outputs": [],
   "source": []
  },
  {
   "cell_type": "code",
   "execution_count": null,
   "id": "486991a8-6e52-41aa-ae0e-c073607968b2",
   "metadata": {},
   "outputs": [],
   "source": []
  },
  {
   "cell_type": "code",
   "execution_count": null,
   "id": "179983e6-5e19-4827-ab38-94fc59e8a36d",
   "metadata": {},
   "outputs": [],
   "source": []
  },
  {
   "cell_type": "code",
   "execution_count": null,
   "id": "143d3af0-2319-4929-97b4-f3099b47a1ce",
   "metadata": {},
   "outputs": [],
   "source": []
  }
 ],
 "metadata": {
  "kernelspec": {
   "display_name": "Python 3 (ipykernel)",
   "language": "python",
   "name": "python3"
  },
  "language_info": {
   "codemirror_mode": {
    "name": "ipython",
    "version": 3
   },
   "file_extension": ".py",
   "mimetype": "text/x-python",
   "name": "python",
   "nbconvert_exporter": "python",
   "pygments_lexer": "ipython3",
   "version": "3.9.18"
  }
 },
 "nbformat": 4,
 "nbformat_minor": 5
}
