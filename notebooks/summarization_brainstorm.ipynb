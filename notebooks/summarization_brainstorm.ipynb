{
 "cells": [
  {
   "cell_type": "markdown",
   "id": "e23ede4e-a1f5-4df8-9ca3-bbdf1bda4f45",
   "metadata": {},
   "source": [
    "* Model: Sequence-to-sequence model, decode-only model needs examples: one shot or few shot.\n",
    "    * baseline model: the first three sentences.\n",
    "    * T5 or Flan T5? it has prefix: summarize: , document: versatile, https://huggingface.co/docs/transformers/model_doc/t5\n",
    "* Data source: Longform Article summarization: https://huggingface.co/datasets/vgoldberg/longform_article_summarization?row=0\n",
    "* Data Analysis: the number of tokens\n",
    "* Metrics: ROUGE score\n",
    "* instruction fine tuning with QLORA"
   ]
  },
  {
   "cell_type": "markdown",
   "id": "33e104c6-1d32-4543-8b47-57fd1962f02f",
   "metadata": {},
   "source": [
    "* CUDA install\n",
    "1. Use additional driver GUI\n",
    "2. type nvidia-smi to check cuda version\n",
    "3. install pytorch according to cuda version"
   ]
  }
 ],
 "metadata": {
  "kernelspec": {
   "display_name": "Python 3 (ipykernel)",
   "language": "python",
   "name": "python3"
  },
  "language_info": {
   "codemirror_mode": {
    "name": "ipython",
    "version": 3
   },
   "file_extension": ".py",
   "mimetype": "text/x-python",
   "name": "python",
   "nbconvert_exporter": "python",
   "pygments_lexer": "ipython3",
   "version": "3.9.18"
  }
 },
 "nbformat": 4,
 "nbformat_minor": 5
}
