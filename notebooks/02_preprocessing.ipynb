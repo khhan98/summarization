{
 "cells": [
  {
   "cell_type": "markdown",
   "id": "98527646-06a3-4bc0-94f5-bf41a407025a",
   "metadata": {},
   "source": [
    "# Text Summarization: 02. Preprocessing"
   ]
  },
  {
   "cell_type": "markdown",
   "id": "029866f2-c4b1-4281-8d4f-ef04c620b2d1",
   "metadata": {},
   "source": [
    "## Import libraries"
   ]
  },
  {
   "cell_type": "code",
   "execution_count": 1,
   "id": "24955666-c2e7-468c-b958-0d252710a771",
   "metadata": {},
   "outputs": [],
   "source": [
    "import os\n",
    "from datasets import DatasetDict, load_from_disk\n",
    "from matplotlib import pyplot as plt\n",
    "import pandas as pd\n",
    "from transformers import AutoTokenizer, AutoModelForSeq2SeqLM"
   ]
  },
  {
   "cell_type": "code",
   "execution_count": 2,
   "id": "fef7a0ab-42fc-40a8-a7ee-3cc1a974155e",
   "metadata": {},
   "outputs": [],
   "source": [
    "# set variables\n",
    "SEED = 1234\n",
    "curr_path = os.getcwd()\n",
    "path_raw = os.path.join(curr_path, '../data/raw', 'bill_summary_us')\n",
    "# dataset_name = 'vgoldberg/longform_article_summarization'\n",
    "dataset_name = 'dreamproit/bill_summary_us'\n",
    "path_preprocessed = os.path.join(curr_path, '../data/preprocessed', 'bill_summary_us_single_section')"
   ]
  },
  {
   "cell_type": "markdown",
   "id": "5f92f6e7-d972-425f-a80c-28fa37680314",
   "metadata": {},
   "source": [
    "## Helper functions"
   ]
  },
  {
   "cell_type": "code",
   "execution_count": 3,
   "id": "63f4b2b4-b043-4bb4-8f50-e9a8a60a1c21",
   "metadata": {},
   "outputs": [],
   "source": [
    "def print_example(example: dict) -> None:\n",
    "    \"\"\"Print example.\n",
    "    :param example: dict, example.\n",
    "    \"\"\"\n",
    "    print(' '.join(['=' * 10, 'text', '=' * 10]))\n",
    "    print(example['text'])\n",
    "    print(' '.join(['=' * 10, 'summary', '=' * 10]))\n",
    "    print(example['summary'])    \n",
    "\n",
    "\n",
    "def remove_missing_data(example: dict, col_list: list[str]) -> bool:\n",
    "    \"\"\"Remove missing data.\n",
    "    :param example: dict, example.\n",
    "    :param col_list, list[str], list of columns.\n",
    "    :return: bool, whether valid (True) or missing data (False). \n",
    "    \"\"\"\n",
    "    flag_value = True\n",
    "    for col in col_list:\n",
    "        flag_value = flag_value and example[col] is not None\n",
    "    return flag_value\n",
    "\n",
    "\n",
    "def count_words(example: dict, col_list: list[str]) -> dict:    \n",
    "    \"\"\"Count words.\n",
    "    :param example: dict, example.\n",
    "    :param col_list, list[str], list of columns.\n",
    "    :return: dict, count dictionary with prefix `count_`.\n",
    "    \"\"\"\n",
    "    count_dict = {}\n",
    "    for col_name in col_list:\n",
    "        col_count = '_'.join(['count', col_name])\n",
    "        word_count = len(example[col_name].split())\n",
    "        count_dict[col_count] = word_count\n",
    "    return count_dict\n",
    "\n",
    "\n",
    "def process_tab(example: dict, col: str) -> dict:    \n",
    "    \"\"\"Process tab. Remove triple tabs then replace a tab with space.\n",
    "    :param example: dict, example.\n",
    "    :param col: str, column name to process.\n",
    "    :return, dict, processed example.\n",
    "    \"\"\"\n",
    "    example[col] = example[col].replace('\\t\\t\\t', '').replace('\\t', ' ')\n",
    "    return example\n",
    "\n",
    "\n",
    "def plot_text_length(df: pd.DataFrame, col_list: list[str]) -> tuple:\n",
    "    \"\"\"Plot historgram of text length.\n",
    "    :param df, pd.DataFrame, input dataframe.\n",
    "    :param col_list: list[str], a list of column names.\n",
    "    :return: tuple, (fig, axis_tuple).\n",
    "        - fig: matplotlib.figure, figure handle.\n",
    "        - axis_tuple: tuple[matplotlib.axes.Axes], a tuple of axes.\n",
    "    \"\"\"\n",
    "    num_col = len(col_list)\n",
    "    fig, axis_tuple = plt.subplots(nrows=1, ncols=num_col, figsize=[6.4 * num_col, 4.8])\n",
    "    for idx, col in enumerate(col_list):\n",
    "        ax = axis_tuple[idx]\n",
    "        _ = df.plot(y=col, kind='hist', bins=100, ax=ax)  \n",
    "\n",
    "    return fig, axis_tuple\n",
    "\n",
    "\n",
    "def find_outliers_cutoff(df: pd.DataFrame, scale: float = 1.5) -> dict[tuple]:\n",
    "    \"\"\"Find outliers cutoff.\n",
    "    :param df, pd.DataFrame, input dataframe.\n",
    "    :param scale: float, scale factor for IQR to define whiskter. Default: 1.5.\n",
    "    :return: dict[tuple], a dictionary of lower and upper cutoff for each column.\n",
    "    \"\"\"\n",
    "    # upper, lower whisker: pd.Series\n",
    "    q3 = df.quantile(q=0.75)\n",
    "    q1 = df.quantile(q=0.25)\n",
    "    iqr = q3 - q1\n",
    "    upper = q3 + scale * iqr\n",
    "    lower = q1 - scale * iqr\n",
    "    \n",
    "    upper_dict = upper.to_dict()\n",
    "    lower_dict = lower.to_dict()\n",
    "    cutoff_dict = {}\n",
    "    for key in upper_dict:\n",
    "        cutoff_dict[key] = (lower_dict[key], upper_dict[key])\n",
    "    return cutoff_dict    \n",
    "\n",
    "\n",
    "def remove_outliers(example: dict, col_list: list, cutoff_dict: dict[tuple]) -> bool:\n",
    "    \"\"\"Remove outliers.\n",
    "    :param example: dict, example.\n",
    "    :param col_list, list[str], list of columns.\n",
    "    :param cutoff_dict: dict[tuple], a dictionary of lower and upper cutoff for each column.\n",
    "    :return: bool, whether valid (True) or outliers (False).\n",
    "    \"\"\"\n",
    "    flag_val = True\n",
    "    for col in col_list:\n",
    "        cutoff_low, cutoff_high = cutoff_dict[col]\n",
    "        flag_val = flag_val and cutoff_low <= example[col] <= cutoff_high\n",
    "    return flag_val\n",
    "\n",
    "\n",
    "def create_prompt(example: dict, col_text: str, prompt_prefix: str) -> dict:\n",
    "    \"\"\"Creat prompt with prompt prefix.\n",
    "    :param example: dict, example.\n",
    "    :param col_text: str, column for text.\n",
    "    :param prompt_prefix: str, prompt prefix for instruction.\n",
    "    :return: dict, example with prompt column.\n",
    "    \"\"\"\n",
    "    example['prompt'] = f'{prompt_prefix}: {example[col_text]}'\n",
    "    return example\n",
    "\n",
    "\n",
    "#  build system to tokenize\n",
    "def tokenize_example(\n",
    "    example: dict, tokenizer: AutoTokenizer, col_prompt: str, col_summary: str, \n",
    "    max_input_length: int, max_target_length: int\n",
    ") -> dict: \n",
    "    \"\"\"Tokenize example.\n",
    "    :param example: dict, example.\n",
    "    :param tokenizer: transformers.AutoTokenizer, tokenizer.\n",
    "    :param col_prompt: str, column name for prompt.\n",
    "    :param col_summary: str, column name for summary (target)\n",
    "    :param max_input_length: int, maximum input token length. \n",
    "    :param max_target_length: int, maximum target token length. \n",
    "    :return: dict, tokens for input ('input_ids') and target ('label').\n",
    "    \"\"\"\n",
    "    model_input = tokenizer(\n",
    "        example[col_prompt], \n",
    "        max_length=max_input_length, \n",
    "        truncation=True,\n",
    "        # return_tensors='pt',\n",
    "    )\n",
    "    label = tokenizer(\n",
    "        # example[col_summary], \n",
    "        text_target=example[col_summary], \n",
    "        max_length=max_target_length, \n",
    "        truncation=True,\n",
    "        # return_tensors='pt',\n",
    "    )\n",
    "    model_input['label'] = label['input_ids']\n",
    "    return model_input\n",
    "\n",
    "\n",
    "def count_tokens(example: dict, col_list: list[str]) -> dict:    \n",
    "    \"\"\"Count tokens.\n",
    "    :param example: dict, example.\n",
    "    :param col_list: list[str], a list of column names.\n",
    "    :return: dict, token counts with prefix 'count_tokens_'\n",
    "    \"\"\"\n",
    "    count_dict = {}\n",
    "    for col_name in col_list:\n",
    "        col_count = '_'.join(['count_tokens', col_name])\n",
    "        word_count = len(example[col_name])\n",
    "        count_dict[col_count] = word_count\n",
    "    return count_dict\n",
    "\n",
    "\n",
    "def preprocessing(ds, col_names, cutoff_dict, col_for_count, tokenizer, max_input_length, max_target_length):   \n",
    "    ds_preprocessed = ( \n",
    "        # 1. remove missing\n",
    "        ds.filter(remove_missing_data, fn_kwargs={'col_list': col_names})\n",
    "        \n",
    "        # 2. filtering\n",
    "        # select only 1 section\n",
    "        .filter(lambda example: example['sections_length'] == 1, num_proc=12)\n",
    "        # remove any zero text length, summary_length\n",
    "        .filter(lambda example: example['text_length'] > 0, num_proc=12)\n",
    "        .filter(lambda example: example['summary_length'] > 0, num_proc=12)\n",
    "        # text_length_outliers, summary_length_outliers\n",
    "        .filter(remove_outliers, fn_kwargs={'col_list': list(cutoff_dict.keys()), 'cutoff_dict': cutoff_dict}, num_proc=12)\n",
    "\n",
    "        # count words\n",
    "        .map(count_words, fn_kwargs={'col_list': col_for_count}, num_proc=12)\n",
    "        \n",
    "        # remove \\t\\t\\t, and replace \\t with ' '\n",
    "        .map(process_tab, fn_kwargs={'col': 'text'}, num_proc=12)\n",
    "        \n",
    "        # create prompt\n",
    "        .map(create_prompt, fn_kwargs={'col_text': 'text', 'prompt_prefix': 'summarize'}, num_proc=12)\n",
    "        \n",
    "        # tokenize: need to specify max_input_length, when number of tokens is greater than default limit (512)\n",
    "        .map(\n",
    "            tokenize_example, \n",
    "            fn_kwargs={\n",
    "                'tokenizer': tokenizer, 'col_prompt': 'prompt', 'col_summary': 'summary', \n",
    "                'max_input_length': max_input_length, 'max_target_length': max_target_length, \n",
    "            },\n",
    "            batched=True, \n",
    "            batch_size=500,\n",
    "            num_proc=12,\n",
    "        )\n",
    "\n",
    "        # count tokens\n",
    "        .map(count_tokens, fn_kwargs={'col_list': ['input_ids', 'label']}, num_proc=12)\n",
    "    )\n",
    "    return ds_preprocessed"
   ]
  },
  {
   "cell_type": "markdown",
   "id": "f2777e48-ccfe-4739-8094-3fe8458054f3",
   "metadata": {},
   "source": [
    "## Load dataset"
   ]
  },
  {
   "cell_type": "code",
   "execution_count": 4,
   "id": "9f8c21da-e794-4a47-ab78-29ddd51e1d9f",
   "metadata": {},
   "outputs": [
    {
     "name": "stdout",
     "output_type": "stream",
     "text": [
      "DatasetDict({\n",
      "    train: Dataset({\n",
      "        features: ['id', 'congress', 'bill_type', 'bill_number', 'bill_version', 'sections', 'sections_length', 'text', 'text_length', 'summary', 'summary_length', 'title'],\n",
      "        num_rows: 100196\n",
      "    })\n",
      "    dev: Dataset({\n",
      "        features: ['id', 'congress', 'bill_type', 'bill_number', 'bill_version', 'sections', 'sections_length', 'text', 'text_length', 'summary', 'summary_length', 'title'],\n",
      "        num_rows: 12525\n",
      "    })\n",
      "    test: Dataset({\n",
      "        features: ['id', 'congress', 'bill_type', 'bill_number', 'bill_version', 'sections', 'sections_length', 'text', 'text_length', 'summary', 'summary_length', 'title'],\n",
      "        num_rows: 12525\n",
      "    })\n",
      "})\n"
     ]
    },
    {
     "data": {
      "text/plain": [
       "{'train': 110, 'dev': 109, 'test': 109}"
      ]
     },
     "execution_count": 4,
     "metadata": {},
     "output_type": "execute_result"
    }
   ],
   "source": [
    "# load dataset\n",
    "ds_temp = load_from_disk(dataset_path=path_raw)\n",
    "print(ds_temp)\n",
    "# clean up cache\n",
    "ds_temp.cleanup_cache_files()"
   ]
  },
  {
   "cell_type": "code",
   "execution_count": 5,
   "id": "061bb800-eb98-44e2-9d18-6669928d7fd1",
   "metadata": {
    "scrolled": true
   },
   "outputs": [
    {
     "name": "stdout",
     "output_type": "stream",
     "text": [
      "{'id': '111hr5783ih', 'congress': 111, 'bill_type': 'hr', 'bill_number': 5783, 'bill_version': 'ih', 'sections': [{'text': '1. Short title;\\t\\t\\t findings \\n(a) Short\\t\\t\\t title \\nThis Act may be cited\\t\\t\\t as the Investing in Our Future Act of\\t\\t\\t 2010. (b) Findings \\nCongress\\t\\t\\t finds the following: (1) While Wall Street continues to reap massive\\t\\t\\t profits, the 2008 global economic crisis they helped cause has destabilized\\t\\t\\t economies and impacted the budgets of the United States and impoverished\\t\\t\\t nations, compromising the ability of governments to address pressing\\t\\t\\t needs. (2) Currency\\t\\t\\t speculation has destabilizing impacts on the real economy and can contribute to\\t\\t\\t financial crises. (3) Millions of people\\t\\t\\t around the world have been pushed into poverty because of the global financial\\t\\t\\t crisis, through no fault of their own. (4) The impacts of\\t\\t\\t climate change, disease, and ill health undermine the economies of developing\\t\\t\\t nations and their ability to contribute to a secure, stable world. (5) Predictable,\\t\\t\\t adequate, sustainable, long-term funding to address global health and climate\\t\\t\\t change in developing countries at the scale needed does not currently\\t\\t\\t exist. (6) The United States\\t\\t\\t has been a world leader in fighting against HIV/AIDS, Tuberculosis and Malaria\\t\\t\\t and new science has shown that success against these major killers is possible\\t\\t\\t within a generation, yet a greater commitment of resources is needed to save\\t\\t\\t more lives. (7) Additional\\t\\t\\t investments are needed to increase the global health workforce and improve\\t\\t\\t maternal and child health, reproductive health, and combat neglected tropical\\t\\t\\t diseases in impoverished nations. (8) Developing\\t\\t\\t countries bear little responsibility for causing climate change, but they will\\t\\t\\t be the most negatively impacted and lack the resources to adapt to and mitigate\\t\\t\\t climate change. (9) According to the\\t\\t\\t Department of Defense’s Quadrennial Defense Review, global climate change could\\t\\t\\t accelerate instability and conflict around the world and become a security\\t\\t\\t threat for the United States. (10) Global climate\\t\\t\\t change has already begun to displace people and exacerbate competition and\\t\\t\\t conflict over natural resources, increasing hunger, poverty and social\\t\\t\\t inequities in developing countries. (11) The Secretariat\\t\\t\\t of the United Nations Framework Convention on Climate Change (UNFCCC) has\\t\\t\\t estimated that by 2030 developing countries will require $176 billion annually\\t\\t\\t in additional investment for climate change mitigation and the World Bank\\t\\t\\t estimates that $75 to $100 billion is needed per year by 2050 for adaptation in\\t\\t\\t developing countries. (12) At the December\\t\\t\\t 2009 UNFCCC climate negotiations in Copenhagen, the United States made a\\t\\t\\t commitment to work with other nations to mobilize $100 billion a year by 2020\\t\\t\\t to help developing countries adapt to the impacts of climate change and\\t\\t\\t mitigate emissions from climate change. (13) There are\\t\\t\\t approximately 15.3 million children in the United States under the age of 6 who\\t\\t\\t require childcare while their parents work. (14) Only one in seven\\t\\t\\t children who are eligible for Federal, direct childcare assistance receives\\t\\t\\t it. (15) In the majority\\t\\t\\t of States, the cost of childcare for a year is more than tuition at a four-year\\t\\t\\t public university. (16) Affordable and\\t\\t\\t quality childcare is essential for working parents and is necessary for\\t\\t\\t continued economic growth in the United States. (17) Wall Street is\\t\\t\\t enjoying a resurgence in profits and executive bonuses following the $700\\t\\t\\t billion Troubled Asset Relief Program bailout. (18) In 2008, $4\\t\\t\\t trillion in daily currency transactions were undertaken, nearly 80 percent of\\t\\t\\t which by a few major banks, without taxation. (19) A small levy on\\t\\t\\t currency would curb some speculative transactions, bringing greater stability\\t\\t\\t into the currency market. (20) To address the\\t\\t\\t global impacts of the economic crisis, revenue from a small currency\\t\\t\\t transaction tax should be invested to provide predictable, sustainable funding\\t\\t\\t to address global health, climate change, and the lack of affordable childcare\\t\\t\\t in the United States. (21) Collection of a\\t\\t\\t small tax would not disrupt legitimate trading in the currency trading markets\\t\\t\\t and would have no significant impact on individual travelers or United States\\t\\t\\t corporations doing business. (22) The Secretary of State, Secretary of the\\t\\t\\t Treasury, and the nations in the Organization for Economic Cooperation and\\t\\t\\t Development should work together to implement a broader currency transaction\\t\\t\\t tax to fund global health, poverty, and climate change initiatives.', 'id': 'H71CA8BA98F7A435785F4EC286DDEF39D', 'header': 'Short title;\\n\\t\\t\\t findings'}, {'text': '2. Excise tax on\\t\\t\\t currency transactions \\n(a) In\\t\\t\\t general \\nChapter 36 of the\\t\\t\\t Internal Revenue Code of 1986 is amended by inserting after subchapter B the\\t\\t\\t following new subchapter: C Currency\\t\\t\\t\\ttransactions \\nSec.\\u20024475.\\u2002Currency transactions. 4475. Currency\\t\\t\\t\\ttransactions \\n(a) In\\t\\t\\t\\tgeneral \\nThere is hereby\\t\\t\\t\\timposed a tax on each currency transaction made by, or on behalf of, a United\\t\\t\\t\\tStates person. (b) Exception for\\t\\t\\t\\tlow-Value transactions \\n(1) In\\t\\t\\t\\tgeneral \\nSubsection (a) shall not apply to any currency\\t\\t\\t\\ttransaction made by, or on behalf of, a United States person, if the aggregate\\t\\t\\t\\tvalue of the currencies acquired by such person in all such transactions made\\t\\t\\t\\tduring the calendar year does not exceed $10,000. (2) Coordination\\t\\t\\t\\twith withholding rules \\nSubsection (e)(2) shall not apply to any\\t\\t\\t\\tcurrency transaction unless the value of the currency acquired by the United\\t\\t\\t\\tStates person in such transaction exceeds $10,000. The preceding sentence shall\\t\\t\\t\\tnot apply if the person who facilitates such currency transaction knows, or has\\t\\t\\t\\treason to know, that the exception provided by paragraph (1) does not apply to\\t\\t\\t\\tsuch transaction. (c) Amount of\\t\\t\\t\\ttax \\n(1) In\\t\\t\\t\\tgeneral \\nThe amount of the tax imposed under subsection (a) with\\t\\t\\t\\trespect to any currency transaction shall be equal to 0.005 percent of the\\t\\t\\t\\tvalue of the currency acquired in the transaction. (2) Special rule for\\t\\t\\t\\tcurrency derivatives \\nIn the case of any currency derivative, the\\t\\t\\t\\tvalue of the currency acquired in the transaction shall be treated for purposes\\t\\t\\t\\tof this section as being equal to— (A) in the case of a forward contract, the\\t\\t\\t\\tvalue of the currency purchased or sold forward, (B) in the case of a\\t\\t\\t\\tnotional principal contract, the value of the notional principal amount of the\\t\\t\\t\\tcontract, (C) in the case of an\\t\\t\\t\\toption, the value of the currency that would be acquired in the event the\\t\\t\\t\\toption were exercised, and (D) in the case of any\\t\\t\\t\\tother currency derivative, the value as determined by the Secretary. (3) Valuation of\\t\\t\\t\\tcurrency \\nFor purposes of this section, the valuation of any\\t\\t\\t\\tcurrency shall be determined in the taxpayer’s functional currency (within the\\t\\t\\t\\tmeaning of section 985) at the spot rate on the date of the transaction. (d) Currency\\t\\t\\t\\ttransaction \\nFor purposes of this section— (1) In\\t\\t\\t\\tgeneral \\nThe term currency transaction means— (A) the exchange of\\t\\t\\t\\tany currency for another currency, and (B) entering into any\\t\\t\\t\\tcurrency derivative. (2) Currency\\t\\t\\t\\tderivative \\nThe term currency derivative means— (A) any currency\\t\\t\\t\\tnotional principal contract, and (B) any option,\\t\\t\\t\\tforward contract, short position, hedge, or similar financial instrument with\\t\\t\\t\\trespect to any currency or currency notional principal contract. (e) Liability for\\t\\t\\t\\ttax; withholding \\n(1) Liability for\\t\\t\\t\\ttax \\nThe tax imposed under subsection (a) with respect to any\\t\\t\\t\\tcurrency transaction shall be paid by the United States person referred to in\\t\\t\\t\\tsubsection (a). Such person shall be allowed a credit against such tax in the\\t\\t\\t\\tamount withheld as tax under paragraph (2) with respect to such\\t\\t\\t\\ttransaction. (2) Withholding by\\t\\t\\t\\tcurrency transaction facilitators \\n(A) In\\t\\t\\t\\tgeneral \\nExcept as provided in subparagraph (B), each United\\t\\t\\t\\tStates person which facilitates a currency transaction by, or on behalf of, a\\t\\t\\t\\tUnited States person shall deduct and withhold from the amount involved in such\\t\\t\\t\\ttransaction a tax equal to the amount of the tax imposed under section 4475\\t\\t\\t\\twith respect to such transaction. (B) Amounts withheld\\t\\t\\t\\tonly once \\nThe Secretary shall prescribe regulations or other\\t\\t\\t\\tguidance to ensure that only one United States person deducts and withholds the\\t\\t\\t\\tamount described in subparagraph (A) with respect to each currency transaction.\\t\\t\\t\\tSuch regulations or other guidance shall (subject to such exceptions as the\\t\\t\\t\\tSecretary may prescribe) require— (i) in\\t\\t\\t\\tthe case of a currency transaction which is confirmed and matched by a United\\t\\t\\t\\tStates person, that such person so deduct and withhold such amount, and (ii) in the case of a\\t\\t\\t\\tcurrency transaction not described in clause (i) which is settled by a United\\t\\t\\t\\tStates person, that such person so deduct and withhold such amount. (3) Coordination\\t\\t\\t\\twith other sections \\nFor purposes of so much of subtitle F (other\\t\\t\\t\\tthan section 7205) as relates to chapter 24, amounts which are subject to\\t\\t\\t\\twithholding under paragraph (2) shall be treated as if they were wages paid by\\t\\t\\t\\tan employer to an employee (and amounts deducted and withheld under paragraph\\t\\t\\t\\t(2) shall be treated as if deducted and withheld under section 3402). (f) Application to\\t\\t\\t\\texpanded affiliated groups \\n(1) In\\t\\t\\t\\tgeneral \\nFor purposes of this section, all members of the same\\t\\t\\t\\texpanded affiliated group shall be treated as one person for purposes of this\\t\\t\\t\\tsection. (2) Expanded\\t\\t\\t\\taffiliated group \\nFor purposes\\t\\t\\t\\tof this subsection, the term expanded affiliated group means an\\t\\t\\t\\taffiliated group as defined in section 1504(a), determined— (A) by substituting more than 50 percent for at least 80 percent each\\t\\t\\t\\tplace it appears, and (B) without regard to\\t\\t\\t\\tparagraphs (2) and (3) of section 1504(b). A\\t\\t\\t\\tpartnership or any other entity (other than a corporation) shall be treated as\\t\\t\\t\\ta member of an expanded affiliated group if such entity is controlled (within\\t\\t\\t\\tthe meaning of section 954(d)(3)) by members of such group (including any\\t\\t\\t\\tentity treated as a member of such group by reason of this\\t\\t\\t\\tsentence).. (b) Clerical\\t\\t\\t amendment \\nThe table of subchapters for chapter 36 of such Code is\\t\\t\\t amended by inserting after the item relating to subchapter B the following new\\t\\t\\t item: Subchapter C. Currency\\t\\t\\t\\ttransactions.', 'id': 'HF71AD566EEBA4221A9FB1913D607FAAC', 'header': 'Excise tax on\\n\\t\\t\\t currency transactions'}, {'text': '4475. Currency\\t\\t\\t\\ttransactions \\n(a) In\\t\\t\\t\\tgeneral \\nThere is hereby\\t\\t\\t\\timposed a tax on each currency transaction made by, or on behalf of, a United\\t\\t\\t\\tStates person. (b) Exception for\\t\\t\\t\\tlow-Value transactions \\n(1) In\\t\\t\\t\\tgeneral \\nSubsection (a) shall not apply to any currency\\t\\t\\t\\ttransaction made by, or on behalf of, a United States person, if the aggregate\\t\\t\\t\\tvalue of the currencies acquired by such person in all such transactions made\\t\\t\\t\\tduring the calendar year does not exceed $10,000. (2) Coordination\\t\\t\\t\\twith withholding rules \\nSubsection (e)(2) shall not apply to any\\t\\t\\t\\tcurrency transaction unless the value of the currency acquired by the United\\t\\t\\t\\tStates person in such transaction exceeds $10,000. The preceding sentence shall\\t\\t\\t\\tnot apply if the person who facilitates such currency transaction knows, or has\\t\\t\\t\\treason to know, that the exception provided by paragraph (1) does not apply to\\t\\t\\t\\tsuch transaction. (c) Amount of\\t\\t\\t\\ttax \\n(1) In\\t\\t\\t\\tgeneral \\nThe amount of the tax imposed under subsection (a) with\\t\\t\\t\\trespect to any currency transaction shall be equal to 0.005 percent of the\\t\\t\\t\\tvalue of the currency acquired in the transaction. (2) Special rule for\\t\\t\\t\\tcurrency derivatives \\nIn the case of any currency derivative, the\\t\\t\\t\\tvalue of the currency acquired in the transaction shall be treated for purposes\\t\\t\\t\\tof this section as being equal to— (A) in the case of a forward contract, the\\t\\t\\t\\tvalue of the currency purchased or sold forward, (B) in the case of a\\t\\t\\t\\tnotional principal contract, the value of the notional principal amount of the\\t\\t\\t\\tcontract, (C) in the case of an\\t\\t\\t\\toption, the value of the currency that would be acquired in the event the\\t\\t\\t\\toption were exercised, and (D) in the case of any\\t\\t\\t\\tother currency derivative, the value as determined by the Secretary. (3) Valuation of\\t\\t\\t\\tcurrency \\nFor purposes of this section, the valuation of any\\t\\t\\t\\tcurrency shall be determined in the taxpayer’s functional currency (within the\\t\\t\\t\\tmeaning of section 985) at the spot rate on the date of the transaction. (d) Currency\\t\\t\\t\\ttransaction \\nFor purposes of this section— (1) In\\t\\t\\t\\tgeneral \\nThe term currency transaction means— (A) the exchange of\\t\\t\\t\\tany currency for another currency, and (B) entering into any\\t\\t\\t\\tcurrency derivative. (2) Currency\\t\\t\\t\\tderivative \\nThe term currency derivative means— (A) any currency\\t\\t\\t\\tnotional principal contract, and (B) any option,\\t\\t\\t\\tforward contract, short position, hedge, or similar financial instrument with\\t\\t\\t\\trespect to any currency or currency notional principal contract. (e) Liability for\\t\\t\\t\\ttax; withholding \\n(1) Liability for\\t\\t\\t\\ttax \\nThe tax imposed under subsection (a) with respect to any\\t\\t\\t\\tcurrency transaction shall be paid by the United States person referred to in\\t\\t\\t\\tsubsection (a). Such person shall be allowed a credit against such tax in the\\t\\t\\t\\tamount withheld as tax under paragraph (2) with respect to such\\t\\t\\t\\ttransaction. (2) Withholding by\\t\\t\\t\\tcurrency transaction facilitators \\n(A) In\\t\\t\\t\\tgeneral \\nExcept as provided in subparagraph (B), each United\\t\\t\\t\\tStates person which facilitates a currency transaction by, or on behalf of, a\\t\\t\\t\\tUnited States person shall deduct and withhold from the amount involved in such\\t\\t\\t\\ttransaction a tax equal to the amount of the tax imposed under section 4475\\t\\t\\t\\twith respect to such transaction. (B) Amounts withheld\\t\\t\\t\\tonly once \\nThe Secretary shall prescribe regulations or other\\t\\t\\t\\tguidance to ensure that only one United States person deducts and withholds the\\t\\t\\t\\tamount described in subparagraph (A) with respect to each currency transaction.\\t\\t\\t\\tSuch regulations or other guidance shall (subject to such exceptions as the\\t\\t\\t\\tSecretary may prescribe) require— (i) in\\t\\t\\t\\tthe case of a currency transaction which is confirmed and matched by a United\\t\\t\\t\\tStates person, that such person so deduct and withhold such amount, and (ii) in the case of a\\t\\t\\t\\tcurrency transaction not described in clause (i) which is settled by a United\\t\\t\\t\\tStates person, that such person so deduct and withhold such amount. (3) Coordination\\t\\t\\t\\twith other sections \\nFor purposes of so much of subtitle F (other\\t\\t\\t\\tthan section 7205) as relates to chapter 24, amounts which are subject to\\t\\t\\t\\twithholding under paragraph (2) shall be treated as if they were wages paid by\\t\\t\\t\\tan employer to an employee (and amounts deducted and withheld under paragraph\\t\\t\\t\\t(2) shall be treated as if deducted and withheld under section 3402). (f) Application to\\t\\t\\t\\texpanded affiliated groups \\n(1) In\\t\\t\\t\\tgeneral \\nFor purposes of this section, all members of the same\\t\\t\\t\\texpanded affiliated group shall be treated as one person for purposes of this\\t\\t\\t\\tsection. (2) Expanded\\t\\t\\t\\taffiliated group \\nFor purposes\\t\\t\\t\\tof this subsection, the term expanded affiliated group means an\\t\\t\\t\\taffiliated group as defined in section 1504(a), determined— (A) by substituting more than 50 percent for at least 80 percent each\\t\\t\\t\\tplace it appears, and (B) without regard to\\t\\t\\t\\tparagraphs (2) and (3) of section 1504(b). A\\t\\t\\t\\tpartnership or any other entity (other than a corporation) shall be treated as\\t\\t\\t\\ta member of an expanded affiliated group if such entity is controlled (within\\t\\t\\t\\tthe meaning of section 954(d)(3)) by members of such group (including any\\t\\t\\t\\tentity treated as a member of such group by reason of this\\t\\t\\t\\tsentence).', 'id': 'H9CC6E3F652B74C67AC33BD378FF81F31', 'header': 'Currency\\n\\t\\t\\t\\ttransactions'}, {'text': '3. Funding for child\\t\\t\\t care \\n(a) Child Care\\t\\t\\t Assistance Trust Fund \\n(1) In\\t\\t\\t general \\nThere is established in the Treasury of the United States\\t\\t\\t a trust fund to be known as the Child Care Assistance Trust\\t\\t\\t Fund , consisting of such amounts as may be appropriated or credited to\\t\\t\\t the Child Care Assistance Trust Fund as provided in this section. (2) Transfer to\\t\\t\\t Trust Fund of amounts equivalent to certain taxes \\nThere are hereby appropriated to the Child\\t\\t\\t Care Assistance Trust Fund, out of any money in the Treasury not otherwise\\t\\t\\t appropriated, amounts equivalent to 20 percent of the taxes received in the\\t\\t\\t Treasury under section 4475 of the Internal Revenue Code of 1986. (3) Expenditures\\t\\t\\t from Trust Fund \\nAmounts in the Child Care Assistance Trust Fund\\t\\t\\t shall be available, as provided by appropriation Acts, for making expenditures\\t\\t\\t to carry out subsection (b). (4) Management of\\t\\t\\t Trust Fund \\nFor purposes of subchapter B of chapter 98 of the\\t\\t\\t Internal Revenue Code of 1986, the provisions of this subsection shall be\\t\\t\\t treated as provisions of subchapter A of such chapter. (b) Child care\\t\\t\\t assistance grants \\n(1) In\\t\\t\\t general \\nAny appropriation under subsection (a)(3) from the Child\\t\\t\\t Care Assistance Trust Fund shall be allocated among the States as an increase\\t\\t\\t in the amount determined under section 418(a)(1) of the Social Security Act in\\t\\t\\t the same proportion as the amount determined under such section with respect to\\t\\t\\t such State (determined without regard to this subsection) bears to the\\t\\t\\t aggregate amounts so determined with respect to all of the States. (2) Funding to be\\t\\t\\t additional \\nIt is the sense of the Congress that amounts made\\t\\t\\t available under this subsection shall be in addition to (and shall not be a\\t\\t\\t replacement for) other funding for child care assistance.', 'id': 'HBA03EC6541F24A07BECF69F7BEF8D872', 'header': 'Funding for child\\n\\t\\t\\t care'}, {'text': '4. Multilateral\\t\\t\\t global health programs \\n(a) Multilateral\\t\\t\\t global health trust fund \\n(1) In\\t\\t\\t general \\nThere is established in the Treasury of the United States\\t\\t\\t a trust fund to be known as the Multilateral Global Health Trust\\t\\t\\t Fund , consisting of such amounts as may be appropriated or credited to\\t\\t\\t the Multilateral Global Health Trust Fund as provided in this section. (2) Transfer to\\t\\t\\t Trust Fund of amounts equivalent to certain taxes \\nThere are hereby appropriated to the\\t\\t\\t Multilateral Global Health Trust Fund, out of any money in the Treasury not\\t\\t\\t otherwise appropriated, amounts equivalent to 40 percent of the taxes received\\t\\t\\t in the Treasury under section 4475 of the Internal Revenue Code of 1986. (3) Expenditures\\t\\t\\t from Trust Fund \\nAmounts in the Multilateral Global Health Trust\\t\\t\\t Fund shall be available, as provided by appropriation Acts, for making\\t\\t\\t expenditures to carry out subsection (b). (4) Management of\\t\\t\\t Trust Fund \\nFor purposes of subchapter B of chapter 98 of the\\t\\t\\t Internal Revenue Code of 1986, the provisions of this subsection shall be\\t\\t\\t treated as provisions of subchapter A of such chapter. (b) Multilateral\\t\\t\\t global health grant program \\n(1) In\\t\\t\\t general \\nThe Secretary of State shall make grants to assist\\t\\t\\t developing countries in addressing HIV/AIDS, tuberculosis, malaria, maternal\\t\\t\\t mortality, family planning, neglected diseases, and other health issues\\t\\t\\t affecting developing countries. (2) Eligibility for\\t\\t\\t grants \\nGrants under paragraph (1) may be made to— (A) the Global Fund to Fight AIDS, Tuberculosis\\t\\t\\t and Malaria to provide grants described in paragraph (1), and (B) other multilateral\\t\\t\\t health funding mechanisms which the Secretary certifies— (i) provide a\\t\\t\\t significant majority of their total funding to programs in the form of\\t\\t\\t grants, (ii) include\\t\\t\\t independent and external technical review of programs in the awarding of\\t\\t\\t funding, (iii) include\\t\\t\\t governance structures that involve donor governments, implementing governments,\\t\\t\\t civil society, and affected communities as equal decision-makers, (iv) provide funding\\t\\t\\t based on plans developed by implementing countries through country-level\\t\\t\\t processes that include equal and meaningful involvement of civil society and\\t\\t\\t impacted communities, (v) require measures\\t\\t\\t of performance of all projects and formal mechanisms that condition continued\\t\\t\\t financing on successful performance and outcomes, and (vi) include\\t\\t\\t mechanisms for strict financial accountability and provides transparency of all\\t\\t\\t decisions, evaluations, and finances through publically accessible\\t\\t\\t documents. (3) Funding to be\\t\\t\\t additional \\nIt is the sense of the Congress that grants made under\\t\\t\\t this subsection shall be in addition to (and shall not be a replacement for)\\t\\t\\t other funding for global health initiatives in developing countries.', 'id': 'H9DCB1AA6B70941EEB842E5474680CDEF', 'header': 'Multilateral\\n\\t\\t\\t global health programs'}, {'text': '5. Global climate\\t\\t\\t change adaptation and mitigation \\n(a) Global climate\\t\\t\\t change adaptation and mitigation trust fund \\n(1) In\\t\\t\\t general \\nThere is established\\t\\t\\t in the Treasury of the United States a trust fund to be known as the Global Climate Change Adaptation and Mitigation Trust Fund ,\\t\\t\\t consisting of such amounts as may be appropriated or credited to the Global\\t\\t\\t Climate Change Adaptation and Mitigation Trust Fund as provided in this\\t\\t\\t section. (2) Transfer to\\t\\t\\t Trust Fund of amounts equivalent to certain taxes \\nThere are hereby appropriated to the Global\\t\\t\\t Climate Change Adaptation and Mitigation Trust Fund, out of any money in the\\t\\t\\t Treasury not otherwise appropriated, amounts equivalent to 40 percent of the\\t\\t\\t taxes received in the Treasury under section 4475 of the Internal Revenue Code\\t\\t\\t of 1986. (3) Expenditures\\t\\t\\t from Trust Fund \\nAmounts in\\t\\t\\t the Global Climate Change Adaptation and Mitigation Trust Fund shall be\\t\\t\\t available, as provided by appropriation Acts, for making expenditures to carry\\t\\t\\t out subsection (b). (4) Management of\\t\\t\\t Trust Fund \\nFor purposes of subchapter B of chapter 98 of the\\t\\t\\t Internal Revenue Code of 1986, the provisions of this subsection shall be\\t\\t\\t treated as provisions of subchapter A of such chapter. (b) Global climate\\t\\t\\t change adaptation and mitigation grant program \\n(1) In\\t\\t\\t general \\nExcept as provided in\\t\\t\\t paragraph (2), any appropriation under subsection (a)(3) from the Global\\t\\t\\t Climate Change Adaptation and Mitigation Trust Fund shall be used for\\t\\t\\t contributions to a United Nations Framework Convention on Climate Change\\t\\t\\t (UNFCCC) global climate fund for adaptation and mitigation which— (A) is fully\\t\\t\\t accountable to the Conference of Parties of the UNFCCC, in which the Conference\\t\\t\\t of Parties selects members of the executive board to manage distinct funding\\t\\t\\t windows, including for adaptation and mitigation; approves rules, guidelines,\\t\\t\\t priorities, and policies proposed by the executive board; and receives and\\t\\t\\t determines the allocation and disbursement of funding, (B) is independent in\\t\\t\\t management and governance from existing financial institutions, (C) is fully\\t\\t\\t consistent with Article 11 of the UNFCCC, (D) provides funds\\t\\t\\t only in the form of grants for adaptation, (E) has an Executive\\t\\t\\t Board made up of equitable and balanced representation within the five United\\t\\t\\t Nations regions and additional representation from countries most vulnerable to\\t\\t\\t climate change and from civil society in developed and developing\\t\\t\\t countries, (F) ensures that in\\t\\t\\t areas where any activities or programs are planned, local communities,\\t\\t\\t particularly the most vulnerable populations therein, are engaged through\\t\\t\\t adequate disclosure of information, public participation and consultation, and\\t\\t\\t have decision-making power in, and consent to, how funding is used, monitored\\t\\t\\t and evaluated, (G) provides\\t\\t\\t transparent and accountable processes for the handling of financing, and (H) provides recipient\\t\\t\\t governments the choice to nominate a national implementing entity which meets\\t\\t\\t agreed fiduciary standards to directly apply for and access funding. (2) Transitional\\t\\t\\t rules \\nIf an appropriation\\t\\t\\t under subsection (a)(3) from the Global Climate Change Adaptation and\\t\\t\\t Mitigation Trust Fund is made before the UNFCCC global climate fund for\\t\\t\\t adaptation and mitigation described in paragraph (1) has been established, such\\t\\t\\t appropriation shall be used for contributions to the Adaptation Fund\\t\\t\\t established by Parties to the Kyoto Protocol of the UNFCCC, the Least Developed\\t\\t\\t Countries Fund of the UNFCCC, or one or more multilateral funds that is agreed\\t\\t\\t to by Parties to the UNFCCC or the Kyoto Protocol, subject to a certification\\t\\t\\t by the Secretary of the Treasury that the program to which such contributions\\t\\t\\t are made— (A) provides funds only in the form of grants\\t\\t\\t for adaptation, (B) ensures that in\\t\\t\\t areas where any activities or programs are planned, local communities,\\t\\t\\t particularly the most vulnerable populations therein, are engaged through\\t\\t\\t adequate disclosure of information, public participation and consultation, and\\t\\t\\t have decisionmaking power in, and consent to, how funding is used, monitored\\t\\t\\t and evaluated, (C) has a governance\\t\\t\\t structure with equitable and balanced representation of all parties within a\\t\\t\\t transparent system of governance, (D) provides\\t\\t\\t transparent and accountable processes for the handling of financing, (E) provides recipient\\t\\t\\t governments the choice to nominate a national implementing entity which meets\\t\\t\\t agreed fiduciary standards to directly apply for and access funding, and (F) is fully\\t\\t\\t consistent with article 11.1 of the UNFCCC which states that the fund must\\t\\t\\t function under the guidance of and be accountable to the Conference of the\\t\\t\\t Parties. (3) Funding to be\\t\\t\\t additional \\nIt is the sense of\\t\\t\\t the Congress that grants made under this subsection shall be in addition to\\t\\t\\t (and shall not be a replacement for) other funding for global climate change\\t\\t\\t adaptation and mitigation initiatives in developing countries.', 'id': 'H8C71179C5162436FBC97F3D58CD6A99B', 'header': 'Global climate\\n\\t\\t\\t change adaptation and mitigation'}], 'sections_length': 6, 'text': '1. Short title;\\t\\t\\t findings \\n(a) Short\\t\\t\\t title \\nThis Act may be cited\\t\\t\\t as the Investing in Our Future Act of\\t\\t\\t 2010. (b) Findings \\nCongress\\t\\t\\t finds the following: (1) While Wall Street continues to reap massive\\t\\t\\t profits, the 2008 global economic crisis they helped cause has destabilized\\t\\t\\t economies and impacted the budgets of the United States and impoverished\\t\\t\\t nations, compromising the ability of governments to address pressing\\t\\t\\t needs. (2) Currency\\t\\t\\t speculation has destabilizing impacts on the real economy and can contribute to\\t\\t\\t financial crises. (3) Millions of people\\t\\t\\t around the world have been pushed into poverty because of the global financial\\t\\t\\t crisis, through no fault of their own. (4) The impacts of\\t\\t\\t climate change, disease, and ill health undermine the economies of developing\\t\\t\\t nations and their ability to contribute to a secure, stable world. (5) Predictable,\\t\\t\\t adequate, sustainable, long-term funding to address global health and climate\\t\\t\\t change in developing countries at the scale needed does not currently\\t\\t\\t exist. (6) The United States\\t\\t\\t has been a world leader in fighting against HIV/AIDS, Tuberculosis and Malaria\\t\\t\\t and new science has shown that success against these major killers is possible\\t\\t\\t within a generation, yet a greater commitment of resources is needed to save\\t\\t\\t more lives. (7) Additional\\t\\t\\t investments are needed to increase the global health workforce and improve\\t\\t\\t maternal and child health, reproductive health, and combat neglected tropical\\t\\t\\t diseases in impoverished nations. (8) Developing\\t\\t\\t countries bear little responsibility for causing climate change, but they will\\t\\t\\t be the most negatively impacted and lack the resources to adapt to and mitigate\\t\\t\\t climate change. (9) According to the\\t\\t\\t Department of Defense’s Quadrennial Defense Review, global climate change could\\t\\t\\t accelerate instability and conflict around the world and become a security\\t\\t\\t threat for the United States. (10) Global climate\\t\\t\\t change has already begun to displace people and exacerbate competition and\\t\\t\\t conflict over natural resources, increasing hunger, poverty and social\\t\\t\\t inequities in developing countries. (11) The Secretariat\\t\\t\\t of the United Nations Framework Convention on Climate Change (UNFCCC) has\\t\\t\\t estimated that by 2030 developing countries will require $176 billion annually\\t\\t\\t in additional investment for climate change mitigation and the World Bank\\t\\t\\t estimates that $75 to $100 billion is needed per year by 2050 for adaptation in\\t\\t\\t developing countries. (12) At the December\\t\\t\\t 2009 UNFCCC climate negotiations in Copenhagen, the United States made a\\t\\t\\t commitment to work with other nations to mobilize $100 billion a year by 2020\\t\\t\\t to help developing countries adapt to the impacts of climate change and\\t\\t\\t mitigate emissions from climate change. (13) There are\\t\\t\\t approximately 15.3 million children in the United States under the age of 6 who\\t\\t\\t require childcare while their parents work. (14) Only one in seven\\t\\t\\t children who are eligible for Federal, direct childcare assistance receives\\t\\t\\t it. (15) In the majority\\t\\t\\t of States, the cost of childcare for a year is more than tuition at a four-year\\t\\t\\t public university. (16) Affordable and\\t\\t\\t quality childcare is essential for working parents and is necessary for\\t\\t\\t continued economic growth in the United States. (17) Wall Street is\\t\\t\\t enjoying a resurgence in profits and executive bonuses following the $700\\t\\t\\t billion Troubled Asset Relief Program bailout. (18) In 2008, $4\\t\\t\\t trillion in daily currency transactions were undertaken, nearly 80 percent of\\t\\t\\t which by a few major banks, without taxation. (19) A small levy on\\t\\t\\t currency would curb some speculative transactions, bringing greater stability\\t\\t\\t into the currency market. (20) To address the\\t\\t\\t global impacts of the economic crisis, revenue from a small currency\\t\\t\\t transaction tax should be invested to provide predictable, sustainable funding\\t\\t\\t to address global health, climate change, and the lack of affordable childcare\\t\\t\\t in the United States. (21) Collection of a\\t\\t\\t small tax would not disrupt legitimate trading in the currency trading markets\\t\\t\\t and would have no significant impact on individual travelers or United States\\t\\t\\t corporations doing business. (22) The Secretary of State, Secretary of the\\t\\t\\t Treasury, and the nations in the Organization for Economic Cooperation and\\t\\t\\t Development should work together to implement a broader currency transaction\\t\\t\\t tax to fund global health, poverty, and climate change initiatives. 2. Excise tax on\\t\\t\\t currency transactions \\n(a) In\\t\\t\\t general \\nChapter 36 of the\\t\\t\\t Internal Revenue Code of 1986 is amended by inserting after subchapter B the\\t\\t\\t following new subchapter: C Currency\\t\\t\\t\\ttransactions \\nSec.\\u20024475.\\u2002Currency transactions. 4475. Currency\\t\\t\\t\\ttransactions \\n(a) In\\t\\t\\t\\tgeneral \\nThere is hereby\\t\\t\\t\\timposed a tax on each currency transaction made by, or on behalf of, a United\\t\\t\\t\\tStates person. (b) Exception for\\t\\t\\t\\tlow-Value transactions \\n(1) In\\t\\t\\t\\tgeneral \\nSubsection (a) shall not apply to any currency\\t\\t\\t\\ttransaction made by, or on behalf of, a United States person, if the aggregate\\t\\t\\t\\tvalue of the currencies acquired by such person in all such transactions made\\t\\t\\t\\tduring the calendar year does not exceed $10,000. (2) Coordination\\t\\t\\t\\twith withholding rules \\nSubsection (e)(2) shall not apply to any\\t\\t\\t\\tcurrency transaction unless the value of the currency acquired by the United\\t\\t\\t\\tStates person in such transaction exceeds $10,000. The preceding sentence shall\\t\\t\\t\\tnot apply if the person who facilitates such currency transaction knows, or has\\t\\t\\t\\treason to know, that the exception provided by paragraph (1) does not apply to\\t\\t\\t\\tsuch transaction. (c) Amount of\\t\\t\\t\\ttax \\n(1) In\\t\\t\\t\\tgeneral \\nThe amount of the tax imposed under subsection (a) with\\t\\t\\t\\trespect to any currency transaction shall be equal to 0.005 percent of the\\t\\t\\t\\tvalue of the currency acquired in the transaction. (2) Special rule for\\t\\t\\t\\tcurrency derivatives \\nIn the case of any currency derivative, the\\t\\t\\t\\tvalue of the currency acquired in the transaction shall be treated for purposes\\t\\t\\t\\tof this section as being equal to— (A) in the case of a forward contract, the\\t\\t\\t\\tvalue of the currency purchased or sold forward, (B) in the case of a\\t\\t\\t\\tnotional principal contract, the value of the notional principal amount of the\\t\\t\\t\\tcontract, (C) in the case of an\\t\\t\\t\\toption, the value of the currency that would be acquired in the event the\\t\\t\\t\\toption were exercised, and (D) in the case of any\\t\\t\\t\\tother currency derivative, the value as determined by the Secretary. (3) Valuation of\\t\\t\\t\\tcurrency \\nFor purposes of this section, the valuation of any\\t\\t\\t\\tcurrency shall be determined in the taxpayer’s functional currency (within the\\t\\t\\t\\tmeaning of section 985) at the spot rate on the date of the transaction. (d) Currency\\t\\t\\t\\ttransaction \\nFor purposes of this section— (1) In\\t\\t\\t\\tgeneral \\nThe term currency transaction means— (A) the exchange of\\t\\t\\t\\tany currency for another currency, and (B) entering into any\\t\\t\\t\\tcurrency derivative. (2) Currency\\t\\t\\t\\tderivative \\nThe term currency derivative means— (A) any currency\\t\\t\\t\\tnotional principal contract, and (B) any option,\\t\\t\\t\\tforward contract, short position, hedge, or similar financial instrument with\\t\\t\\t\\trespect to any currency or currency notional principal contract. (e) Liability for\\t\\t\\t\\ttax; withholding \\n(1) Liability for\\t\\t\\t\\ttax \\nThe tax imposed under subsection (a) with respect to any\\t\\t\\t\\tcurrency transaction shall be paid by the United States person referred to in\\t\\t\\t\\tsubsection (a). Such person shall be allowed a credit against such tax in the\\t\\t\\t\\tamount withheld as tax under paragraph (2) with respect to such\\t\\t\\t\\ttransaction. (2) Withholding by\\t\\t\\t\\tcurrency transaction facilitators \\n(A) In\\t\\t\\t\\tgeneral \\nExcept as provided in subparagraph (B), each United\\t\\t\\t\\tStates person which facilitates a currency transaction by, or on behalf of, a\\t\\t\\t\\tUnited States person shall deduct and withhold from the amount involved in such\\t\\t\\t\\ttransaction a tax equal to the amount of the tax imposed under section 4475\\t\\t\\t\\twith respect to such transaction. (B) Amounts withheld\\t\\t\\t\\tonly once \\nThe Secretary shall prescribe regulations or other\\t\\t\\t\\tguidance to ensure that only one United States person deducts and withholds the\\t\\t\\t\\tamount described in subparagraph (A) with respect to each currency transaction.\\t\\t\\t\\tSuch regulations or other guidance shall (subject to such exceptions as the\\t\\t\\t\\tSecretary may prescribe) require— (i) in\\t\\t\\t\\tthe case of a currency transaction which is confirmed and matched by a United\\t\\t\\t\\tStates person, that such person so deduct and withhold such amount, and (ii) in the case of a\\t\\t\\t\\tcurrency transaction not described in clause (i) which is settled by a United\\t\\t\\t\\tStates person, that such person so deduct and withhold such amount. (3) Coordination\\t\\t\\t\\twith other sections \\nFor purposes of so much of subtitle F (other\\t\\t\\t\\tthan section 7205) as relates to chapter 24, amounts which are subject to\\t\\t\\t\\twithholding under paragraph (2) shall be treated as if they were wages paid by\\t\\t\\t\\tan employer to an employee (and amounts deducted and withheld under paragraph\\t\\t\\t\\t(2) shall be treated as if deducted and withheld under section 3402). (f) Application to\\t\\t\\t\\texpanded affiliated groups \\n(1) In\\t\\t\\t\\tgeneral \\nFor purposes of this section, all members of the same\\t\\t\\t\\texpanded affiliated group shall be treated as one person for purposes of this\\t\\t\\t\\tsection. (2) Expanded\\t\\t\\t\\taffiliated group \\nFor purposes\\t\\t\\t\\tof this subsection, the term expanded affiliated group means an\\t\\t\\t\\taffiliated group as defined in section 1504(a), determined— (A) by substituting more than 50 percent for at least 80 percent each\\t\\t\\t\\tplace it appears, and (B) without regard to\\t\\t\\t\\tparagraphs (2) and (3) of section 1504(b). A\\t\\t\\t\\tpartnership or any other entity (other than a corporation) shall be treated as\\t\\t\\t\\ta member of an expanded affiliated group if such entity is controlled (within\\t\\t\\t\\tthe meaning of section 954(d)(3)) by members of such group (including any\\t\\t\\t\\tentity treated as a member of such group by reason of this\\t\\t\\t\\tsentence).. (b) Clerical\\t\\t\\t amendment \\nThe table of subchapters for chapter 36 of such Code is\\t\\t\\t amended by inserting after the item relating to subchapter B the following new\\t\\t\\t item: Subchapter C. Currency\\t\\t\\t\\ttransactions. 4475. Currency\\t\\t\\t\\ttransactions \\n(a) In\\t\\t\\t\\tgeneral \\nThere is hereby\\t\\t\\t\\timposed a tax on each currency transaction made by, or on behalf of, a United\\t\\t\\t\\tStates person. (b) Exception for\\t\\t\\t\\tlow-Value transactions \\n(1) In\\t\\t\\t\\tgeneral \\nSubsection (a) shall not apply to any currency\\t\\t\\t\\ttransaction made by, or on behalf of, a United States person, if the aggregate\\t\\t\\t\\tvalue of the currencies acquired by such person in all such transactions made\\t\\t\\t\\tduring the calendar year does not exceed $10,000. (2) Coordination\\t\\t\\t\\twith withholding rules \\nSubsection (e)(2) shall not apply to any\\t\\t\\t\\tcurrency transaction unless the value of the currency acquired by the United\\t\\t\\t\\tStates person in such transaction exceeds $10,000. The preceding sentence shall\\t\\t\\t\\tnot apply if the person who facilitates such currency transaction knows, or has\\t\\t\\t\\treason to know, that the exception provided by paragraph (1) does not apply to\\t\\t\\t\\tsuch transaction. (c) Amount of\\t\\t\\t\\ttax \\n(1) In\\t\\t\\t\\tgeneral \\nThe amount of the tax imposed under subsection (a) with\\t\\t\\t\\trespect to any currency transaction shall be equal to 0.005 percent of the\\t\\t\\t\\tvalue of the currency acquired in the transaction. (2) Special rule for\\t\\t\\t\\tcurrency derivatives \\nIn the case of any currency derivative, the\\t\\t\\t\\tvalue of the currency acquired in the transaction shall be treated for purposes\\t\\t\\t\\tof this section as being equal to— (A) in the case of a forward contract, the\\t\\t\\t\\tvalue of the currency purchased or sold forward, (B) in the case of a\\t\\t\\t\\tnotional principal contract, the value of the notional principal amount of the\\t\\t\\t\\tcontract, (C) in the case of an\\t\\t\\t\\toption, the value of the currency that would be acquired in the event the\\t\\t\\t\\toption were exercised, and (D) in the case of any\\t\\t\\t\\tother currency derivative, the value as determined by the Secretary. (3) Valuation of\\t\\t\\t\\tcurrency \\nFor purposes of this section, the valuation of any\\t\\t\\t\\tcurrency shall be determined in the taxpayer’s functional currency (within the\\t\\t\\t\\tmeaning of section 985) at the spot rate on the date of the transaction. (d) Currency\\t\\t\\t\\ttransaction \\nFor purposes of this section— (1) In\\t\\t\\t\\tgeneral \\nThe term currency transaction means— (A) the exchange of\\t\\t\\t\\tany currency for another currency, and (B) entering into any\\t\\t\\t\\tcurrency derivative. (2) Currency\\t\\t\\t\\tderivative \\nThe term currency derivative means— (A) any currency\\t\\t\\t\\tnotional principal contract, and (B) any option,\\t\\t\\t\\tforward contract, short position, hedge, or similar financial instrument with\\t\\t\\t\\trespect to any currency or currency notional principal contract. (e) Liability for\\t\\t\\t\\ttax; withholding \\n(1) Liability for\\t\\t\\t\\ttax \\nThe tax imposed under subsection (a) with respect to any\\t\\t\\t\\tcurrency transaction shall be paid by the United States person referred to in\\t\\t\\t\\tsubsection (a). Such person shall be allowed a credit against such tax in the\\t\\t\\t\\tamount withheld as tax under paragraph (2) with respect to such\\t\\t\\t\\ttransaction. (2) Withholding by\\t\\t\\t\\tcurrency transaction facilitators \\n(A) In\\t\\t\\t\\tgeneral \\nExcept as provided in subparagraph (B), each United\\t\\t\\t\\tStates person which facilitates a currency transaction by, or on behalf of, a\\t\\t\\t\\tUnited States person shall deduct and withhold from the amount involved in such\\t\\t\\t\\ttransaction a tax equal to the amount of the tax imposed under section 4475\\t\\t\\t\\twith respect to such transaction. (B) Amounts withheld\\t\\t\\t\\tonly once \\nThe Secretary shall prescribe regulations or other\\t\\t\\t\\tguidance to ensure that only one United States person deducts and withholds the\\t\\t\\t\\tamount described in subparagraph (A) with respect to each currency transaction.\\t\\t\\t\\tSuch regulations or other guidance shall (subject to such exceptions as the\\t\\t\\t\\tSecretary may prescribe) require— (i) in\\t\\t\\t\\tthe case of a currency transaction which is confirmed and matched by a United\\t\\t\\t\\tStates person, that such person so deduct and withhold such amount, and (ii) in the case of a\\t\\t\\t\\tcurrency transaction not described in clause (i) which is settled by a United\\t\\t\\t\\tStates person, that such person so deduct and withhold such amount. (3) Coordination\\t\\t\\t\\twith other sections \\nFor purposes of so much of subtitle F (other\\t\\t\\t\\tthan section 7205) as relates to chapter 24, amounts which are subject to\\t\\t\\t\\twithholding under paragraph (2) shall be treated as if they were wages paid by\\t\\t\\t\\tan employer to an employee (and amounts deducted and withheld under paragraph\\t\\t\\t\\t(2) shall be treated as if deducted and withheld under section 3402). (f) Application to\\t\\t\\t\\texpanded affiliated groups \\n(1) In\\t\\t\\t\\tgeneral \\nFor purposes of this section, all members of the same\\t\\t\\t\\texpanded affiliated group shall be treated as one person for purposes of this\\t\\t\\t\\tsection. (2) Expanded\\t\\t\\t\\taffiliated group \\nFor purposes\\t\\t\\t\\tof this subsection, the term expanded affiliated group means an\\t\\t\\t\\taffiliated group as defined in section 1504(a), determined— (A) by substituting more than 50 percent for at least 80 percent each\\t\\t\\t\\tplace it appears, and (B) without regard to\\t\\t\\t\\tparagraphs (2) and (3) of section 1504(b). A\\t\\t\\t\\tpartnership or any other entity (other than a corporation) shall be treated as\\t\\t\\t\\ta member of an expanded affiliated group if such entity is controlled (within\\t\\t\\t\\tthe meaning of section 954(d)(3)) by members of such group (including any\\t\\t\\t\\tentity treated as a member of such group by reason of this\\t\\t\\t\\tsentence). 3. Funding for child\\t\\t\\t care \\n(a) Child Care\\t\\t\\t Assistance Trust Fund \\n(1) In\\t\\t\\t general \\nThere is established in the Treasury of the United States\\t\\t\\t a trust fund to be known as the Child Care Assistance Trust\\t\\t\\t Fund , consisting of such amounts as may be appropriated or credited to\\t\\t\\t the Child Care Assistance Trust Fund as provided in this section. (2) Transfer to\\t\\t\\t Trust Fund of amounts equivalent to certain taxes \\nThere are hereby appropriated to the Child\\t\\t\\t Care Assistance Trust Fund, out of any money in the Treasury not otherwise\\t\\t\\t appropriated, amounts equivalent to 20 percent of the taxes received in the\\t\\t\\t Treasury under section 4475 of the Internal Revenue Code of 1986. (3) Expenditures\\t\\t\\t from Trust Fund \\nAmounts in the Child Care Assistance Trust Fund\\t\\t\\t shall be available, as provided by appropriation Acts, for making expenditures\\t\\t\\t to carry out subsection (b). (4) Management of\\t\\t\\t Trust Fund \\nFor purposes of subchapter B of chapter 98 of the\\t\\t\\t Internal Revenue Code of 1986, the provisions of this subsection shall be\\t\\t\\t treated as provisions of subchapter A of such chapter. (b) Child care\\t\\t\\t assistance grants \\n(1) In\\t\\t\\t general \\nAny appropriation under subsection (a)(3) from the Child\\t\\t\\t Care Assistance Trust Fund shall be allocated among the States as an increase\\t\\t\\t in the amount determined under section 418(a)(1) of the Social Security Act in\\t\\t\\t the same proportion as the amount determined under such section with respect to\\t\\t\\t such State (determined without regard to this subsection) bears to the\\t\\t\\t aggregate amounts so determined with respect to all of the States. (2) Funding to be\\t\\t\\t additional \\nIt is the sense of the Congress that amounts made\\t\\t\\t available under this subsection shall be in addition to (and shall not be a\\t\\t\\t replacement for) other funding for child care assistance. 4. Multilateral\\t\\t\\t global health programs \\n(a) Multilateral\\t\\t\\t global health trust fund \\n(1) In\\t\\t\\t general \\nThere is established in the Treasury of the United States\\t\\t\\t a trust fund to be known as the Multilateral Global Health Trust\\t\\t\\t Fund , consisting of such amounts as may be appropriated or credited to\\t\\t\\t the Multilateral Global Health Trust Fund as provided in this section. (2) Transfer to\\t\\t\\t Trust Fund of amounts equivalent to certain taxes \\nThere are hereby appropriated to the\\t\\t\\t Multilateral Global Health Trust Fund, out of any money in the Treasury not\\t\\t\\t otherwise appropriated, amounts equivalent to 40 percent of the taxes received\\t\\t\\t in the Treasury under section 4475 of the Internal Revenue Code of 1986. (3) Expenditures\\t\\t\\t from Trust Fund \\nAmounts in the Multilateral Global Health Trust\\t\\t\\t Fund shall be available, as provided by appropriation Acts, for making\\t\\t\\t expenditures to carry out subsection (b). (4) Management of\\t\\t\\t Trust Fund \\nFor purposes of subchapter B of chapter 98 of the\\t\\t\\t Internal Revenue Code of 1986, the provisions of this subsection shall be\\t\\t\\t treated as provisions of subchapter A of such chapter. (b) Multilateral\\t\\t\\t global health grant program \\n(1) In\\t\\t\\t general \\nThe Secretary of State shall make grants to assist\\t\\t\\t developing countries in addressing HIV/AIDS, tuberculosis, malaria, maternal\\t\\t\\t mortality, family planning, neglected diseases, and other health issues\\t\\t\\t affecting developing countries. (2) Eligibility for\\t\\t\\t grants \\nGrants under paragraph (1) may be made to— (A) the Global Fund to Fight AIDS, Tuberculosis\\t\\t\\t and Malaria to provide grants described in paragraph (1), and (B) other multilateral\\t\\t\\t health funding mechanisms which the Secretary certifies— (i) provide a\\t\\t\\t significant majority of their total funding to programs in the form of\\t\\t\\t grants, (ii) include\\t\\t\\t independent and external technical review of programs in the awarding of\\t\\t\\t funding, (iii) include\\t\\t\\t governance structures that involve donor governments, implementing governments,\\t\\t\\t civil society, and affected communities as equal decision-makers, (iv) provide funding\\t\\t\\t based on plans developed by implementing countries through country-level\\t\\t\\t processes that include equal and meaningful involvement of civil society and\\t\\t\\t impacted communities, (v) require measures\\t\\t\\t of performance of all projects and formal mechanisms that condition continued\\t\\t\\t financing on successful performance and outcomes, and (vi) include\\t\\t\\t mechanisms for strict financial accountability and provides transparency of all\\t\\t\\t decisions, evaluations, and finances through publically accessible\\t\\t\\t documents. (3) Funding to be\\t\\t\\t additional \\nIt is the sense of the Congress that grants made under\\t\\t\\t this subsection shall be in addition to (and shall not be a replacement for)\\t\\t\\t other funding for global health initiatives in developing countries. 5. Global climate\\t\\t\\t change adaptation and mitigation \\n(a) Global climate\\t\\t\\t change adaptation and mitigation trust fund \\n(1) In\\t\\t\\t general \\nThere is established\\t\\t\\t in the Treasury of the United States a trust fund to be known as the Global Climate Change Adaptation and Mitigation Trust Fund ,\\t\\t\\t consisting of such amounts as may be appropriated or credited to the Global\\t\\t\\t Climate Change Adaptation and Mitigation Trust Fund as provided in this\\t\\t\\t section. (2) Transfer to\\t\\t\\t Trust Fund of amounts equivalent to certain taxes \\nThere are hereby appropriated to the Global\\t\\t\\t Climate Change Adaptation and Mitigation Trust Fund, out of any money in the\\t\\t\\t Treasury not otherwise appropriated, amounts equivalent to 40 percent of the\\t\\t\\t taxes received in the Treasury under section 4475 of the Internal Revenue Code\\t\\t\\t of 1986. (3) Expenditures\\t\\t\\t from Trust Fund \\nAmounts in\\t\\t\\t the Global Climate Change Adaptation and Mitigation Trust Fund shall be\\t\\t\\t available, as provided by appropriation Acts, for making expenditures to carry\\t\\t\\t out subsection (b). (4) Management of\\t\\t\\t Trust Fund \\nFor purposes of subchapter B of chapter 98 of the\\t\\t\\t Internal Revenue Code of 1986, the provisions of this subsection shall be\\t\\t\\t treated as provisions of subchapter A of such chapter. (b) Global climate\\t\\t\\t change adaptation and mitigation grant program \\n(1) In\\t\\t\\t general \\nExcept as provided in\\t\\t\\t paragraph (2), any appropriation under subsection (a)(3) from the Global\\t\\t\\t Climate Change Adaptation and Mitigation Trust Fund shall be used for\\t\\t\\t contributions to a United Nations Framework Convention on Climate Change\\t\\t\\t (UNFCCC) global climate fund for adaptation and mitigation which— (A) is fully\\t\\t\\t accountable to the Conference of Parties of the UNFCCC, in which the Conference\\t\\t\\t of Parties selects members of the executive board to manage distinct funding\\t\\t\\t windows, including for adaptation and mitigation; approves rules, guidelines,\\t\\t\\t priorities, and policies proposed by the executive board; and receives and\\t\\t\\t determines the allocation and disbursement of funding, (B) is independent in\\t\\t\\t management and governance from existing financial institutions, (C) is fully\\t\\t\\t consistent with Article 11 of the UNFCCC, (D) provides funds\\t\\t\\t only in the form of grants for adaptation, (E) has an Executive\\t\\t\\t Board made up of equitable and balanced representation within the five United\\t\\t\\t Nations regions and additional representation from countries most vulnerable to\\t\\t\\t climate change and from civil society in developed and developing\\t\\t\\t countries, (F) ensures that in\\t\\t\\t areas where any activities or programs are planned, local communities,\\t\\t\\t particularly the most vulnerable populations therein, are engaged through\\t\\t\\t adequate disclosure of information, public participation and consultation, and\\t\\t\\t have decision-making power in, and consent to, how funding is used, monitored\\t\\t\\t and evaluated, (G) provides\\t\\t\\t transparent and accountable processes for the handling of financing, and (H) provides recipient\\t\\t\\t governments the choice to nominate a national implementing entity which meets\\t\\t\\t agreed fiduciary standards to directly apply for and access funding. (2) Transitional\\t\\t\\t rules \\nIf an appropriation\\t\\t\\t under subsection (a)(3) from the Global Climate Change Adaptation and\\t\\t\\t Mitigation Trust Fund is made before the UNFCCC global climate fund for\\t\\t\\t adaptation and mitigation described in paragraph (1) has been established, such\\t\\t\\t appropriation shall be used for contributions to the Adaptation Fund\\t\\t\\t established by Parties to the Kyoto Protocol of the UNFCCC, the Least Developed\\t\\t\\t Countries Fund of the UNFCCC, or one or more multilateral funds that is agreed\\t\\t\\t to by Parties to the UNFCCC or the Kyoto Protocol, subject to a certification\\t\\t\\t by the Secretary of the Treasury that the program to which such contributions\\t\\t\\t are made— (A) provides funds only in the form of grants\\t\\t\\t for adaptation, (B) ensures that in\\t\\t\\t areas where any activities or programs are planned, local communities,\\t\\t\\t particularly the most vulnerable populations therein, are engaged through\\t\\t\\t adequate disclosure of information, public participation and consultation, and\\t\\t\\t have decisionmaking power in, and consent to, how funding is used, monitored\\t\\t\\t and evaluated, (C) has a governance\\t\\t\\t structure with equitable and balanced representation of all parties within a\\t\\t\\t transparent system of governance, (D) provides\\t\\t\\t transparent and accountable processes for the handling of financing, (E) provides recipient\\t\\t\\t governments the choice to nominate a national implementing entity which meets\\t\\t\\t agreed fiduciary standards to directly apply for and access funding, and (F) is fully\\t\\t\\t consistent with article 11.1 of the UNFCCC which states that the fund must\\t\\t\\t function under the guidance of and be accountable to the Conference of the\\t\\t\\t Parties. (3) Funding to be\\t\\t\\t additional \\nIt is the sense of\\t\\t\\t the Congress that grants made under this subsection shall be in addition to\\t\\t\\t (and shall not be a replacement for) other funding for global climate change\\t\\t\\t adaptation and mitigation initiatives in developing countries.', 'text_length': 25481, 'summary': 'Investing in Our Future Act of 2010 - Amends the Internal Revenue Code to impose an excise tax on currency transactions exceeding $10,000 equal to 0.005% of the value of the currency acquired in the transaction (currency transaction tax).\\n\\nEstablishes in the Treasury: (1) the Child Care Assistance Trust Fund, which shall be funded with 20% of the revenues from the currency transactions tax and which shall be used to provide increased allocations to states for child care assistance; (2) the Multilateral Global Health Trust Fund, which shall be funded with 40% of the revenues from such tax and from which the Secretary of State shall make grants to assist developing countries in addressing HIV/AIDS, tuberculosis, malaria, maternal mortality, family planning, neglected diseases, and other health issues; and (3) the Global Climate Change Adaptation and Mitigation Trust Fund, which shall be funded with 40% of the revenues from such tax and which shall be used for contributions to a United Nations Framework Convention on Climate Change global climate fund for climate change adaptation and mitigation.', 'summary_length': 1110, 'title': 'To amend the Internal Revenue Code of 1986 to impose an excise tax on currency transactions.'}\n",
      "========== text ==========\n",
      "1. Short title;\t\t\t findings \n",
      "(a) Short\t\t\t title \n",
      "This Act may be cited\t\t\t as the Investing in Our Future Act of\t\t\t 2010. (b) Findings \n",
      "Congress\t\t\t finds the following: (1) While Wall Street continues to reap massive\t\t\t profits, the 2008 global economic crisis they helped cause has destabilized\t\t\t economies and impacted the budgets of the United States and impoverished\t\t\t nations, compromising the ability of governments to address pressing\t\t\t needs. (2) Currency\t\t\t speculation has destabilizing impacts on the real economy and can contribute to\t\t\t financial crises. (3) Millions of people\t\t\t around the world have been pushed into poverty because of the global financial\t\t\t crisis, through no fault of their own. (4) The impacts of\t\t\t climate change, disease, and ill health undermine the economies of developing\t\t\t nations and their ability to contribute to a secure, stable world. (5) Predictable,\t\t\t adequate, sustainable, long-term funding to address global health and climate\t\t\t change in developing countries at the scale needed does not currently\t\t\t exist. (6) The United States\t\t\t has been a world leader in fighting against HIV/AIDS, Tuberculosis and Malaria\t\t\t and new science has shown that success against these major killers is possible\t\t\t within a generation, yet a greater commitment of resources is needed to save\t\t\t more lives. (7) Additional\t\t\t investments are needed to increase the global health workforce and improve\t\t\t maternal and child health, reproductive health, and combat neglected tropical\t\t\t diseases in impoverished nations. (8) Developing\t\t\t countries bear little responsibility for causing climate change, but they will\t\t\t be the most negatively impacted and lack the resources to adapt to and mitigate\t\t\t climate change. (9) According to the\t\t\t Department of Defense’s Quadrennial Defense Review, global climate change could\t\t\t accelerate instability and conflict around the world and become a security\t\t\t threat for the United States. (10) Global climate\t\t\t change has already begun to displace people and exacerbate competition and\t\t\t conflict over natural resources, increasing hunger, poverty and social\t\t\t inequities in developing countries. (11) The Secretariat\t\t\t of the United Nations Framework Convention on Climate Change (UNFCCC) has\t\t\t estimated that by 2030 developing countries will require $176 billion annually\t\t\t in additional investment for climate change mitigation and the World Bank\t\t\t estimates that $75 to $100 billion is needed per year by 2050 for adaptation in\t\t\t developing countries. (12) At the December\t\t\t 2009 UNFCCC climate negotiations in Copenhagen, the United States made a\t\t\t commitment to work with other nations to mobilize $100 billion a year by 2020\t\t\t to help developing countries adapt to the impacts of climate change and\t\t\t mitigate emissions from climate change. (13) There are\t\t\t approximately 15.3 million children in the United States under the age of 6 who\t\t\t require childcare while their parents work. (14) Only one in seven\t\t\t children who are eligible for Federal, direct childcare assistance receives\t\t\t it. (15) In the majority\t\t\t of States, the cost of childcare for a year is more than tuition at a four-year\t\t\t public university. (16) Affordable and\t\t\t quality childcare is essential for working parents and is necessary for\t\t\t continued economic growth in the United States. (17) Wall Street is\t\t\t enjoying a resurgence in profits and executive bonuses following the $700\t\t\t billion Troubled Asset Relief Program bailout. (18) In 2008, $4\t\t\t trillion in daily currency transactions were undertaken, nearly 80 percent of\t\t\t which by a few major banks, without taxation. (19) A small levy on\t\t\t currency would curb some speculative transactions, bringing greater stability\t\t\t into the currency market. (20) To address the\t\t\t global impacts of the economic crisis, revenue from a small currency\t\t\t transaction tax should be invested to provide predictable, sustainable funding\t\t\t to address global health, climate change, and the lack of affordable childcare\t\t\t in the United States. (21) Collection of a\t\t\t small tax would not disrupt legitimate trading in the currency trading markets\t\t\t and would have no significant impact on individual travelers or United States\t\t\t corporations doing business. (22) The Secretary of State, Secretary of the\t\t\t Treasury, and the nations in the Organization for Economic Cooperation and\t\t\t Development should work together to implement a broader currency transaction\t\t\t tax to fund global health, poverty, and climate change initiatives. 2. Excise tax on\t\t\t currency transactions \n",
      "(a) In\t\t\t general \n",
      "Chapter 36 of the\t\t\t Internal Revenue Code of 1986 is amended by inserting after subchapter B the\t\t\t following new subchapter: C Currency\t\t\t\ttransactions \n",
      "Sec. 4475. Currency transactions. 4475. Currency\t\t\t\ttransactions \n",
      "(a) In\t\t\t\tgeneral \n",
      "There is hereby\t\t\t\timposed a tax on each currency transaction made by, or on behalf of, a United\t\t\t\tStates person. (b) Exception for\t\t\t\tlow-Value transactions \n",
      "(1) In\t\t\t\tgeneral \n",
      "Subsection (a) shall not apply to any currency\t\t\t\ttransaction made by, or on behalf of, a United States person, if the aggregate\t\t\t\tvalue of the currencies acquired by such person in all such transactions made\t\t\t\tduring the calendar year does not exceed $10,000. (2) Coordination\t\t\t\twith withholding rules \n",
      "Subsection (e)(2) shall not apply to any\t\t\t\tcurrency transaction unless the value of the currency acquired by the United\t\t\t\tStates person in such transaction exceeds $10,000. The preceding sentence shall\t\t\t\tnot apply if the person who facilitates such currency transaction knows, or has\t\t\t\treason to know, that the exception provided by paragraph (1) does not apply to\t\t\t\tsuch transaction. (c) Amount of\t\t\t\ttax \n",
      "(1) In\t\t\t\tgeneral \n",
      "The amount of the tax imposed under subsection (a) with\t\t\t\trespect to any currency transaction shall be equal to 0.005 percent of the\t\t\t\tvalue of the currency acquired in the transaction. (2) Special rule for\t\t\t\tcurrency derivatives \n",
      "In the case of any currency derivative, the\t\t\t\tvalue of the currency acquired in the transaction shall be treated for purposes\t\t\t\tof this section as being equal to— (A) in the case of a forward contract, the\t\t\t\tvalue of the currency purchased or sold forward, (B) in the case of a\t\t\t\tnotional principal contract, the value of the notional principal amount of the\t\t\t\tcontract, (C) in the case of an\t\t\t\toption, the value of the currency that would be acquired in the event the\t\t\t\toption were exercised, and (D) in the case of any\t\t\t\tother currency derivative, the value as determined by the Secretary. (3) Valuation of\t\t\t\tcurrency \n",
      "For purposes of this section, the valuation of any\t\t\t\tcurrency shall be determined in the taxpayer’s functional currency (within the\t\t\t\tmeaning of section 985) at the spot rate on the date of the transaction. (d) Currency\t\t\t\ttransaction \n",
      "For purposes of this section— (1) In\t\t\t\tgeneral \n",
      "The term currency transaction means— (A) the exchange of\t\t\t\tany currency for another currency, and (B) entering into any\t\t\t\tcurrency derivative. (2) Currency\t\t\t\tderivative \n",
      "The term currency derivative means— (A) any currency\t\t\t\tnotional principal contract, and (B) any option,\t\t\t\tforward contract, short position, hedge, or similar financial instrument with\t\t\t\trespect to any currency or currency notional principal contract. (e) Liability for\t\t\t\ttax; withholding \n",
      "(1) Liability for\t\t\t\ttax \n",
      "The tax imposed under subsection (a) with respect to any\t\t\t\tcurrency transaction shall be paid by the United States person referred to in\t\t\t\tsubsection (a). Such person shall be allowed a credit against such tax in the\t\t\t\tamount withheld as tax under paragraph (2) with respect to such\t\t\t\ttransaction. (2) Withholding by\t\t\t\tcurrency transaction facilitators \n",
      "(A) In\t\t\t\tgeneral \n",
      "Except as provided in subparagraph (B), each United\t\t\t\tStates person which facilitates a currency transaction by, or on behalf of, a\t\t\t\tUnited States person shall deduct and withhold from the amount involved in such\t\t\t\ttransaction a tax equal to the amount of the tax imposed under section 4475\t\t\t\twith respect to such transaction. (B) Amounts withheld\t\t\t\tonly once \n",
      "The Secretary shall prescribe regulations or other\t\t\t\tguidance to ensure that only one United States person deducts and withholds the\t\t\t\tamount described in subparagraph (A) with respect to each currency transaction.\t\t\t\tSuch regulations or other guidance shall (subject to such exceptions as the\t\t\t\tSecretary may prescribe) require— (i) in\t\t\t\tthe case of a currency transaction which is confirmed and matched by a United\t\t\t\tStates person, that such person so deduct and withhold such amount, and (ii) in the case of a\t\t\t\tcurrency transaction not described in clause (i) which is settled by a United\t\t\t\tStates person, that such person so deduct and withhold such amount. (3) Coordination\t\t\t\twith other sections \n",
      "For purposes of so much of subtitle F (other\t\t\t\tthan section 7205) as relates to chapter 24, amounts which are subject to\t\t\t\twithholding under paragraph (2) shall be treated as if they were wages paid by\t\t\t\tan employer to an employee (and amounts deducted and withheld under paragraph\t\t\t\t(2) shall be treated as if deducted and withheld under section 3402). (f) Application to\t\t\t\texpanded affiliated groups \n",
      "(1) In\t\t\t\tgeneral \n",
      "For purposes of this section, all members of the same\t\t\t\texpanded affiliated group shall be treated as one person for purposes of this\t\t\t\tsection. (2) Expanded\t\t\t\taffiliated group \n",
      "For purposes\t\t\t\tof this subsection, the term expanded affiliated group means an\t\t\t\taffiliated group as defined in section 1504(a), determined— (A) by substituting more than 50 percent for at least 80 percent each\t\t\t\tplace it appears, and (B) without regard to\t\t\t\tparagraphs (2) and (3) of section 1504(b). A\t\t\t\tpartnership or any other entity (other than a corporation) shall be treated as\t\t\t\ta member of an expanded affiliated group if such entity is controlled (within\t\t\t\tthe meaning of section 954(d)(3)) by members of such group (including any\t\t\t\tentity treated as a member of such group by reason of this\t\t\t\tsentence).. (b) Clerical\t\t\t amendment \n",
      "The table of subchapters for chapter 36 of such Code is\t\t\t amended by inserting after the item relating to subchapter B the following new\t\t\t item: Subchapter C. Currency\t\t\t\ttransactions. 4475. Currency\t\t\t\ttransactions \n",
      "(a) In\t\t\t\tgeneral \n",
      "There is hereby\t\t\t\timposed a tax on each currency transaction made by, or on behalf of, a United\t\t\t\tStates person. (b) Exception for\t\t\t\tlow-Value transactions \n",
      "(1) In\t\t\t\tgeneral \n",
      "Subsection (a) shall not apply to any currency\t\t\t\ttransaction made by, or on behalf of, a United States person, if the aggregate\t\t\t\tvalue of the currencies acquired by such person in all such transactions made\t\t\t\tduring the calendar year does not exceed $10,000. (2) Coordination\t\t\t\twith withholding rules \n",
      "Subsection (e)(2) shall not apply to any\t\t\t\tcurrency transaction unless the value of the currency acquired by the United\t\t\t\tStates person in such transaction exceeds $10,000. The preceding sentence shall\t\t\t\tnot apply if the person who facilitates such currency transaction knows, or has\t\t\t\treason to know, that the exception provided by paragraph (1) does not apply to\t\t\t\tsuch transaction. (c) Amount of\t\t\t\ttax \n",
      "(1) In\t\t\t\tgeneral \n",
      "The amount of the tax imposed under subsection (a) with\t\t\t\trespect to any currency transaction shall be equal to 0.005 percent of the\t\t\t\tvalue of the currency acquired in the transaction. (2) Special rule for\t\t\t\tcurrency derivatives \n",
      "In the case of any currency derivative, the\t\t\t\tvalue of the currency acquired in the transaction shall be treated for purposes\t\t\t\tof this section as being equal to— (A) in the case of a forward contract, the\t\t\t\tvalue of the currency purchased or sold forward, (B) in the case of a\t\t\t\tnotional principal contract, the value of the notional principal amount of the\t\t\t\tcontract, (C) in the case of an\t\t\t\toption, the value of the currency that would be acquired in the event the\t\t\t\toption were exercised, and (D) in the case of any\t\t\t\tother currency derivative, the value as determined by the Secretary. (3) Valuation of\t\t\t\tcurrency \n",
      "For purposes of this section, the valuation of any\t\t\t\tcurrency shall be determined in the taxpayer’s functional currency (within the\t\t\t\tmeaning of section 985) at the spot rate on the date of the transaction. (d) Currency\t\t\t\ttransaction \n",
      "For purposes of this section— (1) In\t\t\t\tgeneral \n",
      "The term currency transaction means— (A) the exchange of\t\t\t\tany currency for another currency, and (B) entering into any\t\t\t\tcurrency derivative. (2) Currency\t\t\t\tderivative \n",
      "The term currency derivative means— (A) any currency\t\t\t\tnotional principal contract, and (B) any option,\t\t\t\tforward contract, short position, hedge, or similar financial instrument with\t\t\t\trespect to any currency or currency notional principal contract. (e) Liability for\t\t\t\ttax; withholding \n",
      "(1) Liability for\t\t\t\ttax \n",
      "The tax imposed under subsection (a) with respect to any\t\t\t\tcurrency transaction shall be paid by the United States person referred to in\t\t\t\tsubsection (a). Such person shall be allowed a credit against such tax in the\t\t\t\tamount withheld as tax under paragraph (2) with respect to such\t\t\t\ttransaction. (2) Withholding by\t\t\t\tcurrency transaction facilitators \n",
      "(A) In\t\t\t\tgeneral \n",
      "Except as provided in subparagraph (B), each United\t\t\t\tStates person which facilitates a currency transaction by, or on behalf of, a\t\t\t\tUnited States person shall deduct and withhold from the amount involved in such\t\t\t\ttransaction a tax equal to the amount of the tax imposed under section 4475\t\t\t\twith respect to such transaction. (B) Amounts withheld\t\t\t\tonly once \n",
      "The Secretary shall prescribe regulations or other\t\t\t\tguidance to ensure that only one United States person deducts and withholds the\t\t\t\tamount described in subparagraph (A) with respect to each currency transaction.\t\t\t\tSuch regulations or other guidance shall (subject to such exceptions as the\t\t\t\tSecretary may prescribe) require— (i) in\t\t\t\tthe case of a currency transaction which is confirmed and matched by a United\t\t\t\tStates person, that such person so deduct and withhold such amount, and (ii) in the case of a\t\t\t\tcurrency transaction not described in clause (i) which is settled by a United\t\t\t\tStates person, that such person so deduct and withhold such amount. (3) Coordination\t\t\t\twith other sections \n",
      "For purposes of so much of subtitle F (other\t\t\t\tthan section 7205) as relates to chapter 24, amounts which are subject to\t\t\t\twithholding under paragraph (2) shall be treated as if they were wages paid by\t\t\t\tan employer to an employee (and amounts deducted and withheld under paragraph\t\t\t\t(2) shall be treated as if deducted and withheld under section 3402). (f) Application to\t\t\t\texpanded affiliated groups \n",
      "(1) In\t\t\t\tgeneral \n",
      "For purposes of this section, all members of the same\t\t\t\texpanded affiliated group shall be treated as one person for purposes of this\t\t\t\tsection. (2) Expanded\t\t\t\taffiliated group \n",
      "For purposes\t\t\t\tof this subsection, the term expanded affiliated group means an\t\t\t\taffiliated group as defined in section 1504(a), determined— (A) by substituting more than 50 percent for at least 80 percent each\t\t\t\tplace it appears, and (B) without regard to\t\t\t\tparagraphs (2) and (3) of section 1504(b). A\t\t\t\tpartnership or any other entity (other than a corporation) shall be treated as\t\t\t\ta member of an expanded affiliated group if such entity is controlled (within\t\t\t\tthe meaning of section 954(d)(3)) by members of such group (including any\t\t\t\tentity treated as a member of such group by reason of this\t\t\t\tsentence). 3. Funding for child\t\t\t care \n",
      "(a) Child Care\t\t\t Assistance Trust Fund \n",
      "(1) In\t\t\t general \n",
      "There is established in the Treasury of the United States\t\t\t a trust fund to be known as the Child Care Assistance Trust\t\t\t Fund , consisting of such amounts as may be appropriated or credited to\t\t\t the Child Care Assistance Trust Fund as provided in this section. (2) Transfer to\t\t\t Trust Fund of amounts equivalent to certain taxes \n",
      "There are hereby appropriated to the Child\t\t\t Care Assistance Trust Fund, out of any money in the Treasury not otherwise\t\t\t appropriated, amounts equivalent to 20 percent of the taxes received in the\t\t\t Treasury under section 4475 of the Internal Revenue Code of 1986. (3) Expenditures\t\t\t from Trust Fund \n",
      "Amounts in the Child Care Assistance Trust Fund\t\t\t shall be available, as provided by appropriation Acts, for making expenditures\t\t\t to carry out subsection (b). (4) Management of\t\t\t Trust Fund \n",
      "For purposes of subchapter B of chapter 98 of the\t\t\t Internal Revenue Code of 1986, the provisions of this subsection shall be\t\t\t treated as provisions of subchapter A of such chapter. (b) Child care\t\t\t assistance grants \n",
      "(1) In\t\t\t general \n",
      "Any appropriation under subsection (a)(3) from the Child\t\t\t Care Assistance Trust Fund shall be allocated among the States as an increase\t\t\t in the amount determined under section 418(a)(1) of the Social Security Act in\t\t\t the same proportion as the amount determined under such section with respect to\t\t\t such State (determined without regard to this subsection) bears to the\t\t\t aggregate amounts so determined with respect to all of the States. (2) Funding to be\t\t\t additional \n",
      "It is the sense of the Congress that amounts made\t\t\t available under this subsection shall be in addition to (and shall not be a\t\t\t replacement for) other funding for child care assistance. 4. Multilateral\t\t\t global health programs \n",
      "(a) Multilateral\t\t\t global health trust fund \n",
      "(1) In\t\t\t general \n",
      "There is established in the Treasury of the United States\t\t\t a trust fund to be known as the Multilateral Global Health Trust\t\t\t Fund , consisting of such amounts as may be appropriated or credited to\t\t\t the Multilateral Global Health Trust Fund as provided in this section. (2) Transfer to\t\t\t Trust Fund of amounts equivalent to certain taxes \n",
      "There are hereby appropriated to the\t\t\t Multilateral Global Health Trust Fund, out of any money in the Treasury not\t\t\t otherwise appropriated, amounts equivalent to 40 percent of the taxes received\t\t\t in the Treasury under section 4475 of the Internal Revenue Code of 1986. (3) Expenditures\t\t\t from Trust Fund \n",
      "Amounts in the Multilateral Global Health Trust\t\t\t Fund shall be available, as provided by appropriation Acts, for making\t\t\t expenditures to carry out subsection (b). (4) Management of\t\t\t Trust Fund \n",
      "For purposes of subchapter B of chapter 98 of the\t\t\t Internal Revenue Code of 1986, the provisions of this subsection shall be\t\t\t treated as provisions of subchapter A of such chapter. (b) Multilateral\t\t\t global health grant program \n",
      "(1) In\t\t\t general \n",
      "The Secretary of State shall make grants to assist\t\t\t developing countries in addressing HIV/AIDS, tuberculosis, malaria, maternal\t\t\t mortality, family planning, neglected diseases, and other health issues\t\t\t affecting developing countries. (2) Eligibility for\t\t\t grants \n",
      "Grants under paragraph (1) may be made to— (A) the Global Fund to Fight AIDS, Tuberculosis\t\t\t and Malaria to provide grants described in paragraph (1), and (B) other multilateral\t\t\t health funding mechanisms which the Secretary certifies— (i) provide a\t\t\t significant majority of their total funding to programs in the form of\t\t\t grants, (ii) include\t\t\t independent and external technical review of programs in the awarding of\t\t\t funding, (iii) include\t\t\t governance structures that involve donor governments, implementing governments,\t\t\t civil society, and affected communities as equal decision-makers, (iv) provide funding\t\t\t based on plans developed by implementing countries through country-level\t\t\t processes that include equal and meaningful involvement of civil society and\t\t\t impacted communities, (v) require measures\t\t\t of performance of all projects and formal mechanisms that condition continued\t\t\t financing on successful performance and outcomes, and (vi) include\t\t\t mechanisms for strict financial accountability and provides transparency of all\t\t\t decisions, evaluations, and finances through publically accessible\t\t\t documents. (3) Funding to be\t\t\t additional \n",
      "It is the sense of the Congress that grants made under\t\t\t this subsection shall be in addition to (and shall not be a replacement for)\t\t\t other funding for global health initiatives in developing countries. 5. Global climate\t\t\t change adaptation and mitigation \n",
      "(a) Global climate\t\t\t change adaptation and mitigation trust fund \n",
      "(1) In\t\t\t general \n",
      "There is established\t\t\t in the Treasury of the United States a trust fund to be known as the Global Climate Change Adaptation and Mitigation Trust Fund ,\t\t\t consisting of such amounts as may be appropriated or credited to the Global\t\t\t Climate Change Adaptation and Mitigation Trust Fund as provided in this\t\t\t section. (2) Transfer to\t\t\t Trust Fund of amounts equivalent to certain taxes \n",
      "There are hereby appropriated to the Global\t\t\t Climate Change Adaptation and Mitigation Trust Fund, out of any money in the\t\t\t Treasury not otherwise appropriated, amounts equivalent to 40 percent of the\t\t\t taxes received in the Treasury under section 4475 of the Internal Revenue Code\t\t\t of 1986. (3) Expenditures\t\t\t from Trust Fund \n",
      "Amounts in\t\t\t the Global Climate Change Adaptation and Mitigation Trust Fund shall be\t\t\t available, as provided by appropriation Acts, for making expenditures to carry\t\t\t out subsection (b). (4) Management of\t\t\t Trust Fund \n",
      "For purposes of subchapter B of chapter 98 of the\t\t\t Internal Revenue Code of 1986, the provisions of this subsection shall be\t\t\t treated as provisions of subchapter A of such chapter. (b) Global climate\t\t\t change adaptation and mitigation grant program \n",
      "(1) In\t\t\t general \n",
      "Except as provided in\t\t\t paragraph (2), any appropriation under subsection (a)(3) from the Global\t\t\t Climate Change Adaptation and Mitigation Trust Fund shall be used for\t\t\t contributions to a United Nations Framework Convention on Climate Change\t\t\t (UNFCCC) global climate fund for adaptation and mitigation which— (A) is fully\t\t\t accountable to the Conference of Parties of the UNFCCC, in which the Conference\t\t\t of Parties selects members of the executive board to manage distinct funding\t\t\t windows, including for adaptation and mitigation; approves rules, guidelines,\t\t\t priorities, and policies proposed by the executive board; and receives and\t\t\t determines the allocation and disbursement of funding, (B) is independent in\t\t\t management and governance from existing financial institutions, (C) is fully\t\t\t consistent with Article 11 of the UNFCCC, (D) provides funds\t\t\t only in the form of grants for adaptation, (E) has an Executive\t\t\t Board made up of equitable and balanced representation within the five United\t\t\t Nations regions and additional representation from countries most vulnerable to\t\t\t climate change and from civil society in developed and developing\t\t\t countries, (F) ensures that in\t\t\t areas where any activities or programs are planned, local communities,\t\t\t particularly the most vulnerable populations therein, are engaged through\t\t\t adequate disclosure of information, public participation and consultation, and\t\t\t have decision-making power in, and consent to, how funding is used, monitored\t\t\t and evaluated, (G) provides\t\t\t transparent and accountable processes for the handling of financing, and (H) provides recipient\t\t\t governments the choice to nominate a national implementing entity which meets\t\t\t agreed fiduciary standards to directly apply for and access funding. (2) Transitional\t\t\t rules \n",
      "If an appropriation\t\t\t under subsection (a)(3) from the Global Climate Change Adaptation and\t\t\t Mitigation Trust Fund is made before the UNFCCC global climate fund for\t\t\t adaptation and mitigation described in paragraph (1) has been established, such\t\t\t appropriation shall be used for contributions to the Adaptation Fund\t\t\t established by Parties to the Kyoto Protocol of the UNFCCC, the Least Developed\t\t\t Countries Fund of the UNFCCC, or one or more multilateral funds that is agreed\t\t\t to by Parties to the UNFCCC or the Kyoto Protocol, subject to a certification\t\t\t by the Secretary of the Treasury that the program to which such contributions\t\t\t are made— (A) provides funds only in the form of grants\t\t\t for adaptation, (B) ensures that in\t\t\t areas where any activities or programs are planned, local communities,\t\t\t particularly the most vulnerable populations therein, are engaged through\t\t\t adequate disclosure of information, public participation and consultation, and\t\t\t have decisionmaking power in, and consent to, how funding is used, monitored\t\t\t and evaluated, (C) has a governance\t\t\t structure with equitable and balanced representation of all parties within a\t\t\t transparent system of governance, (D) provides\t\t\t transparent and accountable processes for the handling of financing, (E) provides recipient\t\t\t governments the choice to nominate a national implementing entity which meets\t\t\t agreed fiduciary standards to directly apply for and access funding, and (F) is fully\t\t\t consistent with article 11.1 of the UNFCCC which states that the fund must\t\t\t function under the guidance of and be accountable to the Conference of the\t\t\t Parties. (3) Funding to be\t\t\t additional \n",
      "It is the sense of\t\t\t the Congress that grants made under this subsection shall be in addition to\t\t\t (and shall not be a replacement for) other funding for global climate change\t\t\t adaptation and mitigation initiatives in developing countries.\n",
      "========== summary ==========\n",
      "Investing in Our Future Act of 2010 - Amends the Internal Revenue Code to impose an excise tax on currency transactions exceeding $10,000 equal to 0.005% of the value of the currency acquired in the transaction (currency transaction tax).\n",
      "\n",
      "Establishes in the Treasury: (1) the Child Care Assistance Trust Fund, which shall be funded with 20% of the revenues from the currency transactions tax and which shall be used to provide increased allocations to states for child care assistance; (2) the Multilateral Global Health Trust Fund, which shall be funded with 40% of the revenues from such tax and from which the Secretary of State shall make grants to assist developing countries in addressing HIV/AIDS, tuberculosis, malaria, maternal mortality, family planning, neglected diseases, and other health issues; and (3) the Global Climate Change Adaptation and Mitigation Trust Fund, which shall be funded with 40% of the revenues from such tax and which shall be used for contributions to a United Nations Framework Convention on Climate Change global climate fund for climate change adaptation and mitigation.\n"
     ]
    }
   ],
   "source": [
    "# access record\n",
    "print(ds_temp['train'][0])\n",
    "print_example(example=ds_temp['train'][0])\n",
    "# there are multiple sections: 'text' combines all sections. {text, id header}"
   ]
  },
  {
   "cell_type": "code",
   "execution_count": 6,
   "id": "c4aaf1c5-374b-49fa-9b8c-59e97b087492",
   "metadata": {},
   "outputs": [
    {
     "name": "stdout",
     "output_type": "stream",
     "text": [
      "{'id': Value(dtype='string', id=None), 'congress': Value(dtype='int64', id=None), 'bill_type': Value(dtype='string', id=None), 'bill_number': Value(dtype='int64', id=None), 'bill_version': Value(dtype='string', id=None), 'sections': [{'text': Value(dtype='string', id=None), 'id': Value(dtype='string', id=None), 'header': Value(dtype='string', id=None)}], 'sections_length': Value(dtype='int64', id=None), 'text': Value(dtype='string', id=None), 'text_length': Value(dtype='int64', id=None), 'summary': Value(dtype='string', id=None), 'summary_length': Value(dtype='int64', id=None), 'title': Value(dtype='string', id=None)}\n",
      "<class 'datasets.arrow_dataset.Dataset'>\n"
     ]
    }
   ],
   "source": [
    "print(ds_temp['train'].features)\n",
    "print(type(ds_temp['train']))"
   ]
  },
  {
   "cell_type": "markdown",
   "id": "3b187afe-f05a-4310-aec9-3d0b4ee845e0",
   "metadata": {},
   "source": [
    "## EDA\n",
    "*  the number of words of text, summary"
   ]
  },
  {
   "cell_type": "code",
   "execution_count": 7,
   "id": "aa83e438-f4ef-4727-8778-4514ede5e9aa",
   "metadata": {},
   "outputs": [
    {
     "data": {
      "application/vnd.jupyter.widget-view+json": {
       "model_id": "01a33d98feaf44eeab308a33c490164b",
       "version_major": 2,
       "version_minor": 0
      },
      "text/plain": [
       "Filter (num_proc=12):   0%|          | 0/100196 [00:00<?, ? examples/s]"
      ]
     },
     "metadata": {},
     "output_type": "display_data"
    },
    {
     "name": "stdout",
     "output_type": "stream",
     "text": [
      "Dataset({\n",
      "    features: ['id', 'congress', 'bill_type', 'bill_number', 'bill_version', 'sections', 'sections_length', 'text', 'text_length', 'summary', 'summary_length', 'title'],\n",
      "    num_rows: 100196\n",
      "})\n"
     ]
    }
   ],
   "source": [
    "# remove missing data\n",
    "col_names = ds_temp['train'].column_names\n",
    "\n",
    "# ds_temp.filter(lambda example: (example['text'] is not None) and (example['text'] is not None), num_proc=12)\n",
    "train = ds_temp['train'].filter(remove_missing_data, fn_kwargs={'col_list': col_names}, num_proc=12)\n",
    "print(train)"
   ]
  },
  {
   "cell_type": "code",
   "execution_count": 8,
   "id": "3156048e-e47d-438f-bf41-2a62a28eec73",
   "metadata": {},
   "outputs": [
    {
     "name": "stdout",
     "output_type": "stream",
     "text": [
      "<class 'pandas.core.frame.DataFrame'>\n",
      "RangeIndex: 100196 entries, 0 to 100195\n",
      "Data columns (total 4 columns):\n",
      " #   Column           Non-Null Count   Dtype \n",
      "---  ------           --------------   ----- \n",
      " 0   bill_type        100196 non-null  object\n",
      " 1   sections_length  100196 non-null  int64 \n",
      " 2   text_length      100196 non-null  int64 \n",
      " 3   summary_length   100196 non-null  int64 \n",
      "dtypes: int64(3), object(1)\n",
      "memory usage: 3.1+ MB\n"
     ]
    }
   ],
   "source": [
    "# extract: bill_type, sections_length, text_length, summary_length\n",
    "col_for_df = ['bill_type', 'sections_length', 'text_length', 'summary_length']\n",
    "meta_train_df = ( \n",
    "    train.select_columns(col_for_df)\n",
    "    .to_pandas()\n",
    ")\n",
    "meta_train_df.info()"
   ]
  },
  {
   "cell_type": "code",
   "execution_count": 9,
   "id": "eb5fb74d-fa00-48da-a96b-90fde5b1a1e5",
   "metadata": {},
   "outputs": [
    {
     "name": "stdout",
     "output_type": "stream",
     "text": [
      "bill_type\n",
      "hr         53814\n",
      "s          28420\n",
      "hres        9185\n",
      "sres        5201\n",
      "hconres     1809\n",
      "hjres        863\n",
      "sconres      501\n",
      "sjres        403\n",
      "Name: count, dtype: int64\n",
      "sections_length\n",
      "1     28890\n",
      "2     24713\n",
      "3     13805\n",
      "4      7754\n",
      "5      5094\n",
      "6      3480\n",
      "7      2871\n",
      "8      2178\n",
      "9      1740\n",
      "10     1299\n",
      "Name: count, dtype: int64\n",
      "sections_length\n",
      "1     28890\n",
      "2     24713\n",
      "3     13805\n",
      "4      7754\n",
      "5      5094\n",
      "6      3480\n",
      "7      2871\n",
      "8      2178\n",
      "9      1740\n",
      "10     1299\n",
      "Name: count, dtype: int64\n"
     ]
    }
   ],
   "source": [
    "# value counts\n",
    "print(meta_train_df['bill_type'].value_counts())\n",
    "print(meta_train_df['sections_length'].value_counts()[:10])\n",
    "print(meta_train_df['sections_length'].value_counts()[:10])\n",
    "# what is sections_length = 0?\n",
    "# for now, 1 section "
   ]
  },
  {
   "cell_type": "code",
   "execution_count": 10,
   "id": "6cbfd671-ffd0-4d5f-be89-4e8827d75fa2",
   "metadata": {},
   "outputs": [
    {
     "data": {
      "application/vnd.jupyter.widget-view+json": {
       "model_id": "355ee383fc604a92a1c3d2f1fd763048",
       "version_major": 2,
       "version_minor": 0
      },
      "text/plain": [
       "Filter (num_proc=12):   0%|          | 0/100196 [00:00<?, ? examples/s]"
      ]
     },
     "metadata": {},
     "output_type": "display_data"
    },
    {
     "name": "stdout",
     "output_type": "stream",
     "text": [
      "{'id': '117hr3239ih', 'congress': 117, 'bill_type': 'hr', 'bill_number': 3239, 'bill_version': 'ih', 'sections': [], 'sections_length': 0, 'text': '', 'text_length': 0, 'summary': 'This bill makes technical and conforming changes to the U.S. Code that are related to the enactment of title 41 (Public Contracts) into positive law.', 'summary_length': 149, 'title': 'To make improvements in the enactment of title 41, United States Code, into a positive law title and to improve the Code.'}\n"
     ]
    },
    {
     "data": {
      "text/html": [
       "<div>\n",
       "<style scoped>\n",
       "    .dataframe tbody tr th:only-of-type {\n",
       "        vertical-align: middle;\n",
       "    }\n",
       "\n",
       "    .dataframe tbody tr th {\n",
       "        vertical-align: top;\n",
       "    }\n",
       "\n",
       "    .dataframe thead th {\n",
       "        text-align: right;\n",
       "    }\n",
       "</style>\n",
       "<table border=\"1\" class=\"dataframe\">\n",
       "  <thead>\n",
       "    <tr style=\"text-align: right;\">\n",
       "      <th></th>\n",
       "      <th>bill_type</th>\n",
       "      <th>sections_length</th>\n",
       "      <th>text_length</th>\n",
       "      <th>summary_length</th>\n",
       "    </tr>\n",
       "  </thead>\n",
       "  <tbody>\n",
       "    <tr>\n",
       "      <th>100133</th>\n",
       "      <td>hr</td>\n",
       "      <td>0</td>\n",
       "      <td>0</td>\n",
       "      <td>149</td>\n",
       "    </tr>\n",
       "  </tbody>\n",
       "</table>\n",
       "</div>"
      ],
      "text/plain": [
       "       bill_type  sections_length  text_length  summary_length\n",
       "100133        hr                0            0             149"
      ]
     },
     "metadata": {},
     "output_type": "display_data"
    },
    {
     "data": {
      "text/html": [
       "<div>\n",
       "<style scoped>\n",
       "    .dataframe tbody tr th:only-of-type {\n",
       "        vertical-align: middle;\n",
       "    }\n",
       "\n",
       "    .dataframe tbody tr th {\n",
       "        vertical-align: top;\n",
       "    }\n",
       "\n",
       "    .dataframe thead th {\n",
       "        text-align: right;\n",
       "    }\n",
       "</style>\n",
       "<table border=\"1\" class=\"dataframe\">\n",
       "  <thead>\n",
       "    <tr style=\"text-align: right;\">\n",
       "      <th></th>\n",
       "      <th>bill_type</th>\n",
       "      <th>sections_length</th>\n",
       "      <th>text_length</th>\n",
       "      <th>summary_length</th>\n",
       "    </tr>\n",
       "  </thead>\n",
       "  <tbody>\n",
       "    <tr>\n",
       "      <th>100133</th>\n",
       "      <td>hr</td>\n",
       "      <td>0</td>\n",
       "      <td>0</td>\n",
       "      <td>149</td>\n",
       "    </tr>\n",
       "  </tbody>\n",
       "</table>\n",
       "</div>"
      ],
      "text/plain": [
       "       bill_type  sections_length  text_length  summary_length\n",
       "100133        hr                0            0             149"
      ]
     },
     "metadata": {},
     "output_type": "display_data"
    },
    {
     "data": {
      "text/html": [
       "<div>\n",
       "<style scoped>\n",
       "    .dataframe tbody tr th:only-of-type {\n",
       "        vertical-align: middle;\n",
       "    }\n",
       "\n",
       "    .dataframe tbody tr th {\n",
       "        vertical-align: top;\n",
       "    }\n",
       "\n",
       "    .dataframe thead th {\n",
       "        text-align: right;\n",
       "    }\n",
       "</style>\n",
       "<table border=\"1\" class=\"dataframe\">\n",
       "  <thead>\n",
       "    <tr style=\"text-align: right;\">\n",
       "      <th></th>\n",
       "      <th>bill_type</th>\n",
       "      <th>sections_length</th>\n",
       "      <th>text_length</th>\n",
       "      <th>summary_length</th>\n",
       "    </tr>\n",
       "  </thead>\n",
       "  <tbody>\n",
       "  </tbody>\n",
       "</table>\n",
       "</div>"
      ],
      "text/plain": [
       "Empty DataFrame\n",
       "Columns: [bill_type, sections_length, text_length, summary_length]\n",
       "Index: []"
      ]
     },
     "metadata": {},
     "output_type": "display_data"
    }
   ],
   "source": [
    "# sections_length = 0\n",
    "print(train.filter(lambda example: example['sections_length'] == 0, num_proc=12)[0])\n",
    "display(meta_train_df.loc[meta_train_df['sections_length'] == 0])\n",
    "# verify other text_length == 0, summary_length == 0\n",
    "display(meta_train_df.loc[meta_train_df['text_length'] == 0])\n",
    "display(meta_train_df.loc[meta_train_df['summary_length'] == 0])"
   ]
  },
  {
   "cell_type": "code",
   "execution_count": 11,
   "id": "2fe0e6ea-c82c-494c-a86f-714bf018591a",
   "metadata": {},
   "outputs": [
    {
     "data": {
      "image/png": "[encoded data removed]",
      "text/plain": [
       "<Figure size 1280x480 with 2 Axes>"
      ]
     },
     "metadata": {},
     "output_type": "display_data"
    },
    {
     "data": {
      "image/png": "[encoded data removed]",
      "text/plain": [
       "<Figure size 1280x480 with 2 Axes>"
      ]
     },
     "metadata": {},
     "output_type": "display_data"
    },
    {
     "data": {
      "image/png": "[encoded data removed]",
      "text/plain": [
       "<Figure size 640x480 with 1 Axes>"
      ]
     },
     "metadata": {},
     "output_type": "display_data"
    },
    {
     "data": {
      "image/png": "[encoded data removed]",
      "text/plain": [
       "<Figure size 640x480 with 1 Axes>"
      ]
     },
     "metadata": {},
     "output_type": "display_data"
    }
   ],
   "source": [
    "plot_text_length(meta_train_df, ['text_length', 'summary_length'])\n",
    "_ = plt.suptitle('all examples')\n",
    "plot_text_length(meta_train_df.loc[meta_train_df['sections_length'] == 1], ['text_length', 'summary_length'])\n",
    "_ = plt.suptitle('sections_length = 1')\n",
    "\n",
    "_ = plt.figure()\n",
    "_ = meta_train_df.loc[meta_train_df['sections_length'] == 1, ['text_length']].boxplot()\n",
    "_ = plt.title('sections_length = 1')\n",
    "\n",
    "_ = plt.figure()\n",
    "_ = meta_train_df.loc[meta_train_df['sections_length'] == 1, ['summary_length']].boxplot()\n",
    "_ = plt.title('sections_length = 1')"
   ]
  },
  {
   "cell_type": "code",
   "execution_count": 12,
   "id": "1a370598-f2f1-43d1-92ce-683186e446d5",
   "metadata": {},
   "outputs": [
    {
     "name": "stdout",
     "output_type": "stream",
     "text": [
      "{'text_length': (-566.0, 2018.0), 'summary_length': (-253.5, 846.5)}\n"
     ]
    }
   ],
   "source": [
    "cutoff_dict = find_outliers_cutoff(meta_train_df.loc[meta_train_df['sections_length'] == 1, ['text_length', 'summary_length']])\n",
    "print(cutoff_dict)"
   ]
  },
  {
   "cell_type": "code",
   "execution_count": 13,
   "id": "57c321dd-eecd-4564-95a8-b71b3af04b4c",
   "metadata": {},
   "outputs": [
    {
     "data": {
      "application/vnd.jupyter.widget-view+json": {
       "model_id": "620e4f03abfc47dc8be923a667e2bc04",
       "version_major": 2,
       "version_minor": 0
      },
      "text/plain": [
       "Filter (num_proc=12):   0%|          | 0/100196 [00:00<?, ? examples/s]"
      ]
     },
     "metadata": {},
     "output_type": "display_data"
    },
    {
     "data": {
      "application/vnd.jupyter.widget-view+json": {
       "model_id": "14ed4b71c52c45c1be8698d1dfc600ce",
       "version_major": 2,
       "version_minor": 0
      },
      "text/plain": [
       "Filter:   0%|          | 0/28890 [00:00<?, ? examples/s]"
      ]
     },
     "metadata": {},
     "output_type": "display_data"
    },
    {
     "data": {
      "application/vnd.jupyter.widget-view+json": {
       "model_id": "81fb0edf0c75474fa38ddd58869343d4",
       "version_major": 2,
       "version_minor": 0
      },
      "text/plain": [
       "Filter:   0%|          | 0/28890 [00:00<?, ? examples/s]"
      ]
     },
     "metadata": {},
     "output_type": "display_data"
    },
    {
     "data": {
      "application/vnd.jupyter.widget-view+json": {
       "model_id": "11a57eed8e854339b05d4d0c9cd561e7",
       "version_major": 2,
       "version_minor": 0
      },
      "text/plain": [
       "Filter (num_proc=12):   0%|          | 0/28890 [00:00<?, ? examples/s]"
      ]
     },
     "metadata": {},
     "output_type": "display_data"
    },
    {
     "name": "stdout",
     "output_type": "stream",
     "text": [
      "Dataset({\n",
      "    features: ['id', 'congress', 'bill_type', 'bill_number', 'bill_version', 'sections', 'sections_length', 'text', 'text_length', 'summary', 'summary_length', 'title'],\n",
      "    num_rows: 24861\n",
      "})\n",
      "remaining data ratio:  24.8124 %.\n"
     ]
    }
   ],
   "source": [
    "train_filtered = ( \n",
    "    # select only 1 section\n",
    "    train.filter(lambda example: example['sections_length'] == 1, num_proc=12)\n",
    "    # remove any zero text length, summary_length\n",
    "    .filter(lambda example: example['text_length'] > 0)\n",
    "    .filter(lambda example: example['summary_length'] > 0)\n",
    "    # text_length_outliers, summary_length_outliers\n",
    "    .filter(remove_outliers, fn_kwargs={'col_list': list(cutoff_dict.keys()), 'cutoff_dict': cutoff_dict}, num_proc=12)\n",
    ")\n",
    "\n",
    "print(train_filtered)\n",
    "\n",
    "# see how many examples survived\n",
    "data_ratio_in_perc = train_filtered.num_rows / train.num_rows * 100\n",
    "print(f'remaining data ratio: {data_ratio_in_perc: .4f} %.')\n"
   ]
  },
  {
   "cell_type": "code",
   "execution_count": 14,
   "id": "f277d998-2759-4e70-a76e-55f49af88a63",
   "metadata": {},
   "outputs": [
    {
     "data": {
      "image/png": "[encoded data removed]",
      "text/plain": [
       "<Figure size 1280x480 with 2 Axes>"
      ]
     },
     "metadata": {},
     "output_type": "display_data"
    }
   ],
   "source": [
    "fig2, (ax1, ax2) = plot_text_length(train_filtered.select_columns(['text_length', 'summary_length']).to_pandas(), col_list=['text_length', 'summary_length'])\n",
    "_ = fig2.suptitle('post outliers removal')"
   ]
  },
  {
   "cell_type": "code",
   "execution_count": 15,
   "id": "cce9b3b7-06a9-4d1e-ba6e-f4923d621762",
   "metadata": {},
   "outputs": [
    {
     "data": {
      "application/vnd.jupyter.widget-view+json": {
       "model_id": "55bcf83eb1b34318aecae967b3931a46",
       "version_major": 2,
       "version_minor": 0
      },
      "text/plain": [
       "Map (num_proc=12):   0%|          | 0/24861 [00:00<?, ? examples/s]"
      ]
     },
     "metadata": {},
     "output_type": "display_data"
    }
   ],
   "source": [
    "# count words\n",
    "col_for_count = ['text', 'summary']\n",
    "train_filtered = train_filtered.map(count_words, fn_kwargs={'col_list': col_for_count}, num_proc=12)\n",
    "\n",
    "# count_train.set_format('pandas')\n",
    "# return whole dataset\n",
    "count_train_df = train_filtered.select_columns(['count_text', 'count_summary']).to_pandas()"
   ]
  },
  {
   "cell_type": "code",
   "execution_count": 16,
   "id": "84743f92-b077-4231-ace4-21883ee90aa4",
   "metadata": {},
   "outputs": [
    {
     "name": "stdout",
     "output_type": "stream",
     "text": [
      "<class 'pandas.core.frame.DataFrame'>\n",
      "RangeIndex: 24861 entries, 0 to 24860\n",
      "Data columns (total 2 columns):\n",
      " #   Column         Non-Null Count  Dtype\n",
      "---  ------         --------------  -----\n",
      " 0   count_text     24861 non-null  int64\n",
      " 1   count_summary  24861 non-null  int64\n",
      "dtypes: int64(2)\n",
      "memory usage: 388.6 KB\n",
      "None\n",
      "         count_text  count_summary\n",
      "count  24861.000000   24861.000000\n",
      "mean      97.658461      43.496561\n",
      "std       60.577673      26.741416\n",
      "min        8.000000       4.000000\n",
      "25%       58.000000      23.000000\n",
      "50%       83.000000      36.000000\n",
      "75%      120.000000      57.000000\n",
      "max      390.000000     146.000000\n",
      "count_text       390\n",
      "count_summary    146\n",
      "dtype: int64\n"
     ]
    },
    {
     "data": {
      "image/png": "[encoded data removed]",
      "text/plain": [
       "<Figure size 1280x480 with 2 Axes>"
      ]
     },
     "metadata": {},
     "output_type": "display_data"
    }
   ],
   "source": [
    "print(count_train_df.info())\n",
    "print(count_train_df.describe())\n",
    "_ = plot_text_length(count_train_df, col_list=['count_text', 'count_summary'])\n",
    "print(count_train_df.max())"
   ]
  },
  {
   "cell_type": "code",
   "execution_count": 17,
   "id": "52a61f3b-5699-42dc-8884-e6ae4b7224ef",
   "metadata": {},
   "outputs": [],
   "source": [
    "# model_checkpoint = 'google/flan-t5-small'\n",
    "model_checkpoint = 'google/flan-t5-base'\n",
    "# model = AutoModelForSeq2SeqLM.from_pretrained(model_checkpoint)\n",
    "tokenizer = AutoTokenizer.from_pretrained(model_checkpoint)"
   ]
  },
  {
   "cell_type": "code",
   "execution_count": 18,
   "id": "a8671823-797b-4421-94bb-c262aadb9d7e",
   "metadata": {},
   "outputs": [
    {
     "data": {
      "application/vnd.jupyter.widget-view+json": {
       "model_id": "4cfe772698f54ce6a3111adba8d6109b",
       "version_major": 2,
       "version_minor": 0
      },
      "text/plain": [
       "Map (num_proc=12):   0%|          | 0/24861 [00:00<?, ? examples/s]"
      ]
     },
     "metadata": {},
     "output_type": "display_data"
    },
    {
     "data": {
      "application/vnd.jupyter.widget-view+json": {
       "model_id": "7c97f5910de748048a56c8dff21aed9a",
       "version_major": 2,
       "version_minor": 0
      },
      "text/plain": [
       "Map (num_proc=12):   0%|          | 0/24861 [00:00<?, ? examples/s]"
      ]
     },
     "metadata": {},
     "output_type": "display_data"
    },
    {
     "data": {
      "application/vnd.jupyter.widget-view+json": {
       "model_id": "42b64ffde3114ec492610682033cc7bf",
       "version_major": 2,
       "version_minor": 0
      },
      "text/plain": [
       "Map (num_proc=12):   0%|          | 0/24861 [00:00<?, ? examples/s]"
      ]
     },
     "metadata": {},
     "output_type": "display_data"
    }
   ],
   "source": [
    "# should creat prompt and tokenize\n",
    "# think about \\t\\t\\t\n",
    "train_preprocessed = train_filtered.map(process_tab, fn_kwargs={'col': 'text'}, num_proc=12)\n",
    "# create prompt\n",
    "train_preprocessed = train_preprocessed.map(create_prompt, fn_kwargs={'col_text': 'text', 'prompt_prefix': 'summarize'}, num_proc=12)\n",
    "# tokenize: need to specify max_input_length, when number of tokens is greater than default limit (512)\n",
    "max_input_length = 1024\n",
    "max_target_length = 512\n",
    "tokenized_train = train_preprocessed.map(\n",
    "    tokenize_example, \n",
    "    fn_kwargs={\n",
    "        'tokenizer': tokenizer, 'col_prompt': 'prompt', 'col_summary': 'summary', \n",
    "        'max_input_length': max_input_length, 'max_target_length': max_target_length, \n",
    "    },\n",
    "    batched=True, \n",
    "    batch_size=500,\n",
    "    num_proc=12,\n",
    ")\n",
    "\n",
    "# tokenize\n"
   ]
  },
  {
   "cell_type": "code",
   "execution_count": 19,
   "id": "e9b218dc-d59c-4bf1-8af4-4959662891a2",
   "metadata": {},
   "outputs": [
    {
     "data": {
      "application/vnd.jupyter.widget-view+json": {
       "model_id": "00a88c5291db41f0a9303432f6ba190f",
       "version_major": 2,
       "version_minor": 0
      },
      "text/plain": [
       "Map (num_proc=12):   0%|          | 0/24861 [00:00<?, ? examples/s]"
      ]
     },
     "metadata": {},
     "output_type": "display_data"
    },
    {
     "name": "stdout",
     "output_type": "stream",
     "text": [
      "count_tokens_input_ids    12\n",
      "count_tokens_label         9\n",
      "dtype: int64\n",
      "count_tokens_input_ids    796\n",
      "count_tokens_label        334\n",
      "dtype: int64\n",
      "Dataset({\n",
      "    features: ['id', 'congress', 'bill_type', 'bill_number', 'bill_version', 'sections', 'sections_length', 'text', 'text_length', 'summary', 'summary_length', 'title', 'count_text', 'count_summary', 'prompt', 'input_ids', 'attention_mask', 'label', 'count_tokens_input_ids', 'count_tokens_label'],\n",
      "    num_rows: 24861\n",
      "})\n"
     ]
    },
    {
     "data": {
      "image/png": "[encoded data removed]",
      "text/plain": [
       "<Figure size 1280x480 with 2 Axes>"
      ]
     },
     "metadata": {},
     "output_type": "display_data"
    }
   ],
   "source": [
    "# count tokens\n",
    "tokenized_train = tokenized_train.map(count_tokens, fn_kwargs={'col_list': ['input_ids', 'label']}, num_proc=12)\n",
    "\n",
    "# token counts\n",
    "count_tokens_df = tokenized_train.select_columns(['count_tokens_input_ids', 'count_tokens_label']).to_pandas()\n",
    "print(count_tokens_df.min())\n",
    "print(count_tokens_df.max())\n",
    "_ = plot_text_length(count_tokens_df, col_list=['count_tokens_input_ids', 'count_tokens_label'])\n",
    "\n",
    "print(tokenized_train)"
   ]
  },
  {
   "cell_type": "code",
   "execution_count": 20,
   "id": "a698a16a-1744-4c1c-b909-23c86775fff4",
   "metadata": {},
   "outputs": [
    {
     "name": "stdout",
     "output_type": "stream",
     "text": [
      "2228\n",
      "Index([   19,    40,    64,    93,   102,   126,   152,   178,   191,   199,\n",
      "       ...\n",
      "       24712, 24713, 24749, 24770, 24778, 24779, 24782, 24797, 24819, 24849],\n",
      "      dtype='int64', length=2228)\n",
      "count    24861.000000\n",
      "mean         0.552524\n",
      "std          0.367244\n",
      "min          0.023622\n",
      "25%          0.276316\n",
      "50%          0.467290\n",
      "75%          0.774194\n",
      "max          5.333333\n",
      "dtype: float64\n"
     ]
    }
   ],
   "source": [
    "# summary ratio\n",
    "summary_ratio = count_tokens_df['count_tokens_label'] / count_tokens_df['count_tokens_input_ids']\n",
    "# summary_ratio.plot(kind='hist')\n",
    "print(len(summary_ratio[(summary_ratio > 1)].index))\n",
    "print(summary_ratio[(summary_ratio > 1)].index)\n",
    "print(summary_ratio.describe())\n",
    "# tokenized_train.select_columns(['text', 'summary'])[(summary_ratio > 1)]"
   ]
  },
  {
   "cell_type": "code",
   "execution_count": 21,
   "id": "07419228-871a-41d8-97e7-ce08fa33295b",
   "metadata": {},
   "outputs": [
    {
     "data": {
      "text/html": [
       "<div>\n",
       "<style scoped>\n",
       "    .dataframe tbody tr th:only-of-type {\n",
       "        vertical-align: middle;\n",
       "    }\n",
       "\n",
       "    .dataframe tbody tr th {\n",
       "        vertical-align: top;\n",
       "    }\n",
       "\n",
       "    .dataframe thead th {\n",
       "        text-align: right;\n",
       "    }\n",
       "</style>\n",
       "<table border=\"1\" class=\"dataframe\">\n",
       "  <thead>\n",
       "    <tr style=\"text-align: right;\">\n",
       "      <th></th>\n",
       "      <th>count_tokens_input_ids</th>\n",
       "      <th>count_tokens_label</th>\n",
       "    </tr>\n",
       "  </thead>\n",
       "  <tbody>\n",
       "    <tr>\n",
       "      <th>count</th>\n",
       "      <td>22484.000000</td>\n",
       "      <td>22484.000000</td>\n",
       "    </tr>\n",
       "    <tr>\n",
       "      <th>mean</th>\n",
       "      <td>148.961350</td>\n",
       "      <td>59.170121</td>\n",
       "    </tr>\n",
       "    <tr>\n",
       "      <th>std</th>\n",
       "      <td>87.667488</td>\n",
       "      <td>35.207066</td>\n",
       "    </tr>\n",
       "    <tr>\n",
       "      <th>min</th>\n",
       "      <td>15.000000</td>\n",
       "      <td>9.000000</td>\n",
       "    </tr>\n",
       "    <tr>\n",
       "      <th>25%</th>\n",
       "      <td>90.000000</td>\n",
       "      <td>33.000000</td>\n",
       "    </tr>\n",
       "    <tr>\n",
       "      <th>50%</th>\n",
       "      <td>127.000000</td>\n",
       "      <td>49.000000</td>\n",
       "    </tr>\n",
       "    <tr>\n",
       "      <th>75%</th>\n",
       "      <td>185.000000</td>\n",
       "      <td>76.000000</td>\n",
       "    </tr>\n",
       "    <tr>\n",
       "      <th>max</th>\n",
       "      <td>796.000000</td>\n",
       "      <td>334.000000</td>\n",
       "    </tr>\n",
       "  </tbody>\n",
       "</table>\n",
       "</div>"
      ],
      "text/plain": [
       "       count_tokens_input_ids  count_tokens_label\n",
       "count            22484.000000        22484.000000\n",
       "mean               148.961350           59.170121\n",
       "std                 87.667488           35.207066\n",
       "min                 15.000000            9.000000\n",
       "25%                 90.000000           33.000000\n",
       "50%                127.000000           49.000000\n",
       "75%                185.000000           76.000000\n",
       "max                796.000000          334.000000"
      ]
     },
     "execution_count": 21,
     "metadata": {},
     "output_type": "execute_result"
    },
    {
     "data": {
      "image/png": "[encoded data removed]",
      "text/plain": [
       "<Figure size 640x480 with 1 Axes>"
      ]
     },
     "metadata": {},
     "output_type": "display_data"
    }
   ],
   "source": [
    "# 24861 remove 2228\n",
    "summary_ratio[(summary_ratio < 1)].plot(kind='hist', bins=50)\n",
    "count_tokens_df[(summary_ratio < 1)].describe()"
   ]
  },
  {
   "cell_type": "markdown",
   "id": "d3f29ae9-f03d-4b3c-bca8-5c205976e86c",
   "metadata": {},
   "source": [
    "## validation and test data"
   ]
  },
  {
   "cell_type": "code",
   "execution_count": 22,
   "id": "cea7cd8c-78b3-4802-88f7-d96bb1ebaa8c",
   "metadata": {},
   "outputs": [
    {
     "data": {
      "application/vnd.jupyter.widget-view+json": {
       "model_id": "84de5efee83b482eada2f1d95c9a0519",
       "version_major": 2,
       "version_minor": 0
      },
      "text/plain": [
       "Filter:   0%|          | 0/12525 [00:00<?, ? examples/s]"
      ]
     },
     "metadata": {},
     "output_type": "display_data"
    },
    {
     "data": {
      "application/vnd.jupyter.widget-view+json": {
       "model_id": "17cc912115714b14915a5c246a293e0f",
       "version_major": 2,
       "version_minor": 0
      },
      "text/plain": [
       "Filter (num_proc=12):   0%|          | 0/12525 [00:00<?, ? examples/s]"
      ]
     },
     "metadata": {},
     "output_type": "display_data"
    },
    {
     "data": {
      "application/vnd.jupyter.widget-view+json": {
       "model_id": "8aebf66a408640ffa1c1fc1b56428557",
       "version_major": 2,
       "version_minor": 0
      },
      "text/plain": [
       "Filter (num_proc=12):   0%|          | 0/3647 [00:00<?, ? examples/s]"
      ]
     },
     "metadata": {},
     "output_type": "display_data"
    },
    {
     "data": {
      "application/vnd.jupyter.widget-view+json": {
       "model_id": "3f8250a3a2e743d2be42139b78867cac",
       "version_major": 2,
       "version_minor": 0
      },
      "text/plain": [
       "Filter (num_proc=12):   0%|          | 0/3647 [00:00<?, ? examples/s]"
      ]
     },
     "metadata": {},
     "output_type": "display_data"
    },
    {
     "data": {
      "application/vnd.jupyter.widget-view+json": {
       "model_id": "8b9b2e6b32e54f65937c0bf7b2a43bc3",
       "version_major": 2,
       "version_minor": 0
      },
      "text/plain": [
       "Filter (num_proc=12):   0%|          | 0/3647 [00:00<?, ? examples/s]"
      ]
     },
     "metadata": {},
     "output_type": "display_data"
    },
    {
     "data": {
      "application/vnd.jupyter.widget-view+json": {
       "model_id": "ab43f3b95dc4461b947c4d00012d0baf",
       "version_major": 2,
       "version_minor": 0
      },
      "text/plain": [
       "Map (num_proc=12):   0%|          | 0/3116 [00:00<?, ? examples/s]"
      ]
     },
     "metadata": {},
     "output_type": "display_data"
    },
    {
     "data": {
      "application/vnd.jupyter.widget-view+json": {
       "model_id": "431a6115f52141c8a693735afc83ca8b",
       "version_major": 2,
       "version_minor": 0
      },
      "text/plain": [
       "Map (num_proc=12):   0%|          | 0/3116 [00:00<?, ? examples/s]"
      ]
     },
     "metadata": {},
     "output_type": "display_data"
    },
    {
     "data": {
      "application/vnd.jupyter.widget-view+json": {
       "model_id": "3c81480275764809806aef7fe8d41835",
       "version_major": 2,
       "version_minor": 0
      },
      "text/plain": [
       "Map (num_proc=12):   0%|          | 0/3116 [00:00<?, ? examples/s]"
      ]
     },
     "metadata": {},
     "output_type": "display_data"
    },
    {
     "data": {
      "application/vnd.jupyter.widget-view+json": {
       "model_id": "ea850f3362e74dd09739b070987c7554",
       "version_major": 2,
       "version_minor": 0
      },
      "text/plain": [
       "Map (num_proc=12):   0%|          | 0/3116 [00:00<?, ? examples/s]"
      ]
     },
     "metadata": {},
     "output_type": "display_data"
    },
    {
     "data": {
      "application/vnd.jupyter.widget-view+json": {
       "model_id": "1a5cea878f9443e3a965146a36ecd521",
       "version_major": 2,
       "version_minor": 0
      },
      "text/plain": [
       "Map (num_proc=12):   0%|          | 0/3116 [00:00<?, ? examples/s]"
      ]
     },
     "metadata": {},
     "output_type": "display_data"
    },
    {
     "data": {
      "application/vnd.jupyter.widget-view+json": {
       "model_id": "c17ca6c131984460a68d16c1f09765cb",
       "version_major": 2,
       "version_minor": 0
      },
      "text/plain": [
       "Filter:   0%|          | 0/12525 [00:00<?, ? examples/s]"
      ]
     },
     "metadata": {},
     "output_type": "display_data"
    },
    {
     "data": {
      "application/vnd.jupyter.widget-view+json": {
       "model_id": "8bd15bb450fc47c78195045af59b1342",
       "version_major": 2,
       "version_minor": 0
      },
      "text/plain": [
       "Filter (num_proc=12):   0%|          | 0/12525 [00:00<?, ? examples/s]"
      ]
     },
     "metadata": {},
     "output_type": "display_data"
    },
    {
     "data": {
      "application/vnd.jupyter.widget-view+json": {
       "model_id": "af71bad713e84549bda71483ec8871b4",
       "version_major": 2,
       "version_minor": 0
      },
      "text/plain": [
       "Filter (num_proc=12):   0%|          | 0/3527 [00:00<?, ? examples/s]"
      ]
     },
     "metadata": {},
     "output_type": "display_data"
    },
    {
     "data": {
      "application/vnd.jupyter.widget-view+json": {
       "model_id": "0eb5466eda1c4a56ad7e02a83010e9c6",
       "version_major": 2,
       "version_minor": 0
      },
      "text/plain": [
       "Filter (num_proc=12):   0%|          | 0/3527 [00:00<?, ? examples/s]"
      ]
     },
     "metadata": {},
     "output_type": "display_data"
    },
    {
     "data": {
      "application/vnd.jupyter.widget-view+json": {
       "model_id": "c1cedfce191c40eca8a6b6adddf1b8a2",
       "version_major": 2,
       "version_minor": 0
      },
      "text/plain": [
       "Filter (num_proc=12):   0%|          | 0/3527 [00:00<?, ? examples/s]"
      ]
     },
     "metadata": {},
     "output_type": "display_data"
    },
    {
     "data": {
      "application/vnd.jupyter.widget-view+json": {
       "model_id": "fb4c020f3f0d477a8f6b90baf906ec41",
       "version_major": 2,
       "version_minor": 0
      },
      "text/plain": [
       "Map (num_proc=12):   0%|          | 0/3051 [00:00<?, ? examples/s]"
      ]
     },
     "metadata": {},
     "output_type": "display_data"
    },
    {
     "data": {
      "application/vnd.jupyter.widget-view+json": {
       "model_id": "1c3bb09fa81645eebd128ee1eea7ce53",
       "version_major": 2,
       "version_minor": 0
      },
      "text/plain": [
       "Map (num_proc=12):   0%|          | 0/3051 [00:00<?, ? examples/s]"
      ]
     },
     "metadata": {},
     "output_type": "display_data"
    },
    {
     "data": {
      "application/vnd.jupyter.widget-view+json": {
       "model_id": "071e6858aa0340248e83b2cfb8fed545",
       "version_major": 2,
       "version_minor": 0
      },
      "text/plain": [
       "Map (num_proc=12):   0%|          | 0/3051 [00:00<?, ? examples/s]"
      ]
     },
     "metadata": {},
     "output_type": "display_data"
    },
    {
     "data": {
      "application/vnd.jupyter.widget-view+json": {
       "model_id": "fad41a8c7b2449faad3643660701b419",
       "version_major": 2,
       "version_minor": 0
      },
      "text/plain": [
       "Map (num_proc=12):   0%|          | 0/3051 [00:00<?, ? examples/s]"
      ]
     },
     "metadata": {},
     "output_type": "display_data"
    },
    {
     "data": {
      "application/vnd.jupyter.widget-view+json": {
       "model_id": "d3f153f138a849b6823368b2c20acea4",
       "version_major": 2,
       "version_minor": 0
      },
      "text/plain": [
       "Map (num_proc=12):   0%|          | 0/3051 [00:00<?, ? examples/s]"
      ]
     },
     "metadata": {},
     "output_type": "display_data"
    }
   ],
   "source": [
    "# validation\n",
    "ds_preprocessed_dev = preprocessing(\n",
    "    ds_temp['dev'], col_names, cutoff_dict, col_for_count, tokenizer, max_input_length, max_target_length\n",
    ")\n",
    "# test\n",
    "ds_preprocessed_test = preprocessing(\n",
    "    ds_temp['test'], col_names, cutoff_dict, col_for_count, tokenizer, max_input_length, max_target_length\n",
    ")\n",
    "\n",
    "# combined with tokenized_train"
   ]
  },
  {
   "cell_type": "code",
   "execution_count": 23,
   "id": "7cc4bf64-a9b8-4ad7-ab83-99c6022b7514",
   "metadata": {},
   "outputs": [
    {
     "name": "stdout",
     "output_type": "stream",
     "text": [
      "DatasetDict({\n",
      "    train: Dataset({\n",
      "        features: ['id', 'congress', 'bill_type', 'bill_number', 'bill_version', 'sections', 'sections_length', 'text', 'text_length', 'summary', 'summary_length', 'title', 'count_text', 'count_summary', 'prompt', 'input_ids', 'attention_mask', 'label', 'count_tokens_input_ids', 'count_tokens_label'],\n",
      "        num_rows: 24861\n",
      "    })\n",
      "    dev: Dataset({\n",
      "        features: ['id', 'congress', 'bill_type', 'bill_number', 'bill_version', 'sections', 'sections_length', 'text', 'text_length', 'summary', 'summary_length', 'title', 'count_text', 'count_summary', 'prompt', 'input_ids', 'attention_mask', 'label', 'count_tokens_input_ids', 'count_tokens_label'],\n",
      "        num_rows: 3116\n",
      "    })\n",
      "    test: Dataset({\n",
      "        features: ['id', 'congress', 'bill_type', 'bill_number', 'bill_version', 'sections', 'sections_length', 'text', 'text_length', 'summary', 'summary_length', 'title', 'count_text', 'count_summary', 'prompt', 'input_ids', 'attention_mask', 'label', 'count_tokens_input_ids', 'count_tokens_label'],\n",
      "        num_rows: 3051\n",
      "    })\n",
      "})\n"
     ]
    }
   ],
   "source": [
    "# combined with tokenized_train\n",
    "ds_preprocessed = DatasetDict(\n",
    "    {\n",
    "        'train': tokenized_train, \n",
    "        'dev': ds_preprocessed_dev, \n",
    "        'test': ds_preprocessed_test\n",
    "    }\n",
    ")\n",
    "print(ds_preprocessed)"
   ]
  },
  {
   "cell_type": "markdown",
   "id": "e960d435-24cf-41eb-8172-b4241fe41ec4",
   "metadata": {},
   "source": [
    "## Save preprocessed data"
   ]
  },
  {
   "cell_type": "code",
   "execution_count": 24,
   "id": "ea9bfc32-7b48-4e91-9415-32a57be91e99",
   "metadata": {},
   "outputs": [
    {
     "data": {
      "application/vnd.jupyter.widget-view+json": {
       "model_id": "45a8b5cf06c14f7e9052ff788a758abc",
       "version_major": 2,
       "version_minor": 0
      },
      "text/plain": [
       "Saving the dataset (0/1 shards):   0%|          | 0/24861 [00:00<?, ? examples/s]"
      ]
     },
     "metadata": {},
     "output_type": "display_data"
    },
    {
     "data": {
      "application/vnd.jupyter.widget-view+json": {
       "model_id": "665e13f4cc004b78b00e8122ee233cae",
       "version_major": 2,
       "version_minor": 0
      },
      "text/plain": [
       "Saving the dataset (0/1 shards):   0%|          | 0/3116 [00:00<?, ? examples/s]"
      ]
     },
     "metadata": {},
     "output_type": "display_data"
    },
    {
     "data": {
      "application/vnd.jupyter.widget-view+json": {
       "model_id": "71c736913c8c44a48ecbdeef2e9cf100",
       "version_major": 2,
       "version_minor": 0
      },
      "text/plain": [
       "Saving the dataset (0/1 shards):   0%|          | 0/3051 [00:00<?, ? examples/s]"
      ]
     },
     "metadata": {},
     "output_type": "display_data"
    },
    {
     "name": "stdout",
     "output_type": "stream",
     "text": [
      "dataset_dict.json  dev\ttest  train\n"
     ]
    }
   ],
   "source": [
    "ds_preprocessed.save_to_disk(path_preprocessed)\n",
    "!ls {path_preprocessed}"
   ]
  },
  {
   "cell_type": "code",
   "execution_count": 25,
   "id": "7c8e1285-8e16-4861-b5d2-6c38a3c60bfb",
   "metadata": {},
   "outputs": [
    {
     "data": {
      "text/plain": [
       "DatasetDict({\n",
       "    train: Dataset({\n",
       "        features: ['id', 'congress', 'bill_type', 'bill_number', 'bill_version', 'sections', 'sections_length', 'text', 'text_length', 'summary', 'summary_length', 'title', 'count_text', 'count_summary', 'prompt', 'input_ids', 'attention_mask', 'label', 'count_tokens_input_ids', 'count_tokens_label'],\n",
       "        num_rows: 24861\n",
       "    })\n",
       "    dev: Dataset({\n",
       "        features: ['id', 'congress', 'bill_type', 'bill_number', 'bill_version', 'sections', 'sections_length', 'text', 'text_length', 'summary', 'summary_length', 'title', 'count_text', 'count_summary', 'prompt', 'input_ids', 'attention_mask', 'label', 'count_tokens_input_ids', 'count_tokens_label'],\n",
       "        num_rows: 3116\n",
       "    })\n",
       "    test: Dataset({\n",
       "        features: ['id', 'congress', 'bill_type', 'bill_number', 'bill_version', 'sections', 'sections_length', 'text', 'text_length', 'summary', 'summary_length', 'title', 'count_text', 'count_summary', 'prompt', 'input_ids', 'attention_mask', 'label', 'count_tokens_input_ids', 'count_tokens_label'],\n",
       "        num_rows: 3051\n",
       "    })\n",
       "})"
      ]
     },
     "execution_count": 25,
     "metadata": {},
     "output_type": "execute_result"
    }
   ],
   "source": [
    "ds_preprocessed"
   ]
  },
  {
   "cell_type": "code",
   "execution_count": null,
   "id": "297933a6-415f-4401-b316-fc31cf030d4b",
   "metadata": {},
   "outputs": [],
   "source": []
  }
 ],
 "metadata": {
  "kernelspec": {
   "display_name": "Python 3 (ipykernel)",
   "language": "python",
   "name": "python3"
  },
  "language_info": {
   "codemirror_mode": {
    "name": "ipython",
    "version": 3
   },
   "file_extension": ".py",
   "mimetype": "text/x-python",
   "name": "python",
   "nbconvert_exporter": "python",
   "pygments_lexer": "ipython3",
   "version": "3.9.18"
  }
 },
 "nbformat": 4,
 "nbformat_minor": 5
}
