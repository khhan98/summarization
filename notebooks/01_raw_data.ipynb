{
 "cells": [
  {
   "cell_type": "markdown",
   "id": "98527646-06a3-4bc0-94f5-bf41a407025a",
   "metadata": {},
   "source": [
    "# Text Summarization: 01. Raw data."
   ]
  },
  {
   "cell_type": "markdown",
   "id": "e23ede4e-a1f5-4df8-9ca3-bbdf1bda4f45",
   "metadata": {},
   "source": [
    "* Model: Sequence-to-sequence model\n",
    "    * decode-only model needs examples: one shot or few shot.\n",
    "    * Potential baseline model: the first three sentences.\n",
    "    * T5 or Flan T5?\n",
    "        * it has prefix: `summarize:`, `document:`, versatile, https://huggingface.co/docs/transformers/model_doc/t5\n",
    "        * https://huggingface.co/docs/transformers/model_doc/flan-t5\n",
    "* Data source\n",
    "    * Longform Article summarization: https://huggingface.co/datasets/vgoldberg/longform_article_summarization?row=0 (too long)\n",
    "    * CNN daily mail: https://huggingface.co/datasets/cnn_dailymail average token 781, summary: 56 tokens, download last months: 94k\n",
    "    * Bill Summary: https://huggingface.co/datasets/dreamproit/bill_summary_us , text: 4,687 chars, summary: 640 chars, download: 3\n",
    "    * Medical meadow: https://huggingface.co/datasets/medalpaca/medical_meadow_cord19, from abstract to title, download: 127 (sometimes: non-english)\n",
    "    * Chemical summary: https://huggingface.co/datasets/griffin/ChemSum, from abstract to title, download: 122\n",
    "    * Selected Bill Summary data\n",
    "* Data Analysis: the number of tokens\n",
    "* Metrics: ROUGE score\n",
    "* instruction fine tuning with QLORA\n",
    "* Data Loading: dataset or iterable dataset: https://huggingface.co/docs/datasets/about_mapstyle_vs_iterable"
   ]
  },
  {
   "cell_type": "markdown",
   "id": "33e104c6-1d32-4543-8b47-57fd1962f02f",
   "metadata": {},
   "source": [
    "* CUDA install\n",
    "    1. Use additional driver GUI\n",
    "    2. type nvidia-smi to check cuda version\n",
    "    3. install pytorch according to cuda version"
   ]
  },
  {
   "cell_type": "markdown",
   "id": "029866f2-c4b1-4281-8d4f-ef04c620b2d1",
   "metadata": {},
   "source": [
    "## Import libraries"
   ]
  },
  {
   "cell_type": "code",
   "execution_count": 2,
   "id": "24955666-c2e7-468c-b958-0d252710a771",
   "metadata": {},
   "outputs": [],
   "source": [
    "import os\n",
    "from datasets import load_dataset, list_datasets, DatasetDict"
   ]
  },
  {
   "cell_type": "code",
   "execution_count": 3,
   "id": "fef7a0ab-42fc-40a8-a7ee-3cc1a974155e",
   "metadata": {},
   "outputs": [],
   "source": [
    "# set variables\n",
    "SEED = 1234\n",
    "curr_path = os.getcwd()\n",
    "path_raw = os.path.join(curr_path, '../data/raw', 'bill_summary_us')\n",
    "# dataset_name = 'vgoldberg/longform_article_summarization'\n",
    "dataset_name = 'dreamproit/bill_summary_us'"
   ]
  },
  {
   "cell_type": "markdown",
   "id": "f2777e48-ccfe-4739-8094-3fe8458054f3",
   "metadata": {},
   "source": [
    "# load dataset\n",
    "* Current dataset has only train\n",
    "* Split train val test\n",
    "* Need DatasetDict"
   ]
  },
  {
   "cell_type": "code",
   "execution_count": 4,
   "id": "d13bac0c-036f-4538-85fc-56c2659520bd",
   "metadata": {},
   "outputs": [
    {
     "name": "stderr",
     "output_type": "stream",
     "text": [
      "/tmp/ipykernel_41148/3008630791.py:2: FutureWarning: list_datasets is deprecated and will be removed in the next major version of datasets. Use 'huggingface_hub.list_datasets' instead.\n",
      "  dataset_list = list_datasets()\n"
     ]
    },
    {
     "data": {
      "application/vnd.jupyter.widget-view+json": {
       "model_id": "8b29074c57914dd6969255fa87e4f609",
       "version_major": 2,
       "version_minor": 0
      },
      "text/plain": [
       "Downloading readme:   0%|          | 0.00/6.08k [00:00<?, ?B/s]"
      ]
     },
     "metadata": {},
     "output_type": "display_data"
    },
    {
     "data": {
      "application/vnd.jupyter.widget-view+json": {
       "model_id": "50e9326079c1417b9bc0020187aa7a1b",
       "version_major": 2,
       "version_minor": 0
      },
      "text/plain": [
       "Downloading data files:   0%|          | 0/1 [00:00<?, ?it/s]"
      ]
     },
     "metadata": {},
     "output_type": "display_data"
    },
    {
     "data": {
      "application/vnd.jupyter.widget-view+json": {
       "model_id": "80a4135e7d3f4fef846dce15d00cb42b",
       "version_major": 2,
       "version_minor": 0
      },
      "text/plain": [
       "Downloading data:   0%|          | 0.00/3.65G [00:00<?, ?B/s]"
      ]
     },
     "metadata": {},
     "output_type": "display_data"
    },
    {
     "data": {
      "application/vnd.jupyter.widget-view+json": {
       "model_id": "20e90a8c54314905ba6d66d5773a0c44",
       "version_major": 2,
       "version_minor": 0
      },
      "text/plain": [
       "Extracting data files:   0%|          | 0/1 [00:00<?, ?it/s]"
      ]
     },
     "metadata": {},
     "output_type": "display_data"
    },
    {
     "data": {
      "application/vnd.jupyter.widget-view+json": {
       "model_id": "7c231b2080bf421498a9e059f4221a03",
       "version_major": 2,
       "version_minor": 0
      },
      "text/plain": [
       "Generating train split: 0 examples [00:00, ? examples/s]"
      ]
     },
     "metadata": {},
     "output_type": "display_data"
    },
    {
     "name": "stdout",
     "output_type": "stream",
     "text": [
      "DatasetDict({\n",
      "    train: Dataset({\n",
      "        features: ['id', 'congress', 'bill_type', 'bill_number', 'bill_version', 'sections', 'sections_length', 'text', 'text_length', 'summary', 'summary_length', 'title'],\n",
      "        num_rows: 125246\n",
      "    })\n",
      "})\n"
     ]
    }
   ],
   "source": [
    "# list datasets\n",
    "dataset_list = list_datasets()\n",
    "if dataset_name in dataset_list:\n",
    "    dataset = load_dataset(dataset_name)\n",
    "print(dataset)"
   ]
  },
  {
   "cell_type": "markdown",
   "id": "e8d956e3-03c4-47d2-a77c-d0f1f5278101",
   "metadata": {},
   "source": [
    "## Split train, dev, test"
   ]
  },
  {
   "cell_type": "code",
   "execution_count": 5,
   "id": "6cfd2501-d1a9-45d9-b35e-315820551daa",
   "metadata": {},
   "outputs": [
    {
     "name": "stdout",
     "output_type": "stream",
     "text": [
      "DatasetDict({\n",
      "    train: Dataset({\n",
      "        features: ['id', 'congress', 'bill_type', 'bill_number', 'bill_version', 'sections', 'sections_length', 'text', 'text_length', 'summary', 'summary_length', 'title'],\n",
      "        num_rows: 100196\n",
      "    })\n",
      "    dev: Dataset({\n",
      "        features: ['id', 'congress', 'bill_type', 'bill_number', 'bill_version', 'sections', 'sections_length', 'text', 'text_length', 'summary', 'summary_length', 'title'],\n",
      "        num_rows: 12525\n",
      "    })\n",
      "    test: Dataset({\n",
      "        features: ['id', 'congress', 'bill_type', 'bill_number', 'bill_version', 'sections', 'sections_length', 'text', 'text_length', 'summary', 'summary_length', 'title'],\n",
      "        num_rows: 12525\n",
      "    })\n",
      "})\n"
     ]
    }
   ],
   "source": [
    "# train, dev, test: 80%, 10%, 10%\n",
    "dataset_train_devtest = dataset['train'].train_test_split(train_size=0.8, shuffle=True, seed=SEED)\n",
    "dataset_dev_test = dataset_train_devtest['test'].train_test_split(train_size=0.5, shuffle=True, seed=SEED)\n",
    "dataset_splits = DatasetDict(\n",
    "    {\n",
    "        'train': dataset_train_devtest['train'], \n",
    "        'dev': dataset_dev_test['train'], \n",
    "        'test': dataset_dev_test['test']\n",
    "    }\n",
    ")\n",
    "print(dataset_splits)"
   ]
  },
  {
   "cell_type": "markdown",
   "id": "73f4ef28-dca5-4fd1-87e4-85ce7015b6bf",
   "metadata": {},
   "source": [
    "## Save to disk for later use"
   ]
  },
  {
   "cell_type": "code",
   "execution_count": 6,
   "id": "1c1545ff-a678-4048-bc1b-787cb3bce600",
   "metadata": {},
   "outputs": [
    {
     "data": {
      "application/vnd.jupyter.widget-view+json": {
       "model_id": "3850a8d25ed34ee5b20b52cfc39e956b",
       "version_major": 2,
       "version_minor": 0
      },
      "text/plain": [
       "Saving the dataset (0/6 shards):   0%|          | 0/100196 [00:00<?, ? examples/s]"
      ]
     },
     "metadata": {},
     "output_type": "display_data"
    },
    {
     "data": {
      "application/vnd.jupyter.widget-view+json": {
       "model_id": "e2ecf650f02b4370935f27501e2b2b3b",
       "version_major": 2,
       "version_minor": 0
      },
      "text/plain": [
       "Saving the dataset (0/1 shards):   0%|          | 0/12525 [00:00<?, ? examples/s]"
      ]
     },
     "metadata": {},
     "output_type": "display_data"
    },
    {
     "data": {
      "application/vnd.jupyter.widget-view+json": {
       "model_id": "df6b2ef131764bafa318a9b242da7192",
       "version_major": 2,
       "version_minor": 0
      },
      "text/plain": [
       "Saving the dataset (0/1 shards):   0%|          | 0/12525 [00:00<?, ? examples/s]"
      ]
     },
     "metadata": {},
     "output_type": "display_data"
    },
    {
     "name": "stdout",
     "output_type": "stream",
     "text": [
      "path to the raw data: /media/stephen/HDD2/Document/Research/document_summarization/summarization/notebooks/../data/raw/bill_summary_us\n",
      "dataset_dict.json  dev\ttest  train\n"
     ]
    }
   ],
   "source": [
    "# Save\n",
    "dataset_splits.save_to_disk(path_raw)\n",
    "print(f'path to the raw data: {path_raw}')\n",
    "!ls {path_raw}"
   ]
  }
 ],
 "metadata": {
  "kernelspec": {
   "display_name": "Python 3 (ipykernel)",
   "language": "python",
   "name": "python3"
  },
  "language_info": {
   "codemirror_mode": {
    "name": "ipython",
    "version": 3
   },
   "file_extension": ".py",
   "mimetype": "text/x-python",
   "name": "python",
   "nbconvert_exporter": "python",
   "pygments_lexer": "ipython3",
   "version": "3.9.18"
  }
 },
 "nbformat": 4,
 "nbformat_minor": 5
}
