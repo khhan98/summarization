{
 "cells": [
  {
   "cell_type": "markdown",
   "id": "98527646-06a3-4bc0-94f5-bf41a407025a",
   "metadata": {},
   "source": [
    "# Text Summarization"
   ]
  },
  {
   "cell_type": "markdown",
   "id": "e23ede4e-a1f5-4df8-9ca3-bbdf1bda4f45",
   "metadata": {},
   "source": [
    "* Model: Sequence-to-sequence model, decode-only model needs examples: one shot or few shot.\n",
    "    * baseline model: the first three sentences.\n",
    "    * T5 or Flan T5? it has prefix: summarize: , document: versatile, https://huggingface.co/docs/transformers/model_doc/t5\n",
    "* Data source: Longform Article summarization: https://huggingface.co/datasets/vgoldberg/longform_article_summarization?row=0\n",
    "* Data Analysis: the number of tokens\n",
    "* Metrics: ROUGE score\n",
    "* instruction fine tuning with QLORA"
   ]
  },
  {
   "cell_type": "markdown",
   "id": "33e104c6-1d32-4543-8b47-57fd1962f02f",
   "metadata": {},
   "source": [
    "* CUDA install\n",
    "1. Use additional driver GUI\n",
    "2. type nvidia-smi to check cuda version\n",
    "3. install pytorch according to cuda version"
   ]
  },
  {
   "cell_type": "markdown",
   "id": "029866f2-c4b1-4281-8d4f-ef04c620b2d1",
   "metadata": {},
   "source": [
    "## Import libraries"
   ]
  },
  {
   "cell_type": "code",
   "execution_count": 1,
   "id": "24955666-c2e7-468c-b958-0d252710a771",
   "metadata": {},
   "outputs": [],
   "source": [
    "import os\n",
    "from datasets import load_dataset, list_datasets, DatasetDict"
   ]
  },
  {
   "cell_type": "code",
   "execution_count": 2,
   "id": "fef7a0ab-42fc-40a8-a7ee-3cc1a974155e",
   "metadata": {},
   "outputs": [],
   "source": [
    "# set variables\n",
    "SEED = 1234\n",
    "curr_path = os.getcwd()\n",
    "path_raw = os.path.join(curr_path, '../data/raw')\n",
    "dataset_name = 'vgoldberg/longform_article_summarization'"
   ]
  },
  {
   "cell_type": "markdown",
   "id": "f2777e48-ccfe-4739-8094-3fe8458054f3",
   "metadata": {},
   "source": [
    "# load dataset\n",
    "* Current dataset has only train\n",
    "* Split train val test\n",
    "* Need DatasetDict"
   ]
  },
  {
   "cell_type": "code",
   "execution_count": 3,
   "id": "d13bac0c-036f-4538-85fc-56c2659520bd",
   "metadata": {},
   "outputs": [
    {
     "name": "stderr",
     "output_type": "stream",
     "text": [
      "/tmp/ipykernel_13217/3008630791.py:2: FutureWarning: list_datasets is deprecated and will be removed in the next major version of datasets. Use 'huggingface_hub.list_datasets' instead.\n",
      "  dataset_list = list_datasets()\n"
     ]
    },
    {
     "name": "stdout",
     "output_type": "stream",
     "text": [
      "DatasetDict({\n",
      "    train: Dataset({\n",
      "        features: ['text', 'summary'],\n",
      "        num_rows: 105256\n",
      "    })\n",
      "})\n"
     ]
    }
   ],
   "source": [
    "# list datasets\n",
    "dataset_list = list_datasets()\n",
    "if dataset_name in dataset_list:\n",
    "    dataset = load_dataset(dataset_name)\n",
    "print(dataset)"
   ]
  },
  {
   "cell_type": "markdown",
   "id": "e8d956e3-03c4-47d2-a77c-d0f1f5278101",
   "metadata": {},
   "source": [
    "## Split train, dev, test"
   ]
  },
  {
   "cell_type": "code",
   "execution_count": 4,
   "id": "6cfd2501-d1a9-45d9-b35e-315820551daa",
   "metadata": {},
   "outputs": [
    {
     "name": "stdout",
     "output_type": "stream",
     "text": [
      "DatasetDict({\n",
      "    train: Dataset({\n",
      "        features: ['text', 'summary'],\n",
      "        num_rows: 84204\n",
      "    })\n",
      "    dev: Dataset({\n",
      "        features: ['text', 'summary'],\n",
      "        num_rows: 10526\n",
      "    })\n",
      "    test: Dataset({\n",
      "        features: ['text', 'summary'],\n",
      "        num_rows: 10526\n",
      "    })\n",
      "})\n"
     ]
    }
   ],
   "source": [
    "# train, dev, test: 80%, 10%, 10%\n",
    "dataset_train_devtest = dataset['train'].train_test_split(train_size=0.8, shuffle=True, seed=SEED)\n",
    "dataset_dev_test = dataset_train_devtest['test'].train_test_split(train_size=0.5, shuffle=True, seed=SEED)\n",
    "dataset_splits = DatasetDict(\n",
    "    {\n",
    "        'train': dataset_train_devtest['train'], \n",
    "        'dev': dataset_dev_test['train'], \n",
    "        'test': dataset_dev_test['test']\n",
    "    }\n",
    ")\n",
    "print(dataset_splits)"
   ]
  },
  {
   "cell_type": "markdown",
   "id": "73f4ef28-dca5-4fd1-87e4-85ce7015b6bf",
   "metadata": {},
   "source": [
    "## Save to disk for later use"
   ]
  },
  {
   "cell_type": "code",
   "execution_count": 5,
   "id": "1c1545ff-a678-4048-bc1b-787cb3bce600",
   "metadata": {},
   "outputs": [
    {
     "data": {
      "application/vnd.jupyter.widget-view+json": {
       "model_id": "e280276a93304a2882454283bd30dcae",
       "version_major": 2,
       "version_minor": 0
      },
      "text/plain": [
       "Saving the dataset (0/4 shards):   0%|          | 0/84204 [00:00<?, ? examples/s]"
      ]
     },
     "metadata": {},
     "output_type": "display_data"
    },
    {
     "data": {
      "application/vnd.jupyter.widget-view+json": {
       "model_id": "972561de711543159c95b712813c5246",
       "version_major": 2,
       "version_minor": 0
      },
      "text/plain": [
       "Saving the dataset (0/1 shards):   0%|          | 0/10526 [00:00<?, ? examples/s]"
      ]
     },
     "metadata": {},
     "output_type": "display_data"
    },
    {
     "data": {
      "application/vnd.jupyter.widget-view+json": {
       "model_id": "d7f50b8babdc4897ae048f54f31e2268",
       "version_major": 2,
       "version_minor": 0
      },
      "text/plain": [
       "Saving the dataset (0/1 shards):   0%|          | 0/10526 [00:00<?, ? examples/s]"
      ]
     },
     "metadata": {},
     "output_type": "display_data"
    },
    {
     "name": "stdout",
     "output_type": "stream",
     "text": [
      "dataset_dict.json  dev\ttest  train\n"
     ]
    }
   ],
   "source": [
    "# Save\n",
    "dataset_splits.save_to_disk(path_raw)\n",
    "!ls {path_raw}"
   ]
  },
  {
   "cell_type": "code",
   "execution_count": null,
   "id": "f85f4c7d-a22e-4df9-9e39-038c282e5128",
   "metadata": {},
   "outputs": [],
   "source": []
  }
 ],
 "metadata": {
  "kernelspec": {
   "display_name": "Python 3 (ipykernel)",
   "language": "python",
   "name": "python3"
  },
  "language_info": {
   "codemirror_mode": {
    "name": "ipython",
    "version": 3
   },
   "file_extension": ".py",
   "mimetype": "text/x-python",
   "name": "python",
   "nbconvert_exporter": "python",
   "pygments_lexer": "ipython3",
   "version": "3.9.18"
  }
 },
 "nbformat": 4,
 "nbformat_minor": 5
}
